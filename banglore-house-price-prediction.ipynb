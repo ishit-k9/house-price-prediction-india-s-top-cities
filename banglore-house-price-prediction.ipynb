{
 "cells": [
  {
   "cell_type": "markdown",
   "id": "698ea2d3",
   "metadata": {
    "id": "3tPLKZdRg1Hi",
    "papermill": {
     "duration": 0.01582,
     "end_time": "2025-02-14T16:22:36.201658",
     "exception": false,
     "start_time": "2025-02-14T16:22:36.185838",
     "status": "completed"
    },
    "tags": []
   },
   "source": [
    "# **START**"
   ]
  },
  {
   "cell_type": "code",
   "execution_count": 1,
   "id": "b0abbcf2",
   "metadata": {
    "execution": {
     "iopub.execute_input": "2025-02-14T16:22:36.228489Z",
     "iopub.status.busy": "2025-02-14T16:22:36.228196Z",
     "iopub.status.idle": "2025-02-14T16:22:39.565844Z",
     "shell.execute_reply": "2025-02-14T16:22:39.565073Z"
    },
    "executionInfo": {
     "elapsed": 619,
     "status": "ok",
     "timestamp": 1739544586246,
     "user": {
      "displayName": "Ishit Gehlot",
      "userId": "01473306695467736694"
     },
     "user_tz": -330
    },
    "id": "4UtXg-g_gzwo",
    "papermill": {
     "duration": 3.353404,
     "end_time": "2025-02-14T16:22:39.567546",
     "exception": false,
     "start_time": "2025-02-14T16:22:36.214142",
     "status": "completed"
    },
    "tags": []
   },
   "outputs": [],
   "source": [
    "import numpy as np\n",
    "import pandas as pd\n",
    "import matplotlib.pyplot as plt\n",
    "import seaborn as sns\n",
    "from sklearn.model_selection import train_test_split, GridSearchCV\n",
    "from sklearn.linear_model import LinearRegression\n",
    "from sklearn.metrics import r2_score, mean_absolute_error , mean_squared_error\n",
    "from sklearn.tree import DecisionTreeRegressor\n",
    "from sklearn.ensemble import RandomForestRegressor, GradientBoostingRegressor\n",
    "from sklearn.preprocessing import OneHotEncoder, MinMaxScaler, FunctionTransformer\n",
    "from sklearn.compose import ColumnTransformer, make_column_selector\n",
    "from sklearn.impute import KNNImputer\n",
    "from sklearn.pipeline import Pipeline\n",
    "from sklearn.model_selection import cross_val_score\n",
    "from sklearn.base import BaseEstimator , TransformerMixin"
   ]
  },
  {
   "cell_type": "code",
   "execution_count": 2,
   "id": "48426391",
   "metadata": {
    "execution": {
     "iopub.execute_input": "2025-02-14T16:22:39.594831Z",
     "iopub.status.busy": "2025-02-14T16:22:39.594385Z",
     "iopub.status.idle": "2025-02-14T16:22:39.600303Z",
     "shell.execute_reply": "2025-02-14T16:22:39.599439Z"
    },
    "executionInfo": {
     "elapsed": 37,
     "status": "error",
     "timestamp": 1739544587999,
     "user": {
      "displayName": "Ishit Gehlot",
      "userId": "01473306695467736694"
     },
     "user_tz": -330
    },
    "id": "52SNfh969BV5",
    "outputId": "ff16d948-5917-4d85-9a4e-b68cb5eaf883",
    "papermill": {
     "duration": 0.020995,
     "end_time": "2025-02-14T16:22:39.601914",
     "exception": false,
     "start_time": "2025-02-14T16:22:39.580919",
     "status": "completed"
    },
    "tags": []
   },
   "outputs": [
    {
     "name": "stdout",
     "output_type": "stream",
     "text": [
      "numpy version 1.26.4\n",
      "pandas version 2.2.3\n",
      "sklearn version 1.2.2\n"
     ]
    }
   ],
   "source": [
    "import sklearn\n",
    "print('numpy version',np.__version__)\n",
    "print('pandas version',pd.__version__)\n",
    "print('sklearn version', sklearn.__version__)"
   ]
  },
  {
   "cell_type": "code",
   "execution_count": 3,
   "id": "f383ce52",
   "metadata": {
    "execution": {
     "iopub.execute_input": "2025-02-14T16:22:39.627451Z",
     "iopub.status.busy": "2025-02-14T16:22:39.627134Z",
     "iopub.status.idle": "2025-02-14T16:22:39.671285Z",
     "shell.execute_reply": "2025-02-14T16:22:39.670435Z"
    },
    "executionInfo": {
     "elapsed": 30,
     "status": "ok",
     "timestamp": 1739544588001,
     "user": {
      "displayName": "Ishit Gehlot",
      "userId": "01473306695467736694"
     },
     "user_tz": -330
    },
    "id": "AXjHss93hNnE",
    "papermill": {
     "duration": 0.058706,
     "end_time": "2025-02-14T16:22:39.672970",
     "exception": false,
     "start_time": "2025-02-14T16:22:39.614264",
     "status": "completed"
    },
    "tags": []
   },
   "outputs": [],
   "source": [
    "bang = pd.read_csv('/kaggle/input/bangluru-house-dataset/bengaluru_house_prices.csv')"
   ]
  },
  {
   "cell_type": "code",
   "execution_count": 4,
   "id": "da454d1d",
   "metadata": {
    "execution": {
     "iopub.execute_input": "2025-02-14T16:22:39.698714Z",
     "iopub.status.busy": "2025-02-14T16:22:39.698459Z",
     "iopub.status.idle": "2025-02-14T16:22:39.723176Z",
     "shell.execute_reply": "2025-02-14T16:22:39.722268Z"
    },
    "executionInfo": {
     "elapsed": 29,
     "status": "ok",
     "timestamp": 1739544588001,
     "user": {
      "displayName": "Ishit Gehlot",
      "userId": "01473306695467736694"
     },
     "user_tz": -330
    },
    "id": "0f8q-jpgjWqi",
    "outputId": "30ff2ad3-89c4-4f9d-8067-32e4bc6e5f7c",
    "papermill": {
     "duration": 0.039455,
     "end_time": "2025-02-14T16:22:39.724775",
     "exception": false,
     "start_time": "2025-02-14T16:22:39.685320",
     "status": "completed"
    },
    "tags": []
   },
   "outputs": [
    {
     "data": {
      "text/html": [
       "<div>\n",
       "<style scoped>\n",
       "    .dataframe tbody tr th:only-of-type {\n",
       "        vertical-align: middle;\n",
       "    }\n",
       "\n",
       "    .dataframe tbody tr th {\n",
       "        vertical-align: top;\n",
       "    }\n",
       "\n",
       "    .dataframe thead th {\n",
       "        text-align: right;\n",
       "    }\n",
       "</style>\n",
       "<table border=\"1\" class=\"dataframe\">\n",
       "  <thead>\n",
       "    <tr style=\"text-align: right;\">\n",
       "      <th></th>\n",
       "      <th>area_type</th>\n",
       "      <th>availability</th>\n",
       "      <th>location</th>\n",
       "      <th>size</th>\n",
       "      <th>society</th>\n",
       "      <th>total_sqft</th>\n",
       "      <th>bath</th>\n",
       "      <th>balcony</th>\n",
       "      <th>price</th>\n",
       "    </tr>\n",
       "  </thead>\n",
       "  <tbody>\n",
       "    <tr>\n",
       "      <th>0</th>\n",
       "      <td>Super built-up  Area</td>\n",
       "      <td>19-Dec</td>\n",
       "      <td>Electronic City Phase II</td>\n",
       "      <td>2 BHK</td>\n",
       "      <td>Coomee</td>\n",
       "      <td>1056</td>\n",
       "      <td>2.0</td>\n",
       "      <td>1.0</td>\n",
       "      <td>39.07</td>\n",
       "    </tr>\n",
       "    <tr>\n",
       "      <th>1</th>\n",
       "      <td>Plot  Area</td>\n",
       "      <td>Ready To Move</td>\n",
       "      <td>Chikka Tirupathi</td>\n",
       "      <td>4 Bedroom</td>\n",
       "      <td>Theanmp</td>\n",
       "      <td>2600</td>\n",
       "      <td>5.0</td>\n",
       "      <td>3.0</td>\n",
       "      <td>120.00</td>\n",
       "    </tr>\n",
       "    <tr>\n",
       "      <th>2</th>\n",
       "      <td>Built-up  Area</td>\n",
       "      <td>Ready To Move</td>\n",
       "      <td>Uttarahalli</td>\n",
       "      <td>3 BHK</td>\n",
       "      <td>NaN</td>\n",
       "      <td>1440</td>\n",
       "      <td>2.0</td>\n",
       "      <td>3.0</td>\n",
       "      <td>62.00</td>\n",
       "    </tr>\n",
       "    <tr>\n",
       "      <th>3</th>\n",
       "      <td>Super built-up  Area</td>\n",
       "      <td>Ready To Move</td>\n",
       "      <td>Lingadheeranahalli</td>\n",
       "      <td>3 BHK</td>\n",
       "      <td>Soiewre</td>\n",
       "      <td>1521</td>\n",
       "      <td>3.0</td>\n",
       "      <td>1.0</td>\n",
       "      <td>95.00</td>\n",
       "    </tr>\n",
       "    <tr>\n",
       "      <th>4</th>\n",
       "      <td>Super built-up  Area</td>\n",
       "      <td>Ready To Move</td>\n",
       "      <td>Kothanur</td>\n",
       "      <td>2 BHK</td>\n",
       "      <td>NaN</td>\n",
       "      <td>1200</td>\n",
       "      <td>2.0</td>\n",
       "      <td>1.0</td>\n",
       "      <td>51.00</td>\n",
       "    </tr>\n",
       "  </tbody>\n",
       "</table>\n",
       "</div>"
      ],
      "text/plain": [
       "              area_type   availability                  location       size  \\\n",
       "0  Super built-up  Area         19-Dec  Electronic City Phase II      2 BHK   \n",
       "1            Plot  Area  Ready To Move          Chikka Tirupathi  4 Bedroom   \n",
       "2        Built-up  Area  Ready To Move               Uttarahalli      3 BHK   \n",
       "3  Super built-up  Area  Ready To Move        Lingadheeranahalli      3 BHK   \n",
       "4  Super built-up  Area  Ready To Move                  Kothanur      2 BHK   \n",
       "\n",
       "   society total_sqft  bath  balcony   price  \n",
       "0  Coomee        1056   2.0      1.0   39.07  \n",
       "1  Theanmp       2600   5.0      3.0  120.00  \n",
       "2      NaN       1440   2.0      3.0   62.00  \n",
       "3  Soiewre       1521   3.0      1.0   95.00  \n",
       "4      NaN       1200   2.0      1.0   51.00  "
      ]
     },
     "execution_count": 4,
     "metadata": {},
     "output_type": "execute_result"
    }
   ],
   "source": [
    "bang.head()"
   ]
  },
  {
   "cell_type": "markdown",
   "id": "60c3d187",
   "metadata": {
    "id": "zCDQV1vEoSQH",
    "papermill": {
     "duration": 0.012019,
     "end_time": "2025-02-14T16:22:39.750195",
     "exception": false,
     "start_time": "2025-02-14T16:22:39.738176",
     "status": "completed"
    },
    "tags": []
   },
   "source": [
    "# **FEATURE ENGINEERING**"
   ]
  },
  {
   "cell_type": "code",
   "execution_count": 5,
   "id": "d4804d55",
   "metadata": {
    "execution": {
     "iopub.execute_input": "2025-02-14T16:22:39.775905Z",
     "iopub.status.busy": "2025-02-14T16:22:39.775624Z",
     "iopub.status.idle": "2025-02-14T16:22:39.785112Z",
     "shell.execute_reply": "2025-02-14T16:22:39.784322Z"
    },
    "executionInfo": {
     "elapsed": 27,
     "status": "ok",
     "timestamp": 1739544588001,
     "user": {
      "displayName": "Ishit Gehlot",
      "userId": "01473306695467736694"
     },
     "user_tz": -330
    },
    "id": "QXwQj2J8oQ43",
    "papermill": {
     "duration": 0.023803,
     "end_time": "2025-02-14T16:22:39.786226",
     "exception": false,
     "start_time": "2025-02-14T16:22:39.762423",
     "status": "completed"
    },
    "tags": []
   },
   "outputs": [],
   "source": [
    "#\n",
    "bang = bang.drop('society', axis = 1)"
   ]
  },
  {
   "cell_type": "code",
   "execution_count": 6,
   "id": "2c0ce73a",
   "metadata": {
    "execution": {
     "iopub.execute_input": "2025-02-14T16:22:39.812458Z",
     "iopub.status.busy": "2025-02-14T16:22:39.812122Z",
     "iopub.status.idle": "2025-02-14T16:22:39.827208Z",
     "shell.execute_reply": "2025-02-14T16:22:39.826394Z"
    },
    "executionInfo": {
     "elapsed": 26,
     "status": "ok",
     "timestamp": 1739544588001,
     "user": {
      "displayName": "Ishit Gehlot",
      "userId": "01473306695467736694"
     },
     "user_tz": -330
    },
    "id": "OTk3OigJmJ3J",
    "outputId": "586fb93f-b5af-4367-c761-34bbfa004cae",
    "papermill": {
     "duration": 0.029121,
     "end_time": "2025-02-14T16:22:39.828235",
     "exception": false,
     "start_time": "2025-02-14T16:22:39.799114",
     "status": "completed"
    },
    "tags": []
   },
   "outputs": [
    {
     "data": {
      "text/plain": [
       "area_type\n",
       "Super built-up  Area    8790\n",
       "Built-up  Area          2418\n",
       "Plot  Area              2025\n",
       "Carpet  Area              87\n",
       "Name: count, dtype: int64"
      ]
     },
     "execution_count": 6,
     "metadata": {},
     "output_type": "execute_result"
    }
   ],
   "source": [
    "bang['area_type'].value_counts()"
   ]
  },
  {
   "cell_type": "code",
   "execution_count": 7,
   "id": "7c4a5efa",
   "metadata": {
    "execution": {
     "iopub.execute_input": "2025-02-14T16:22:39.853308Z",
     "iopub.status.busy": "2025-02-14T16:22:39.853025Z",
     "iopub.status.idle": "2025-02-14T16:22:39.870648Z",
     "shell.execute_reply": "2025-02-14T16:22:39.869377Z"
    },
    "executionInfo": {
     "elapsed": 25,
     "status": "ok",
     "timestamp": 1739544588002,
     "user": {
      "displayName": "Ishit Gehlot",
      "userId": "01473306695467736694"
     },
     "user_tz": -330
    },
    "id": "JDtBLC-StjIO",
    "outputId": "50748a71-8ace-40d8-dc82-dce7aa5bcab7",
    "papermill": {
     "duration": 0.0316,
     "end_time": "2025-02-14T16:22:39.871962",
     "exception": false,
     "start_time": "2025-02-14T16:22:39.840362",
     "status": "completed"
    },
    "tags": []
   },
   "outputs": [
    {
     "name": "stderr",
     "output_type": "stream",
     "text": [
      "/usr/local/lib/python3.10/dist-packages/pandas/io/formats/format.py:1458: RuntimeWarning: invalid value encountered in greater\n",
      "  has_large_values = (abs_vals > 1e6).any()\n",
      "/usr/local/lib/python3.10/dist-packages/pandas/io/formats/format.py:1459: RuntimeWarning: invalid value encountered in less\n",
      "  has_small_values = ((abs_vals < 10 ** (-self.digits)) & (abs_vals > 0)).any()\n",
      "/usr/local/lib/python3.10/dist-packages/pandas/io/formats/format.py:1459: RuntimeWarning: invalid value encountered in greater\n",
      "  has_small_values = ((abs_vals < 10 ** (-self.digits)) & (abs_vals > 0)).any()\n"
     ]
    },
    {
     "data": {
      "text/html": [
       "<div>\n",
       "<style scoped>\n",
       "    .dataframe tbody tr th:only-of-type {\n",
       "        vertical-align: middle;\n",
       "    }\n",
       "\n",
       "    .dataframe tbody tr th {\n",
       "        vertical-align: top;\n",
       "    }\n",
       "\n",
       "    .dataframe thead th {\n",
       "        text-align: right;\n",
       "    }\n",
       "</style>\n",
       "<table border=\"1\" class=\"dataframe\">\n",
       "  <thead>\n",
       "    <tr style=\"text-align: right;\">\n",
       "      <th></th>\n",
       "      <th>area_type</th>\n",
       "      <th>availability</th>\n",
       "      <th>location</th>\n",
       "      <th>size</th>\n",
       "      <th>total_sqft</th>\n",
       "      <th>bath</th>\n",
       "      <th>balcony</th>\n",
       "      <th>price</th>\n",
       "    </tr>\n",
       "  </thead>\n",
       "  <tbody>\n",
       "    <tr>\n",
       "      <th>0</th>\n",
       "      <td>Super built-up  Area</td>\n",
       "      <td>19-Dec</td>\n",
       "      <td>Electronic City Phase II</td>\n",
       "      <td>2 BHK</td>\n",
       "      <td>1056</td>\n",
       "      <td>2.0</td>\n",
       "      <td>1.0</td>\n",
       "      <td>39.07</td>\n",
       "    </tr>\n",
       "    <tr>\n",
       "      <th>1</th>\n",
       "      <td>Plot  Area</td>\n",
       "      <td>Ready To Move</td>\n",
       "      <td>Chikka Tirupathi</td>\n",
       "      <td>4 Bedroom</td>\n",
       "      <td>2600</td>\n",
       "      <td>5.0</td>\n",
       "      <td>3.0</td>\n",
       "      <td>120.00</td>\n",
       "    </tr>\n",
       "    <tr>\n",
       "      <th>2</th>\n",
       "      <td>Built-up  Area</td>\n",
       "      <td>Ready To Move</td>\n",
       "      <td>Uttarahalli</td>\n",
       "      <td>3 BHK</td>\n",
       "      <td>1440</td>\n",
       "      <td>2.0</td>\n",
       "      <td>3.0</td>\n",
       "      <td>62.00</td>\n",
       "    </tr>\n",
       "    <tr>\n",
       "      <th>3</th>\n",
       "      <td>Super built-up  Area</td>\n",
       "      <td>Ready To Move</td>\n",
       "      <td>Lingadheeranahalli</td>\n",
       "      <td>3 BHK</td>\n",
       "      <td>1521</td>\n",
       "      <td>3.0</td>\n",
       "      <td>1.0</td>\n",
       "      <td>95.00</td>\n",
       "    </tr>\n",
       "    <tr>\n",
       "      <th>4</th>\n",
       "      <td>Super built-up  Area</td>\n",
       "      <td>Ready To Move</td>\n",
       "      <td>Kothanur</td>\n",
       "      <td>2 BHK</td>\n",
       "      <td>1200</td>\n",
       "      <td>2.0</td>\n",
       "      <td>1.0</td>\n",
       "      <td>51.00</td>\n",
       "    </tr>\n",
       "    <tr>\n",
       "      <th>...</th>\n",
       "      <td>...</td>\n",
       "      <td>...</td>\n",
       "      <td>...</td>\n",
       "      <td>...</td>\n",
       "      <td>...</td>\n",
       "      <td>...</td>\n",
       "      <td>...</td>\n",
       "      <td>...</td>\n",
       "    </tr>\n",
       "    <tr>\n",
       "      <th>13315</th>\n",
       "      <td>Built-up  Area</td>\n",
       "      <td>Ready To Move</td>\n",
       "      <td>Whitefield</td>\n",
       "      <td>5 Bedroom</td>\n",
       "      <td>3453</td>\n",
       "      <td>4.0</td>\n",
       "      <td>0.0</td>\n",
       "      <td>231.00</td>\n",
       "    </tr>\n",
       "    <tr>\n",
       "      <th>13316</th>\n",
       "      <td>Super built-up  Area</td>\n",
       "      <td>Ready To Move</td>\n",
       "      <td>Richards Town</td>\n",
       "      <td>4 BHK</td>\n",
       "      <td>3600</td>\n",
       "      <td>5.0</td>\n",
       "      <td>NaN</td>\n",
       "      <td>400.00</td>\n",
       "    </tr>\n",
       "    <tr>\n",
       "      <th>13317</th>\n",
       "      <td>Built-up  Area</td>\n",
       "      <td>Ready To Move</td>\n",
       "      <td>Raja Rajeshwari Nagar</td>\n",
       "      <td>2 BHK</td>\n",
       "      <td>1141</td>\n",
       "      <td>2.0</td>\n",
       "      <td>1.0</td>\n",
       "      <td>60.00</td>\n",
       "    </tr>\n",
       "    <tr>\n",
       "      <th>13318</th>\n",
       "      <td>Super built-up  Area</td>\n",
       "      <td>18-Jun</td>\n",
       "      <td>Padmanabhanagar</td>\n",
       "      <td>4 BHK</td>\n",
       "      <td>4689</td>\n",
       "      <td>4.0</td>\n",
       "      <td>1.0</td>\n",
       "      <td>488.00</td>\n",
       "    </tr>\n",
       "    <tr>\n",
       "      <th>13319</th>\n",
       "      <td>Super built-up  Area</td>\n",
       "      <td>Ready To Move</td>\n",
       "      <td>Doddathoguru</td>\n",
       "      <td>1 BHK</td>\n",
       "      <td>550</td>\n",
       "      <td>1.0</td>\n",
       "      <td>1.0</td>\n",
       "      <td>17.00</td>\n",
       "    </tr>\n",
       "  </tbody>\n",
       "</table>\n",
       "<p>13320 rows × 8 columns</p>\n",
       "</div>"
      ],
      "text/plain": [
       "                  area_type   availability                  location  \\\n",
       "0      Super built-up  Area         19-Dec  Electronic City Phase II   \n",
       "1                Plot  Area  Ready To Move          Chikka Tirupathi   \n",
       "2            Built-up  Area  Ready To Move               Uttarahalli   \n",
       "3      Super built-up  Area  Ready To Move        Lingadheeranahalli   \n",
       "4      Super built-up  Area  Ready To Move                  Kothanur   \n",
       "...                     ...            ...                       ...   \n",
       "13315        Built-up  Area  Ready To Move                Whitefield   \n",
       "13316  Super built-up  Area  Ready To Move             Richards Town   \n",
       "13317        Built-up  Area  Ready To Move     Raja Rajeshwari Nagar   \n",
       "13318  Super built-up  Area         18-Jun           Padmanabhanagar   \n",
       "13319  Super built-up  Area  Ready To Move              Doddathoguru   \n",
       "\n",
       "            size total_sqft  bath  balcony   price  \n",
       "0          2 BHK       1056   2.0      1.0   39.07  \n",
       "1      4 Bedroom       2600   5.0      3.0  120.00  \n",
       "2          3 BHK       1440   2.0      3.0   62.00  \n",
       "3          3 BHK       1521   3.0      1.0   95.00  \n",
       "4          2 BHK       1200   2.0      1.0   51.00  \n",
       "...          ...        ...   ...      ...     ...  \n",
       "13315  5 Bedroom       3453   4.0      0.0  231.00  \n",
       "13316      4 BHK       3600   5.0      NaN  400.00  \n",
       "13317      2 BHK       1141   2.0      1.0   60.00  \n",
       "13318      4 BHK       4689   4.0      1.0  488.00  \n",
       "13319      1 BHK        550   1.0      1.0   17.00  \n",
       "\n",
       "[13320 rows x 8 columns]"
      ]
     },
     "execution_count": 7,
     "metadata": {},
     "output_type": "execute_result"
    }
   ],
   "source": [
    "bang"
   ]
  },
  {
   "cell_type": "code",
   "execution_count": 8,
   "id": "0fb0e29e",
   "metadata": {
    "execution": {
     "iopub.execute_input": "2025-02-14T16:22:39.899146Z",
     "iopub.status.busy": "2025-02-14T16:22:39.898881Z",
     "iopub.status.idle": "2025-02-14T16:22:39.996030Z",
     "shell.execute_reply": "2025-02-14T16:22:39.995226Z"
    },
    "executionInfo": {
     "elapsed": 813,
     "status": "ok",
     "timestamp": 1739544588792,
     "user": {
      "displayName": "Ishit Gehlot",
      "userId": "01473306695467736694"
     },
     "user_tz": -330
    },
    "id": "_-xf95Jlt782",
    "papermill": {
     "duration": 0.111966,
     "end_time": "2025-02-14T16:22:39.997485",
     "exception": false,
     "start_time": "2025-02-14T16:22:39.885519",
     "status": "completed"
    },
    "tags": []
   },
   "outputs": [],
   "source": [
    "#\n",
    "bang['BHK'] = bang['size'].str.extract('(\\d+)', expand=True)"
   ]
  },
  {
   "cell_type": "code",
   "execution_count": 9,
   "id": "1b2a3977",
   "metadata": {
    "execution": {
     "iopub.execute_input": "2025-02-14T16:22:40.023576Z",
     "iopub.status.busy": "2025-02-14T16:22:40.023243Z",
     "iopub.status.idle": "2025-02-14T16:22:40.027931Z",
     "shell.execute_reply": "2025-02-14T16:22:40.027094Z"
    },
    "executionInfo": {
     "elapsed": 38,
     "status": "ok",
     "timestamp": 1739544588792,
     "user": {
      "displayName": "Ishit Gehlot",
      "userId": "01473306695467736694"
     },
     "user_tz": -330
    },
    "id": "QThkX0jvvWRh",
    "papermill": {
     "duration": 0.019039,
     "end_time": "2025-02-14T16:22:40.029173",
     "exception": false,
     "start_time": "2025-02-14T16:22:40.010134",
     "status": "completed"
    },
    "tags": []
   },
   "outputs": [],
   "source": [
    "#\n",
    "bang.drop('size', axis = 1, inplace = True)"
   ]
  },
  {
   "cell_type": "code",
   "execution_count": 10,
   "id": "baca0075",
   "metadata": {
    "execution": {
     "iopub.execute_input": "2025-02-14T16:22:40.055500Z",
     "iopub.status.busy": "2025-02-14T16:22:40.055191Z",
     "iopub.status.idle": "2025-02-14T16:22:40.060662Z",
     "shell.execute_reply": "2025-02-14T16:22:40.059776Z"
    },
    "executionInfo": {
     "elapsed": 38,
     "status": "ok",
     "timestamp": 1739544588793,
     "user": {
      "displayName": "Ishit Gehlot",
      "userId": "01473306695467736694"
     },
     "user_tz": -330
    },
    "id": "W0uYwo6Xv3yx",
    "outputId": "b3536e7c-060a-494f-fc86-a34d2efc642a",
    "papermill": {
     "duration": 0.019989,
     "end_time": "2025-02-14T16:22:40.061915",
     "exception": false,
     "start_time": "2025-02-14T16:22:40.041926",
     "status": "completed"
    },
    "tags": []
   },
   "outputs": [
    {
     "data": {
      "text/plain": [
       "Index(['area_type', 'availability', 'location', 'total_sqft', 'bath',\n",
       "       'balcony', 'price', 'BHK'],\n",
       "      dtype='object')"
      ]
     },
     "execution_count": 10,
     "metadata": {},
     "output_type": "execute_result"
    }
   ],
   "source": [
    "bang.columns\n"
   ]
  },
  {
   "cell_type": "code",
   "execution_count": 11,
   "id": "68c757c4",
   "metadata": {
    "execution": {
     "iopub.execute_input": "2025-02-14T16:22:40.088093Z",
     "iopub.status.busy": "2025-02-14T16:22:40.087816Z",
     "iopub.status.idle": "2025-02-14T16:22:40.413626Z",
     "shell.execute_reply": "2025-02-14T16:22:40.412560Z"
    },
    "executionInfo": {
     "elapsed": 32,
     "status": "ok",
     "timestamp": 1739544588793,
     "user": {
      "displayName": "Ishit Gehlot",
      "userId": "01473306695467736694"
     },
     "user_tz": -330
    },
    "id": "RDXlLIx9wPmB",
    "outputId": "0f1b6cb5-2266-482e-aebb-dda13a819c29",
    "papermill": {
     "duration": 0.340115,
     "end_time": "2025-02-14T16:22:40.414779",
     "exception": false,
     "start_time": "2025-02-14T16:22:40.074664",
     "status": "completed"
    },
    "tags": []
   },
   "outputs": [
    {
     "name": "stderr",
     "output_type": "stream",
     "text": [
      "/usr/local/lib/python3.10/dist-packages/seaborn/_oldcore.py:1119: FutureWarning: use_inf_as_na option is deprecated and will be removed in a future version. Convert inf values to NaN before operating instead.\n",
      "  with pd.option_context('mode.use_inf_as_na', True):\n"
     ]
    },
    {
     "data": {
      "text/plain": [
       "<Axes: xlabel='price', ylabel='Density'>"
      ]
     },
     "execution_count": 11,
     "metadata": {},
     "output_type": "execute_result"
    },
    {
     "data": {
      "image/png": "[encoded data removed]",
      "text/plain": [
       "<Figure size 640x480 with 1 Axes>"
      ]
     },
     "metadata": {},
     "output_type": "display_data"
    }
   ],
   "source": [
    "sns.kdeplot(data = bang, x = 'price')"
   ]
  },
  {
   "cell_type": "code",
   "execution_count": 12,
   "id": "5200a1a1",
   "metadata": {
    "execution": {
     "iopub.execute_input": "2025-02-14T16:22:40.441960Z",
     "iopub.status.busy": "2025-02-14T16:22:40.441674Z",
     "iopub.status.idle": "2025-02-14T16:22:40.448964Z",
     "shell.execute_reply": "2025-02-14T16:22:40.448097Z"
    },
    "executionInfo": {
     "elapsed": 24,
     "status": "ok",
     "timestamp": 1739544588794,
     "user": {
      "displayName": "Ishit Gehlot",
      "userId": "01473306695467736694"
     },
     "user_tz": -330
    },
    "id": "T0r1cibOxNCo",
    "papermill": {
     "duration": 0.022231,
     "end_time": "2025-02-14T16:22:40.450140",
     "exception": false,
     "start_time": "2025-02-14T16:22:40.427909",
     "status": "completed"
    },
    "tags": []
   },
   "outputs": [],
   "source": [
    "#\n",
    "bang['availability'] = bang['availability'].apply(lambda x: 'April' if 'apr' in str(x).lower() else x)"
   ]
  },
  {
   "cell_type": "code",
   "execution_count": 13,
   "id": "d672ad8c",
   "metadata": {
    "execution": {
     "iopub.execute_input": "2025-02-14T16:22:40.477770Z",
     "iopub.status.busy": "2025-02-14T16:22:40.477450Z",
     "iopub.status.idle": "2025-02-14T16:22:40.549225Z",
     "shell.execute_reply": "2025-02-14T16:22:40.548187Z"
    },
    "executionInfo": {
     "elapsed": 24,
     "status": "ok",
     "timestamp": 1739544588794,
     "user": {
      "displayName": "Ishit Gehlot",
      "userId": "01473306695467736694"
     },
     "user_tz": -330
    },
    "id": "AuVIAJtf-vqz",
    "papermill": {
     "duration": 0.087427,
     "end_time": "2025-02-14T16:22:40.550875",
     "exception": false,
     "start_time": "2025-02-14T16:22:40.463448",
     "status": "completed"
    },
    "tags": []
   },
   "outputs": [],
   "source": [
    "#\n",
    "bang.loc[bang['availability'].str.contains('May', case=False, na=False), 'availability'] = 'May'\n",
    "bang.loc[bang['availability'].str.contains('Aug', case=False, na=False), 'availability'] = 'Aug'\n",
    "bang.loc[bang['availability'].str.contains('Nov', case=False, na=False), 'availability'] = 'Nov'\n",
    "bang.loc[bang['availability'].str.contains('Dec', case=False, na=False), 'availability'] = 'Dec'\n",
    "bang.loc[bang['availability'].str.contains('Jan', case=False, na=False), 'availability'] = 'Jan'\n",
    "bang.loc[bang['availability'].str.contains('Jun', case=False, na=False), 'availability'] = 'other'\n",
    "bang.loc[bang['availability'].str.contains('Jul', case=False, na=False), 'availability'] = 'other'\n",
    "bang.loc[bang['availability'].str.contains('Sep', case=False, na=False), 'availability'] = 'other'\n",
    "bang.loc[bang['availability'].str.contains('Oct', case=False, na=False), 'availability'] = 'other'\n",
    "bang.loc[bang['availability'].str.contains('Feb', case=False, na=False), 'availability'] = 'other'\n",
    "bang.loc[bang['availability'].str.contains('Mar', case=False, na=False), 'availability'] = 'other'"
   ]
  },
  {
   "cell_type": "code",
   "execution_count": 14,
   "id": "a56846a4",
   "metadata": {
    "execution": {
     "iopub.execute_input": "2025-02-14T16:22:40.580280Z",
     "iopub.status.busy": "2025-02-14T16:22:40.579979Z",
     "iopub.status.idle": "2025-02-14T16:22:40.591855Z",
     "shell.execute_reply": "2025-02-14T16:22:40.590788Z"
    },
    "executionInfo": {
     "elapsed": 23,
     "status": "ok",
     "timestamp": 1739544588794,
     "user": {
      "displayName": "Ishit Gehlot",
      "userId": "01473306695467736694"
     },
     "user_tz": -330
    },
    "id": "9U0LUIs5AziU",
    "papermill": {
     "duration": 0.02907,
     "end_time": "2025-02-14T16:22:40.593435",
     "exception": false,
     "start_time": "2025-02-14T16:22:40.564365",
     "status": "completed"
    },
    "tags": []
   },
   "outputs": [],
   "source": [
    "#\n",
    "unique_categories = bang['location'].value_counts()\n",
    "onefif_occurrence = unique_categories[unique_categories >50].index.tolist()\n",
    "bang['location'] = bang['location'].apply(lambda x: 'other' if x not in onefif_occurrence else x)"
   ]
  },
  {
   "cell_type": "code",
   "execution_count": 15,
   "id": "d4c34422",
   "metadata": {
    "execution": {
     "iopub.execute_input": "2025-02-14T16:22:40.671569Z",
     "iopub.status.busy": "2025-02-14T16:22:40.671240Z",
     "iopub.status.idle": "2025-02-14T16:22:40.677964Z",
     "shell.execute_reply": "2025-02-14T16:22:40.677238Z"
    },
    "executionInfo": {
     "elapsed": 23,
     "status": "ok",
     "timestamp": 1739544588795,
     "user": {
      "displayName": "Ishit Gehlot",
      "userId": "01473306695467736694"
     },
     "user_tz": -330
    },
    "id": "pq_9YiQEFof_",
    "outputId": "894e6df3-a545-4dfe-bea4-d742a0e2d9aa",
    "papermill": {
     "duration": 0.072487,
     "end_time": "2025-02-14T16:22:40.679229",
     "exception": false,
     "start_time": "2025-02-14T16:22:40.606742",
     "status": "completed"
    },
    "tags": []
   },
   "outputs": [
    {
     "data": {
      "text/plain": [
       "location\n",
       "other                       7250\n",
       "Whitefield                   540\n",
       "Sarjapur  Road               399\n",
       "Electronic City              302\n",
       "Kanakpura Road               273\n",
       "Thanisandra                  234\n",
       "Yelahanka                    213\n",
       "Uttarahalli                  186\n",
       "Hebbal                       177\n",
       "Marathahalli                 175\n",
       "Raja Rajeshwari Nagar        171\n",
       "Hennur Road                  152\n",
       "Bannerghatta Road            152\n",
       "7th Phase JP Nagar           149\n",
       "Haralur Road                 142\n",
       "Electronic City Phase II     132\n",
       "Rajaji Nagar                 107\n",
       "Chandapura                   100\n",
       "Bellandur                     96\n",
       "KR Puram                      91\n",
       "Electronics City Phase 1      88\n",
       "Hoodi                         88\n",
       "Yeshwanthpur                  85\n",
       "Begur Road                    84\n",
       "Sarjapur                      82\n",
       "Kasavanhalli                  80\n",
       "Harlur                        79\n",
       "Banashankari                  75\n",
       "Hormavu                       74\n",
       "Kengeri                       73\n",
       "Ramamurthy Nagar              73\n",
       "Koramangala                   72\n",
       "Hosa Road                     72\n",
       "JP Nagar                      72\n",
       "Jakkur                        71\n",
       "Old Madras Road               71\n",
       "Varthur                       70\n",
       "Kothanur                      66\n",
       "Kaggadasapura                 64\n",
       "Nagarbhavi                    63\n",
       "Thigalarapalya                62\n",
       "Akshaya Nagar                 62\n",
       "TC Palaya                     60\n",
       "Malleshwaram                  58\n",
       "8th Phase JP Nagar            57\n",
       "Rachenahalli                  56\n",
       "Hennur                        55\n",
       "Jigani                        54\n",
       "Budigere                      54\n",
       "HSR Layout                    53\n",
       "Hulimavu                      52\n",
       "Jalahalli                     52\n",
       "Bisuvanahalli                 51\n",
       "Panathur                      51\n",
       "Name: count, dtype: int64"
      ]
     },
     "execution_count": 15,
     "metadata": {},
     "output_type": "execute_result"
    }
   ],
   "source": [
    "bang['location'].value_counts()"
   ]
  },
  {
   "cell_type": "code",
   "execution_count": 16,
   "id": "08b1fc5f",
   "metadata": {
    "execution": {
     "iopub.execute_input": "2025-02-14T16:22:40.707046Z",
     "iopub.status.busy": "2025-02-14T16:22:40.706767Z",
     "iopub.status.idle": "2025-02-14T16:22:40.722033Z",
     "shell.execute_reply": "2025-02-14T16:22:40.721038Z"
    },
    "executionInfo": {
     "elapsed": 531,
     "status": "ok",
     "timestamp": 1739544589305,
     "user": {
      "displayName": "Ishit Gehlot",
      "userId": "01473306695467736694"
     },
     "user_tz": -330
    },
    "id": "9x8oepYvIKJN",
    "papermill": {
     "duration": 0.031031,
     "end_time": "2025-02-14T16:22:40.723751",
     "exception": false,
     "start_time": "2025-02-14T16:22:40.692720",
     "status": "completed"
    },
    "tags": []
   },
   "outputs": [],
   "source": [
    "#\n",
    "bang['total_sqft'] = bang['total_sqft'].str.extract('(\\d+)', expand = True)"
   ]
  },
  {
   "cell_type": "code",
   "execution_count": 17,
   "id": "bd6636b0",
   "metadata": {
    "execution": {
     "iopub.execute_input": "2025-02-14T16:22:40.751162Z",
     "iopub.status.busy": "2025-02-14T16:22:40.750888Z",
     "iopub.status.idle": "2025-02-14T16:22:40.755777Z",
     "shell.execute_reply": "2025-02-14T16:22:40.754749Z"
    },
    "executionInfo": {
     "elapsed": 32,
     "status": "ok",
     "timestamp": 1739544589305,
     "user": {
      "displayName": "Ishit Gehlot",
      "userId": "01473306695467736694"
     },
     "user_tz": -330
    },
    "id": "gcvr-7xOIeUO",
    "papermill": {
     "duration": 0.020045,
     "end_time": "2025-02-14T16:22:40.757084",
     "exception": false,
     "start_time": "2025-02-14T16:22:40.737039",
     "status": "completed"
    },
    "tags": []
   },
   "outputs": [],
   "source": [
    "#\n",
    "bang['total_sqft'] = bang['total_sqft'].astype(int)"
   ]
  },
  {
   "cell_type": "code",
   "execution_count": 18,
   "id": "d2b8344f",
   "metadata": {
    "execution": {
     "iopub.execute_input": "2025-02-14T16:22:40.785440Z",
     "iopub.status.busy": "2025-02-14T16:22:40.785085Z",
     "iopub.status.idle": "2025-02-14T16:22:40.788690Z",
     "shell.execute_reply": "2025-02-14T16:22:40.787814Z"
    },
    "executionInfo": {
     "elapsed": 31,
     "status": "ok",
     "timestamp": 1739544589305,
     "user": {
      "displayName": "Ishit Gehlot",
      "userId": "01473306695467736694"
     },
     "user_tz": -330
    },
    "id": "Y-tmrnYDBHsa",
    "papermill": {
     "duration": 0.018932,
     "end_time": "2025-02-14T16:22:40.789898",
     "exception": false,
     "start_time": "2025-02-14T16:22:40.770966",
     "status": "completed"
    },
    "tags": []
   },
   "outputs": [],
   "source": [
    "#\n",
    "df = bang"
   ]
  },
  {
   "cell_type": "code",
   "execution_count": 19,
   "id": "5cfdcb0e",
   "metadata": {
    "execution": {
     "iopub.execute_input": "2025-02-14T16:22:40.818056Z",
     "iopub.status.busy": "2025-02-14T16:22:40.817796Z",
     "iopub.status.idle": "2025-02-14T16:22:40.822951Z",
     "shell.execute_reply": "2025-02-14T16:22:40.821867Z"
    },
    "executionInfo": {
     "elapsed": 31,
     "status": "ok",
     "timestamp": 1739544589306,
     "user": {
      "displayName": "Ishit Gehlot",
      "userId": "01473306695467736694"
     },
     "user_tz": -330
    },
    "id": "4K7edVhH4_o7",
    "outputId": "f586a43d-ec96-423d-c26f-c07e2cdb7bdd",
    "papermill": {
     "duration": 0.02101,
     "end_time": "2025-02-14T16:22:40.824290",
     "exception": false,
     "start_time": "2025-02-14T16:22:40.803280",
     "status": "completed"
    },
    "tags": []
   },
   "outputs": [
    {
     "data": {
      "text/plain": [
       "(13320, 8)"
      ]
     },
     "execution_count": 19,
     "metadata": {},
     "output_type": "execute_result"
    }
   ],
   "source": [
    "bang.shape"
   ]
  },
  {
   "cell_type": "markdown",
   "id": "6e1e38f6",
   "metadata": {
    "id": "Zy70uJmVRrgf",
    "papermill": {
     "duration": 0.013086,
     "end_time": "2025-02-14T16:22:40.850795",
     "exception": false,
     "start_time": "2025-02-14T16:22:40.837709",
     "status": "completed"
    },
    "tags": []
   },
   "source": [
    "# **NEW**"
   ]
  },
  {
   "cell_type": "code",
   "execution_count": 20,
   "id": "207578a3",
   "metadata": {
    "execution": {
     "iopub.execute_input": "2025-02-14T16:22:40.879321Z",
     "iopub.status.busy": "2025-02-14T16:22:40.879010Z",
     "iopub.status.idle": "2025-02-14T16:22:40.884579Z",
     "shell.execute_reply": "2025-02-14T16:22:40.883466Z"
    },
    "executionInfo": {
     "elapsed": 25,
     "status": "ok",
     "timestamp": 1739544589306,
     "user": {
      "displayName": "Ishit Gehlot",
      "userId": "01473306695467736694"
     },
     "user_tz": -330
    },
    "id": "Y3C0bu3FC0Gv",
    "papermill": {
     "duration": 0.02166,
     "end_time": "2025-02-14T16:22:40.886114",
     "exception": false,
     "start_time": "2025-02-14T16:22:40.864454",
     "status": "completed"
    },
    "tags": []
   },
   "outputs": [],
   "source": [
    "df['BHK'] = df['BHK'].astype(float)"
   ]
  },
  {
   "cell_type": "code",
   "execution_count": 21,
   "id": "dbf6e036",
   "metadata": {
    "execution": {
     "iopub.execute_input": "2025-02-14T16:22:40.915793Z",
     "iopub.status.busy": "2025-02-14T16:22:40.915497Z",
     "iopub.status.idle": "2025-02-14T16:22:40.928206Z",
     "shell.execute_reply": "2025-02-14T16:22:40.927212Z"
    },
    "executionInfo": {
     "elapsed": 24,
     "status": "ok",
     "timestamp": 1739544589306,
     "user": {
      "displayName": "Ishit Gehlot",
      "userId": "01473306695467736694"
     },
     "user_tz": -330
    },
    "id": "hFsP-8_0DKmN",
    "outputId": "824bda07-8a2a-4dd8-befd-6fe5f0fe33c6",
    "papermill": {
     "duration": 0.029109,
     "end_time": "2025-02-14T16:22:40.929585",
     "exception": false,
     "start_time": "2025-02-14T16:22:40.900476",
     "status": "completed"
    },
    "tags": []
   },
   "outputs": [
    {
     "name": "stderr",
     "output_type": "stream",
     "text": [
      "/usr/local/lib/python3.10/dist-packages/pandas/io/formats/format.py:1458: RuntimeWarning: invalid value encountered in greater\n",
      "  has_large_values = (abs_vals > 1e6).any()\n",
      "/usr/local/lib/python3.10/dist-packages/pandas/io/formats/format.py:1459: RuntimeWarning: invalid value encountered in less\n",
      "  has_small_values = ((abs_vals < 10 ** (-self.digits)) & (abs_vals > 0)).any()\n",
      "/usr/local/lib/python3.10/dist-packages/pandas/io/formats/format.py:1459: RuntimeWarning: invalid value encountered in greater\n",
      "  has_small_values = ((abs_vals < 10 ** (-self.digits)) & (abs_vals > 0)).any()\n"
     ]
    },
    {
     "data": {
      "text/html": [
       "<div>\n",
       "<style scoped>\n",
       "    .dataframe tbody tr th:only-of-type {\n",
       "        vertical-align: middle;\n",
       "    }\n",
       "\n",
       "    .dataframe tbody tr th {\n",
       "        vertical-align: top;\n",
       "    }\n",
       "\n",
       "    .dataframe thead th {\n",
       "        text-align: right;\n",
       "    }\n",
       "</style>\n",
       "<table border=\"1\" class=\"dataframe\">\n",
       "  <thead>\n",
       "    <tr style=\"text-align: right;\">\n",
       "      <th></th>\n",
       "      <th>area_type</th>\n",
       "      <th>availability</th>\n",
       "      <th>location</th>\n",
       "      <th>total_sqft</th>\n",
       "      <th>bath</th>\n",
       "      <th>balcony</th>\n",
       "      <th>price</th>\n",
       "      <th>BHK</th>\n",
       "    </tr>\n",
       "  </thead>\n",
       "  <tbody>\n",
       "    <tr>\n",
       "      <th>579</th>\n",
       "      <td>Plot  Area</td>\n",
       "      <td>Immediate Possession</td>\n",
       "      <td>Sarjapur  Road</td>\n",
       "      <td>1200</td>\n",
       "      <td>NaN</td>\n",
       "      <td>NaN</td>\n",
       "      <td>34.185</td>\n",
       "      <td>NaN</td>\n",
       "    </tr>\n",
       "    <tr>\n",
       "      <th>1775</th>\n",
       "      <td>Plot  Area</td>\n",
       "      <td>Immediate Possession</td>\n",
       "      <td>other</td>\n",
       "      <td>2000</td>\n",
       "      <td>NaN</td>\n",
       "      <td>NaN</td>\n",
       "      <td>124.000</td>\n",
       "      <td>NaN</td>\n",
       "    </tr>\n",
       "    <tr>\n",
       "      <th>2264</th>\n",
       "      <td>Plot  Area</td>\n",
       "      <td>Immediate Possession</td>\n",
       "      <td>Banashankari</td>\n",
       "      <td>2400</td>\n",
       "      <td>NaN</td>\n",
       "      <td>NaN</td>\n",
       "      <td>460.000</td>\n",
       "      <td>NaN</td>\n",
       "    </tr>\n",
       "    <tr>\n",
       "      <th>2809</th>\n",
       "      <td>Plot  Area</td>\n",
       "      <td>Immediate Possession</td>\n",
       "      <td>Sarjapur  Road</td>\n",
       "      <td>1200</td>\n",
       "      <td>NaN</td>\n",
       "      <td>NaN</td>\n",
       "      <td>28.785</td>\n",
       "      <td>NaN</td>\n",
       "    </tr>\n",
       "    <tr>\n",
       "      <th>2862</th>\n",
       "      <td>Plot  Area</td>\n",
       "      <td>Immediate Possession</td>\n",
       "      <td>other</td>\n",
       "      <td>1500</td>\n",
       "      <td>NaN</td>\n",
       "      <td>NaN</td>\n",
       "      <td>46.800</td>\n",
       "      <td>NaN</td>\n",
       "    </tr>\n",
       "    <tr>\n",
       "      <th>5333</th>\n",
       "      <td>Plot  Area</td>\n",
       "      <td>Immediate Possession</td>\n",
       "      <td>other</td>\n",
       "      <td>2100</td>\n",
       "      <td>NaN</td>\n",
       "      <td>NaN</td>\n",
       "      <td>177.115</td>\n",
       "      <td>NaN</td>\n",
       "    </tr>\n",
       "    <tr>\n",
       "      <th>6423</th>\n",
       "      <td>Plot  Area</td>\n",
       "      <td>Immediate Possession</td>\n",
       "      <td>Whitefield</td>\n",
       "      <td>2324</td>\n",
       "      <td>NaN</td>\n",
       "      <td>NaN</td>\n",
       "      <td>26.730</td>\n",
       "      <td>NaN</td>\n",
       "    </tr>\n",
       "    <tr>\n",
       "      <th>6636</th>\n",
       "      <td>Plot  Area</td>\n",
       "      <td>Immediate Possession</td>\n",
       "      <td>Jigani</td>\n",
       "      <td>1500</td>\n",
       "      <td>NaN</td>\n",
       "      <td>NaN</td>\n",
       "      <td>25.490</td>\n",
       "      <td>NaN</td>\n",
       "    </tr>\n",
       "    <tr>\n",
       "      <th>6719</th>\n",
       "      <td>Plot  Area</td>\n",
       "      <td>Immediate Possession</td>\n",
       "      <td>other</td>\n",
       "      <td>800</td>\n",
       "      <td>NaN</td>\n",
       "      <td>NaN</td>\n",
       "      <td>28.545</td>\n",
       "      <td>NaN</td>\n",
       "    </tr>\n",
       "    <tr>\n",
       "      <th>7680</th>\n",
       "      <td>Plot  Area</td>\n",
       "      <td>Immediate Possession</td>\n",
       "      <td>Kasavanhalli</td>\n",
       "      <td>5000</td>\n",
       "      <td>NaN</td>\n",
       "      <td>NaN</td>\n",
       "      <td>400.000</td>\n",
       "      <td>NaN</td>\n",
       "    </tr>\n",
       "    <tr>\n",
       "      <th>8306</th>\n",
       "      <td>Plot  Area</td>\n",
       "      <td>Immediate Possession</td>\n",
       "      <td>other</td>\n",
       "      <td>1453</td>\n",
       "      <td>NaN</td>\n",
       "      <td>NaN</td>\n",
       "      <td>16.500</td>\n",
       "      <td>NaN</td>\n",
       "    </tr>\n",
       "    <tr>\n",
       "      <th>8565</th>\n",
       "      <td>Plot  Area</td>\n",
       "      <td>Immediate Possession</td>\n",
       "      <td>other</td>\n",
       "      <td>2000</td>\n",
       "      <td>NaN</td>\n",
       "      <td>NaN</td>\n",
       "      <td>120.000</td>\n",
       "      <td>NaN</td>\n",
       "    </tr>\n",
       "    <tr>\n",
       "      <th>8703</th>\n",
       "      <td>Plot  Area</td>\n",
       "      <td>Immediate Possession</td>\n",
       "      <td>other</td>\n",
       "      <td>1200</td>\n",
       "      <td>NaN</td>\n",
       "      <td>NaN</td>\n",
       "      <td>42.300</td>\n",
       "      <td>NaN</td>\n",
       "    </tr>\n",
       "    <tr>\n",
       "      <th>10634</th>\n",
       "      <td>Plot  Area</td>\n",
       "      <td>Immediate Possession</td>\n",
       "      <td>other</td>\n",
       "      <td>1575</td>\n",
       "      <td>NaN</td>\n",
       "      <td>NaN</td>\n",
       "      <td>31.110</td>\n",
       "      <td>NaN</td>\n",
       "    </tr>\n",
       "    <tr>\n",
       "      <th>11019</th>\n",
       "      <td>Plot  Area</td>\n",
       "      <td>Immediate Possession</td>\n",
       "      <td>Yelahanka</td>\n",
       "      <td>1200</td>\n",
       "      <td>NaN</td>\n",
       "      <td>NaN</td>\n",
       "      <td>12.750</td>\n",
       "      <td>NaN</td>\n",
       "    </tr>\n",
       "    <tr>\n",
       "      <th>11569</th>\n",
       "      <td>Plot  Area</td>\n",
       "      <td>Immediate Possession</td>\n",
       "      <td>other</td>\n",
       "      <td>1350</td>\n",
       "      <td>NaN</td>\n",
       "      <td>NaN</td>\n",
       "      <td>8.440</td>\n",
       "      <td>NaN</td>\n",
       "    </tr>\n",
       "  </tbody>\n",
       "</table>\n",
       "</div>"
      ],
      "text/plain": [
       "        area_type          availability        location  total_sqft  bath  \\\n",
       "579    Plot  Area  Immediate Possession  Sarjapur  Road        1200   NaN   \n",
       "1775   Plot  Area  Immediate Possession           other        2000   NaN   \n",
       "2264   Plot  Area  Immediate Possession    Banashankari        2400   NaN   \n",
       "2809   Plot  Area  Immediate Possession  Sarjapur  Road        1200   NaN   \n",
       "2862   Plot  Area  Immediate Possession           other        1500   NaN   \n",
       "5333   Plot  Area  Immediate Possession           other        2100   NaN   \n",
       "6423   Plot  Area  Immediate Possession      Whitefield        2324   NaN   \n",
       "6636   Plot  Area  Immediate Possession          Jigani        1500   NaN   \n",
       "6719   Plot  Area  Immediate Possession           other         800   NaN   \n",
       "7680   Plot  Area  Immediate Possession    Kasavanhalli        5000   NaN   \n",
       "8306   Plot  Area  Immediate Possession           other        1453   NaN   \n",
       "8565   Plot  Area  Immediate Possession           other        2000   NaN   \n",
       "8703   Plot  Area  Immediate Possession           other        1200   NaN   \n",
       "10634  Plot  Area  Immediate Possession           other        1575   NaN   \n",
       "11019  Plot  Area  Immediate Possession       Yelahanka        1200   NaN   \n",
       "11569  Plot  Area  Immediate Possession           other        1350   NaN   \n",
       "\n",
       "       balcony    price  BHK  \n",
       "579        NaN   34.185  NaN  \n",
       "1775       NaN  124.000  NaN  \n",
       "2264       NaN  460.000  NaN  \n",
       "2809       NaN   28.785  NaN  \n",
       "2862       NaN   46.800  NaN  \n",
       "5333       NaN  177.115  NaN  \n",
       "6423       NaN   26.730  NaN  \n",
       "6636       NaN   25.490  NaN  \n",
       "6719       NaN   28.545  NaN  \n",
       "7680       NaN  400.000  NaN  \n",
       "8306       NaN   16.500  NaN  \n",
       "8565       NaN  120.000  NaN  \n",
       "8703       NaN   42.300  NaN  \n",
       "10634      NaN   31.110  NaN  \n",
       "11019      NaN   12.750  NaN  \n",
       "11569      NaN    8.440  NaN  "
      ]
     },
     "execution_count": 21,
     "metadata": {},
     "output_type": "execute_result"
    }
   ],
   "source": [
    "df[df['BHK'].isnull()]"
   ]
  },
  {
   "cell_type": "code",
   "execution_count": 22,
   "id": "d15dd8c4",
   "metadata": {
    "execution": {
     "iopub.execute_input": "2025-02-14T16:22:40.958302Z",
     "iopub.status.busy": "2025-02-14T16:22:40.958040Z",
     "iopub.status.idle": "2025-02-14T16:22:40.966200Z",
     "shell.execute_reply": "2025-02-14T16:22:40.964967Z"
    },
    "executionInfo": {
     "elapsed": 22,
     "status": "ok",
     "timestamp": 1739544589306,
     "user": {
      "displayName": "Ishit Gehlot",
      "userId": "01473306695467736694"
     },
     "user_tz": -330
    },
    "id": "Yy3tBoU4DZQ4",
    "outputId": "e616c6fd-41ed-41bb-80f1-c2d6be39cb8f",
    "papermill": {
     "duration": 0.024313,
     "end_time": "2025-02-14T16:22:40.967846",
     "exception": false,
     "start_time": "2025-02-14T16:22:40.943533",
     "status": "completed"
    },
    "tags": []
   },
   "outputs": [
    {
     "data": {
      "text/plain": [
       "area_type       16\n",
       "availability    16\n",
       "location        16\n",
       "total_sqft      16\n",
       "bath             0\n",
       "balcony          0\n",
       "price           16\n",
       "BHK              0\n",
       "dtype: int64"
      ]
     },
     "execution_count": 22,
     "metadata": {},
     "output_type": "execute_result"
    }
   ],
   "source": [
    "df[df['availability'] == 'Immediate Possession'].count()"
   ]
  },
  {
   "cell_type": "code",
   "execution_count": 23,
   "id": "00c670a3",
   "metadata": {
    "execution": {
     "iopub.execute_input": "2025-02-14T16:22:40.996532Z",
     "iopub.status.busy": "2025-02-14T16:22:40.996219Z",
     "iopub.status.idle": "2025-02-14T16:22:41.004507Z",
     "shell.execute_reply": "2025-02-14T16:22:41.003565Z"
    },
    "executionInfo": {
     "elapsed": 21,
     "status": "ok",
     "timestamp": 1739544589307,
     "user": {
      "displayName": "Ishit Gehlot",
      "userId": "01473306695467736694"
     },
     "user_tz": -330
    },
    "id": "7E1pZkY9BWCF",
    "papermill": {
     "duration": 0.024405,
     "end_time": "2025-02-14T16:22:41.006169",
     "exception": false,
     "start_time": "2025-02-14T16:22:40.981764",
     "status": "completed"
    },
    "tags": []
   },
   "outputs": [],
   "source": [
    "# null values :- bath = 73, balcony = 609, bhk = 16 , availability = Immediate Possession has 16 nulls in bath .balcony and bhk.\n",
    "df['room_density'] = df['total_sqft']/df['BHK']"
   ]
  },
  {
   "cell_type": "code",
   "execution_count": 24,
   "id": "cdf990b0",
   "metadata": {
    "execution": {
     "iopub.execute_input": "2025-02-14T16:22:41.035879Z",
     "iopub.status.busy": "2025-02-14T16:22:41.035624Z",
     "iopub.status.idle": "2025-02-14T16:22:41.048803Z",
     "shell.execute_reply": "2025-02-14T16:22:41.047997Z"
    },
    "executionInfo": {
     "elapsed": 21,
     "status": "ok",
     "timestamp": 1739544589307,
     "user": {
      "displayName": "Ishit Gehlot",
      "userId": "01473306695467736694"
     },
     "user_tz": -330
    },
    "id": "0TJU2FD1CwN6",
    "outputId": "9700a6ef-bfb8-4c58-e545-fc5e0dede7d6",
    "papermill": {
     "duration": 0.028917,
     "end_time": "2025-02-14T16:22:41.049915",
     "exception": false,
     "start_time": "2025-02-14T16:22:41.020998",
     "status": "completed"
    },
    "tags": []
   },
   "outputs": [
    {
     "name": "stderr",
     "output_type": "stream",
     "text": [
      "/usr/local/lib/python3.10/dist-packages/pandas/io/formats/format.py:1458: RuntimeWarning: invalid value encountered in greater\n",
      "  has_large_values = (abs_vals > 1e6).any()\n",
      "/usr/local/lib/python3.10/dist-packages/pandas/io/formats/format.py:1459: RuntimeWarning: invalid value encountered in less\n",
      "  has_small_values = ((abs_vals < 10 ** (-self.digits)) & (abs_vals > 0)).any()\n",
      "/usr/local/lib/python3.10/dist-packages/pandas/io/formats/format.py:1459: RuntimeWarning: invalid value encountered in greater\n",
      "  has_small_values = ((abs_vals < 10 ** (-self.digits)) & (abs_vals > 0)).any()\n"
     ]
    },
    {
     "data": {
      "text/html": [
       "<div>\n",
       "<style scoped>\n",
       "    .dataframe tbody tr th:only-of-type {\n",
       "        vertical-align: middle;\n",
       "    }\n",
       "\n",
       "    .dataframe tbody tr th {\n",
       "        vertical-align: top;\n",
       "    }\n",
       "\n",
       "    .dataframe thead th {\n",
       "        text-align: right;\n",
       "    }\n",
       "</style>\n",
       "<table border=\"1\" class=\"dataframe\">\n",
       "  <thead>\n",
       "    <tr style=\"text-align: right;\">\n",
       "      <th></th>\n",
       "      <th>area_type</th>\n",
       "      <th>availability</th>\n",
       "      <th>location</th>\n",
       "      <th>total_sqft</th>\n",
       "      <th>bath</th>\n",
       "      <th>balcony</th>\n",
       "      <th>price</th>\n",
       "      <th>BHK</th>\n",
       "      <th>room_density</th>\n",
       "    </tr>\n",
       "  </thead>\n",
       "  <tbody>\n",
       "    <tr>\n",
       "      <th>0</th>\n",
       "      <td>Super built-up  Area</td>\n",
       "      <td>Dec</td>\n",
       "      <td>Electronic City Phase II</td>\n",
       "      <td>1056</td>\n",
       "      <td>2.0</td>\n",
       "      <td>1.0</td>\n",
       "      <td>39.07</td>\n",
       "      <td>2.0</td>\n",
       "      <td>528.00</td>\n",
       "    </tr>\n",
       "    <tr>\n",
       "      <th>1</th>\n",
       "      <td>Plot  Area</td>\n",
       "      <td>Ready To Move</td>\n",
       "      <td>other</td>\n",
       "      <td>2600</td>\n",
       "      <td>5.0</td>\n",
       "      <td>3.0</td>\n",
       "      <td>120.00</td>\n",
       "      <td>4.0</td>\n",
       "      <td>650.00</td>\n",
       "    </tr>\n",
       "    <tr>\n",
       "      <th>2</th>\n",
       "      <td>Built-up  Area</td>\n",
       "      <td>Ready To Move</td>\n",
       "      <td>Uttarahalli</td>\n",
       "      <td>1440</td>\n",
       "      <td>2.0</td>\n",
       "      <td>3.0</td>\n",
       "      <td>62.00</td>\n",
       "      <td>3.0</td>\n",
       "      <td>480.00</td>\n",
       "    </tr>\n",
       "    <tr>\n",
       "      <th>3</th>\n",
       "      <td>Super built-up  Area</td>\n",
       "      <td>Ready To Move</td>\n",
       "      <td>other</td>\n",
       "      <td>1521</td>\n",
       "      <td>3.0</td>\n",
       "      <td>1.0</td>\n",
       "      <td>95.00</td>\n",
       "      <td>3.0</td>\n",
       "      <td>507.00</td>\n",
       "    </tr>\n",
       "    <tr>\n",
       "      <th>4</th>\n",
       "      <td>Super built-up  Area</td>\n",
       "      <td>Ready To Move</td>\n",
       "      <td>Kothanur</td>\n",
       "      <td>1200</td>\n",
       "      <td>2.0</td>\n",
       "      <td>1.0</td>\n",
       "      <td>51.00</td>\n",
       "      <td>2.0</td>\n",
       "      <td>600.00</td>\n",
       "    </tr>\n",
       "    <tr>\n",
       "      <th>...</th>\n",
       "      <td>...</td>\n",
       "      <td>...</td>\n",
       "      <td>...</td>\n",
       "      <td>...</td>\n",
       "      <td>...</td>\n",
       "      <td>...</td>\n",
       "      <td>...</td>\n",
       "      <td>...</td>\n",
       "      <td>...</td>\n",
       "    </tr>\n",
       "    <tr>\n",
       "      <th>13315</th>\n",
       "      <td>Built-up  Area</td>\n",
       "      <td>Ready To Move</td>\n",
       "      <td>Whitefield</td>\n",
       "      <td>3453</td>\n",
       "      <td>4.0</td>\n",
       "      <td>0.0</td>\n",
       "      <td>231.00</td>\n",
       "      <td>5.0</td>\n",
       "      <td>690.60</td>\n",
       "    </tr>\n",
       "    <tr>\n",
       "      <th>13316</th>\n",
       "      <td>Super built-up  Area</td>\n",
       "      <td>Ready To Move</td>\n",
       "      <td>other</td>\n",
       "      <td>3600</td>\n",
       "      <td>5.0</td>\n",
       "      <td>NaN</td>\n",
       "      <td>400.00</td>\n",
       "      <td>4.0</td>\n",
       "      <td>900.00</td>\n",
       "    </tr>\n",
       "    <tr>\n",
       "      <th>13317</th>\n",
       "      <td>Built-up  Area</td>\n",
       "      <td>Ready To Move</td>\n",
       "      <td>Raja Rajeshwari Nagar</td>\n",
       "      <td>1141</td>\n",
       "      <td>2.0</td>\n",
       "      <td>1.0</td>\n",
       "      <td>60.00</td>\n",
       "      <td>2.0</td>\n",
       "      <td>570.50</td>\n",
       "    </tr>\n",
       "    <tr>\n",
       "      <th>13318</th>\n",
       "      <td>Super built-up  Area</td>\n",
       "      <td>other</td>\n",
       "      <td>other</td>\n",
       "      <td>4689</td>\n",
       "      <td>4.0</td>\n",
       "      <td>1.0</td>\n",
       "      <td>488.00</td>\n",
       "      <td>4.0</td>\n",
       "      <td>1172.25</td>\n",
       "    </tr>\n",
       "    <tr>\n",
       "      <th>13319</th>\n",
       "      <td>Super built-up  Area</td>\n",
       "      <td>Ready To Move</td>\n",
       "      <td>other</td>\n",
       "      <td>550</td>\n",
       "      <td>1.0</td>\n",
       "      <td>1.0</td>\n",
       "      <td>17.00</td>\n",
       "      <td>1.0</td>\n",
       "      <td>550.00</td>\n",
       "    </tr>\n",
       "  </tbody>\n",
       "</table>\n",
       "<p>13320 rows × 9 columns</p>\n",
       "</div>"
      ],
      "text/plain": [
       "                  area_type   availability                  location  \\\n",
       "0      Super built-up  Area            Dec  Electronic City Phase II   \n",
       "1                Plot  Area  Ready To Move                     other   \n",
       "2            Built-up  Area  Ready To Move               Uttarahalli   \n",
       "3      Super built-up  Area  Ready To Move                     other   \n",
       "4      Super built-up  Area  Ready To Move                  Kothanur   \n",
       "...                     ...            ...                       ...   \n",
       "13315        Built-up  Area  Ready To Move                Whitefield   \n",
       "13316  Super built-up  Area  Ready To Move                     other   \n",
       "13317        Built-up  Area  Ready To Move     Raja Rajeshwari Nagar   \n",
       "13318  Super built-up  Area          other                     other   \n",
       "13319  Super built-up  Area  Ready To Move                     other   \n",
       "\n",
       "       total_sqft  bath  balcony   price  BHK  room_density  \n",
       "0            1056   2.0      1.0   39.07  2.0        528.00  \n",
       "1            2600   5.0      3.0  120.00  4.0        650.00  \n",
       "2            1440   2.0      3.0   62.00  3.0        480.00  \n",
       "3            1521   3.0      1.0   95.00  3.0        507.00  \n",
       "4            1200   2.0      1.0   51.00  2.0        600.00  \n",
       "...           ...   ...      ...     ...  ...           ...  \n",
       "13315        3453   4.0      0.0  231.00  5.0        690.60  \n",
       "13316        3600   5.0      NaN  400.00  4.0        900.00  \n",
       "13317        1141   2.0      1.0   60.00  2.0        570.50  \n",
       "13318        4689   4.0      1.0  488.00  4.0       1172.25  \n",
       "13319         550   1.0      1.0   17.00  1.0        550.00  \n",
       "\n",
       "[13320 rows x 9 columns]"
      ]
     },
     "execution_count": 24,
     "metadata": {},
     "output_type": "execute_result"
    }
   ],
   "source": [
    "df"
   ]
  },
  {
   "cell_type": "code",
   "execution_count": 25,
   "id": "6b03a829",
   "metadata": {
    "execution": {
     "iopub.execute_input": "2025-02-14T16:22:41.079170Z",
     "iopub.status.busy": "2025-02-14T16:22:41.078891Z",
     "iopub.status.idle": "2025-02-14T16:22:42.349038Z",
     "shell.execute_reply": "2025-02-14T16:22:42.347999Z"
    },
    "executionInfo": {
     "elapsed": 3376,
     "status": "ok",
     "timestamp": 1739544592665,
     "user": {
      "displayName": "Ishit Gehlot",
      "userId": "01473306695467736694"
     },
     "user_tz": -330
    },
    "id": "MtGk82AuGR8z",
    "outputId": "d88c8e89-822f-4901-d907-52eeb44f556d",
    "papermill": {
     "duration": 1.286511,
     "end_time": "2025-02-14T16:22:42.350762",
     "exception": false,
     "start_time": "2025-02-14T16:22:41.064251",
     "status": "completed"
    },
    "tags": []
   },
   "outputs": [
    {
     "data": {
      "image/png": "[encoded data removed]",
      "text/plain": [
       "<Figure size 1500x700 with 1 Axes>"
      ]
     },
     "metadata": {},
     "output_type": "display_data"
    }
   ],
   "source": [
    "plt.figure(figsize = (15,7))\n",
    "sns.barplot(data = df, x = 'location', y = 'price')\n",
    "plt.xticks(rotation = 70)\n",
    "plt.show()"
   ]
  },
  {
   "cell_type": "code",
   "execution_count": 26,
   "id": "0f4e0acc",
   "metadata": {
    "execution": {
     "iopub.execute_input": "2025-02-14T16:22:42.384706Z",
     "iopub.status.busy": "2025-02-14T16:22:42.384422Z",
     "iopub.status.idle": "2025-02-14T16:22:42.388778Z",
     "shell.execute_reply": "2025-02-14T16:22:42.388034Z"
    },
    "executionInfo": {
     "elapsed": 50,
     "status": "ok",
     "timestamp": 1739544592665,
     "user": {
      "displayName": "Ishit Gehlot",
      "userId": "01473306695467736694"
     },
     "user_tz": -330
    },
    "id": "20ekgafLGcVN",
    "papermill": {
     "duration": 0.022685,
     "end_time": "2025-02-14T16:22:42.389889",
     "exception": false,
     "start_time": "2025-02-14T16:22:42.367204",
     "status": "completed"
    },
    "tags": []
   },
   "outputs": [],
   "source": [
    "\n",
    "df['price_per_sqft'] = (df['price']*100000)/df['total_sqft']"
   ]
  },
  {
   "cell_type": "code",
   "execution_count": 27,
   "id": "faeee92d",
   "metadata": {
    "execution": {
     "iopub.execute_input": "2025-02-14T16:22:42.425270Z",
     "iopub.status.busy": "2025-02-14T16:22:42.424953Z",
     "iopub.status.idle": "2025-02-14T16:22:42.433878Z",
     "shell.execute_reply": "2025-02-14T16:22:42.432867Z"
    },
    "executionInfo": {
     "elapsed": 50,
     "status": "ok",
     "timestamp": 1739544592667,
     "user": {
      "displayName": "Ishit Gehlot",
      "userId": "01473306695467736694"
     },
     "user_tz": -330
    },
    "id": "nEL39Eu8IPUT",
    "papermill": {
     "duration": 0.028415,
     "end_time": "2025-02-14T16:22:42.435497",
     "exception": false,
     "start_time": "2025-02-14T16:22:42.407082",
     "status": "completed"
    },
    "tags": []
   },
   "outputs": [],
   "source": [
    "df['avg_price_per_sqft_loc'] = df.groupby('location')['price_per_sqft'].transform('mean')"
   ]
  },
  {
   "cell_type": "code",
   "execution_count": 28,
   "id": "13b68862",
   "metadata": {
    "execution": {
     "iopub.execute_input": "2025-02-14T16:22:42.467946Z",
     "iopub.status.busy": "2025-02-14T16:22:42.467620Z",
     "iopub.status.idle": "2025-02-14T16:22:42.478956Z",
     "shell.execute_reply": "2025-02-14T16:22:42.477933Z"
    },
    "executionInfo": {
     "elapsed": 48,
     "status": "ok",
     "timestamp": 1739544592667,
     "user": {
      "displayName": "Ishit Gehlot",
      "userId": "01473306695467736694"
     },
     "user_tz": -330
    },
    "id": "0BCFx7SpIoxK",
    "outputId": "afa2f189-7365-4ffd-d036-c3829e420617",
    "papermill": {
     "duration": 0.029217,
     "end_time": "2025-02-14T16:22:42.480584",
     "exception": false,
     "start_time": "2025-02-14T16:22:42.451367",
     "status": "completed"
    },
    "tags": []
   },
   "outputs": [
    {
     "data": {
      "text/html": [
       "<div>\n",
       "<style scoped>\n",
       "    .dataframe tbody tr th:only-of-type {\n",
       "        vertical-align: middle;\n",
       "    }\n",
       "\n",
       "    .dataframe tbody tr th {\n",
       "        vertical-align: top;\n",
       "    }\n",
       "\n",
       "    .dataframe thead th {\n",
       "        text-align: right;\n",
       "    }\n",
       "</style>\n",
       "<table border=\"1\" class=\"dataframe\">\n",
       "  <thead>\n",
       "    <tr style=\"text-align: right;\">\n",
       "      <th></th>\n",
       "      <th>area_type</th>\n",
       "      <th>availability</th>\n",
       "      <th>location</th>\n",
       "      <th>total_sqft</th>\n",
       "      <th>bath</th>\n",
       "      <th>balcony</th>\n",
       "      <th>price</th>\n",
       "      <th>BHK</th>\n",
       "      <th>room_density</th>\n",
       "      <th>price_per_sqft</th>\n",
       "      <th>avg_price_per_sqft_loc</th>\n",
       "    </tr>\n",
       "  </thead>\n",
       "  <tbody>\n",
       "    <tr>\n",
       "      <th>0</th>\n",
       "      <td>Super built-up  Area</td>\n",
       "      <td>Dec</td>\n",
       "      <td>Electronic City Phase II</td>\n",
       "      <td>1056</td>\n",
       "      <td>2.0</td>\n",
       "      <td>1.0</td>\n",
       "      <td>39.07</td>\n",
       "      <td>2.0</td>\n",
       "      <td>528.0</td>\n",
       "      <td>3699.810606</td>\n",
       "      <td>3895.275610</td>\n",
       "    </tr>\n",
       "    <tr>\n",
       "      <th>1</th>\n",
       "      <td>Plot  Area</td>\n",
       "      <td>Ready To Move</td>\n",
       "      <td>other</td>\n",
       "      <td>2600</td>\n",
       "      <td>5.0</td>\n",
       "      <td>3.0</td>\n",
       "      <td>120.00</td>\n",
       "      <td>4.0</td>\n",
       "      <td>650.0</td>\n",
       "      <td>4615.384615</td>\n",
       "      <td>13582.186032</td>\n",
       "    </tr>\n",
       "    <tr>\n",
       "      <th>2</th>\n",
       "      <td>Built-up  Area</td>\n",
       "      <td>Ready To Move</td>\n",
       "      <td>Uttarahalli</td>\n",
       "      <td>1440</td>\n",
       "      <td>2.0</td>\n",
       "      <td>3.0</td>\n",
       "      <td>62.00</td>\n",
       "      <td>3.0</td>\n",
       "      <td>480.0</td>\n",
       "      <td>4305.555556</td>\n",
       "      <td>4895.076545</td>\n",
       "    </tr>\n",
       "    <tr>\n",
       "      <th>3</th>\n",
       "      <td>Super built-up  Area</td>\n",
       "      <td>Ready To Move</td>\n",
       "      <td>other</td>\n",
       "      <td>1521</td>\n",
       "      <td>3.0</td>\n",
       "      <td>1.0</td>\n",
       "      <td>95.00</td>\n",
       "      <td>3.0</td>\n",
       "      <td>507.0</td>\n",
       "      <td>6245.890861</td>\n",
       "      <td>13582.186032</td>\n",
       "    </tr>\n",
       "    <tr>\n",
       "      <th>4</th>\n",
       "      <td>Super built-up  Area</td>\n",
       "      <td>Ready To Move</td>\n",
       "      <td>Kothanur</td>\n",
       "      <td>1200</td>\n",
       "      <td>2.0</td>\n",
       "      <td>1.0</td>\n",
       "      <td>51.00</td>\n",
       "      <td>2.0</td>\n",
       "      <td>600.0</td>\n",
       "      <td>4250.000000</td>\n",
       "      <td>5699.354917</td>\n",
       "    </tr>\n",
       "  </tbody>\n",
       "</table>\n",
       "</div>"
      ],
      "text/plain": [
       "              area_type   availability                  location  total_sqft  \\\n",
       "0  Super built-up  Area            Dec  Electronic City Phase II        1056   \n",
       "1            Plot  Area  Ready To Move                     other        2600   \n",
       "2        Built-up  Area  Ready To Move               Uttarahalli        1440   \n",
       "3  Super built-up  Area  Ready To Move                     other        1521   \n",
       "4  Super built-up  Area  Ready To Move                  Kothanur        1200   \n",
       "\n",
       "   bath  balcony   price  BHK  room_density  price_per_sqft  \\\n",
       "0   2.0      1.0   39.07  2.0         528.0     3699.810606   \n",
       "1   5.0      3.0  120.00  4.0         650.0     4615.384615   \n",
       "2   2.0      3.0   62.00  3.0         480.0     4305.555556   \n",
       "3   3.0      1.0   95.00  3.0         507.0     6245.890861   \n",
       "4   2.0      1.0   51.00  2.0         600.0     4250.000000   \n",
       "\n",
       "   avg_price_per_sqft_loc  \n",
       "0             3895.275610  \n",
       "1            13582.186032  \n",
       "2             4895.076545  \n",
       "3            13582.186032  \n",
       "4             5699.354917  "
      ]
     },
     "execution_count": 28,
     "metadata": {},
     "output_type": "execute_result"
    }
   ],
   "source": [
    "df.head()"
   ]
  },
  {
   "cell_type": "code",
   "execution_count": 29,
   "id": "c551db22",
   "metadata": {
    "execution": {
     "iopub.execute_input": "2025-02-14T16:22:42.515617Z",
     "iopub.status.busy": "2025-02-14T16:22:42.515276Z",
     "iopub.status.idle": "2025-02-14T16:22:42.524314Z",
     "shell.execute_reply": "2025-02-14T16:22:42.523217Z"
    },
    "executionInfo": {
     "elapsed": 45,
     "status": "ok",
     "timestamp": 1739544592667,
     "user": {
      "displayName": "Ishit Gehlot",
      "userId": "01473306695467736694"
     },
     "user_tz": -330
    },
    "id": "ThWNyP0lIu7I",
    "papermill": {
     "duration": 0.028558,
     "end_time": "2025-02-14T16:22:42.525830",
     "exception": false,
     "start_time": "2025-02-14T16:22:42.497272",
     "status": "completed"
    },
    "tags": []
   },
   "outputs": [],
   "source": [
    "df['price_cat'] = pd.qcut(df['price_per_sqft'], 4, labels = ['low', 'medium', 'high' , 'very high'], duplicates='drop')"
   ]
  },
  {
   "cell_type": "code",
   "execution_count": 30,
   "id": "294d7589",
   "metadata": {
    "execution": {
     "iopub.execute_input": "2025-02-14T16:22:42.560181Z",
     "iopub.status.busy": "2025-02-14T16:22:42.559894Z",
     "iopub.status.idle": "2025-02-14T16:22:42.564939Z",
     "shell.execute_reply": "2025-02-14T16:22:42.564156Z"
    },
    "executionInfo": {
     "elapsed": 45,
     "status": "ok",
     "timestamp": 1739544592668,
     "user": {
      "displayName": "Ishit Gehlot",
      "userId": "01473306695467736694"
     },
     "user_tz": -330
    },
    "id": "DmPoZNhXNbPj",
    "papermill": {
     "duration": 0.023561,
     "end_time": "2025-02-14T16:22:42.566106",
     "exception": false,
     "start_time": "2025-02-14T16:22:42.542545",
     "status": "completed"
    },
    "tags": []
   },
   "outputs": [],
   "source": [
    "matrix = df.drop(columns=['area_type'\t,'availability'\t,'location', 'price_cat'])"
   ]
  },
  {
   "cell_type": "code",
   "execution_count": 31,
   "id": "66d57331",
   "metadata": {
    "execution": {
     "iopub.execute_input": "2025-02-14T16:22:42.601053Z",
     "iopub.status.busy": "2025-02-14T16:22:42.600798Z",
     "iopub.status.idle": "2025-02-14T16:22:42.931386Z",
     "shell.execute_reply": "2025-02-14T16:22:42.930420Z"
    },
    "executionInfo": {
     "elapsed": 1232,
     "status": "ok",
     "timestamp": 1739544593856,
     "user": {
      "displayName": "Ishit Gehlot",
      "userId": "01473306695467736694"
     },
     "user_tz": -330
    },
    "id": "tMaqdt29PHRb",
    "outputId": "28d5c46e-e51d-482a-f8ab-89bf404e95f9",
    "papermill": {
     "duration": 0.349466,
     "end_time": "2025-02-14T16:22:42.932865",
     "exception": false,
     "start_time": "2025-02-14T16:22:42.583399",
     "status": "completed"
    },
    "tags": []
   },
   "outputs": [
    {
     "data": {
      "text/plain": [
       "<Axes: >"
      ]
     },
     "execution_count": 31,
     "metadata": {},
     "output_type": "execute_result"
    },
    {
     "data": {
      "image/png": "[encoded data removed]",
      "text/plain": [
       "<Figure size 640x480 with 2 Axes>"
      ]
     },
     "metadata": {},
     "output_type": "display_data"
    }
   ],
   "source": [
    "sns.heatmap(matrix.corr(), annot=True, cmap='coolwarm')"
   ]
  },
  {
   "cell_type": "code",
   "execution_count": 32,
   "id": "f73a7b31",
   "metadata": {
    "execution": {
     "iopub.execute_input": "2025-02-14T16:22:42.970307Z",
     "iopub.status.busy": "2025-02-14T16:22:42.970022Z",
     "iopub.status.idle": "2025-02-14T16:22:42.975801Z",
     "shell.execute_reply": "2025-02-14T16:22:42.974809Z"
    },
    "executionInfo": {
     "elapsed": 61,
     "status": "ok",
     "timestamp": 1739544593857,
     "user": {
      "displayName": "Ishit Gehlot",
      "userId": "01473306695467736694"
     },
     "user_tz": -330
    },
    "id": "IKYPS3N8QFVF",
    "papermill": {
     "duration": 0.026367,
     "end_time": "2025-02-14T16:22:42.977538",
     "exception": false,
     "start_time": "2025-02-14T16:22:42.951171",
     "status": "completed"
    },
    "tags": []
   },
   "outputs": [],
   "source": [
    "df = df.drop('price_per_sqft', axis = 1)"
   ]
  },
  {
   "cell_type": "markdown",
   "id": "568ca4e0",
   "metadata": {
    "id": "Pi1meDX0TdCV",
    "papermill": {
     "duration": 0.017317,
     "end_time": "2025-02-14T16:22:43.012486",
     "exception": false,
     "start_time": "2025-02-14T16:22:42.995169",
     "status": "completed"
    },
    "tags": []
   },
   "source": [
    "# **PIPELINES**"
   ]
  },
  {
   "cell_type": "code",
   "execution_count": 33,
   "id": "68db8092",
   "metadata": {
    "execution": {
     "iopub.execute_input": "2025-02-14T16:22:43.049480Z",
     "iopub.status.busy": "2025-02-14T16:22:43.049177Z",
     "iopub.status.idle": "2025-02-14T16:22:43.054737Z",
     "shell.execute_reply": "2025-02-14T16:22:43.053563Z"
    },
    "executionInfo": {
     "elapsed": 60,
     "status": "ok",
     "timestamp": 1739544593857,
     "user": {
      "displayName": "Ishit Gehlot",
      "userId": "01473306695467736694"
     },
     "user_tz": -330
    },
    "id": "L-fSkpKjQo11",
    "papermill": {
     "duration": 0.025615,
     "end_time": "2025-02-14T16:22:43.056206",
     "exception": false,
     "start_time": "2025-02-14T16:22:43.030591",
     "status": "completed"
    },
    "tags": []
   },
   "outputs": [],
   "source": [
    "X = df.drop('price', axis =1)\n",
    "y = df['price']"
   ]
  },
  {
   "cell_type": "code",
   "execution_count": 34,
   "id": "55cec6af",
   "metadata": {
    "execution": {
     "iopub.execute_input": "2025-02-14T16:22:43.092666Z",
     "iopub.status.busy": "2025-02-14T16:22:43.092369Z",
     "iopub.status.idle": "2025-02-14T16:22:43.103316Z",
     "shell.execute_reply": "2025-02-14T16:22:43.102321Z"
    },
    "executionInfo": {
     "elapsed": 59,
     "status": "ok",
     "timestamp": 1739544593857,
     "user": {
      "displayName": "Ishit Gehlot",
      "userId": "01473306695467736694"
     },
     "user_tz": -330
    },
    "id": "DOqfDcHFSA7B",
    "outputId": "d8628640-bb6e-4686-c49a-48f5c4700876",
    "papermill": {
     "duration": 0.031242,
     "end_time": "2025-02-14T16:22:43.105062",
     "exception": false,
     "start_time": "2025-02-14T16:22:43.073820",
     "status": "completed"
    },
    "tags": []
   },
   "outputs": [
    {
     "data": {
      "text/html": [
       "<div>\n",
       "<style scoped>\n",
       "    .dataframe tbody tr th:only-of-type {\n",
       "        vertical-align: middle;\n",
       "    }\n",
       "\n",
       "    .dataframe tbody tr th {\n",
       "        vertical-align: top;\n",
       "    }\n",
       "\n",
       "    .dataframe thead th {\n",
       "        text-align: right;\n",
       "    }\n",
       "</style>\n",
       "<table border=\"1\" class=\"dataframe\">\n",
       "  <thead>\n",
       "    <tr style=\"text-align: right;\">\n",
       "      <th></th>\n",
       "      <th>area_type</th>\n",
       "      <th>availability</th>\n",
       "      <th>location</th>\n",
       "      <th>total_sqft</th>\n",
       "      <th>bath</th>\n",
       "      <th>balcony</th>\n",
       "      <th>BHK</th>\n",
       "      <th>room_density</th>\n",
       "      <th>avg_price_per_sqft_loc</th>\n",
       "      <th>price_cat</th>\n",
       "    </tr>\n",
       "  </thead>\n",
       "  <tbody>\n",
       "    <tr>\n",
       "      <th>0</th>\n",
       "      <td>Super built-up  Area</td>\n",
       "      <td>Dec</td>\n",
       "      <td>Electronic City Phase II</td>\n",
       "      <td>1056</td>\n",
       "      <td>2.0</td>\n",
       "      <td>1.0</td>\n",
       "      <td>2.0</td>\n",
       "      <td>528.0</td>\n",
       "      <td>3895.27561</td>\n",
       "      <td>low</td>\n",
       "    </tr>\n",
       "  </tbody>\n",
       "</table>\n",
       "</div>"
      ],
      "text/plain": [
       "              area_type availability                  location  total_sqft  \\\n",
       "0  Super built-up  Area          Dec  Electronic City Phase II        1056   \n",
       "\n",
       "   bath  balcony  BHK  room_density  avg_price_per_sqft_loc price_cat  \n",
       "0   2.0      1.0  2.0         528.0              3895.27561       low  "
      ]
     },
     "execution_count": 34,
     "metadata": {},
     "output_type": "execute_result"
    }
   ],
   "source": [
    "X.head(1)"
   ]
  },
  {
   "cell_type": "code",
   "execution_count": 35,
   "id": "68b40511",
   "metadata": {
    "execution": {
     "iopub.execute_input": "2025-02-14T16:22:43.140758Z",
     "iopub.status.busy": "2025-02-14T16:22:43.140471Z",
     "iopub.status.idle": "2025-02-14T16:22:43.147909Z",
     "shell.execute_reply": "2025-02-14T16:22:43.146777Z"
    },
    "executionInfo": {
     "elapsed": 56,
     "status": "ok",
     "timestamp": 1739544593857,
     "user": {
      "displayName": "Ishit Gehlot",
      "userId": "01473306695467736694"
     },
     "user_tz": -330
    },
    "id": "63gFrYg2QyAu",
    "papermill": {
     "duration": 0.026827,
     "end_time": "2025-02-14T16:22:43.149248",
     "exception": false,
     "start_time": "2025-02-14T16:22:43.122421",
     "status": "completed"
    },
    "tags": []
   },
   "outputs": [],
   "source": [
    "xtrain, xtest, ytrain, ytest = train_test_split(X,y, random_state=42, test_size=0.2)"
   ]
  },
  {
   "cell_type": "code",
   "execution_count": 36,
   "id": "4b64a918",
   "metadata": {
    "execution": {
     "iopub.execute_input": "2025-02-14T16:22:43.187013Z",
     "iopub.status.busy": "2025-02-14T16:22:43.186665Z",
     "iopub.status.idle": "2025-02-14T16:22:43.203167Z",
     "shell.execute_reply": "2025-02-14T16:22:43.201638Z"
    },
    "executionInfo": {
     "elapsed": 56,
     "status": "ok",
     "timestamp": 1739544593857,
     "user": {
      "displayName": "Ishit Gehlot",
      "userId": "01473306695467736694"
     },
     "user_tz": -330
    },
    "id": "naYwmywTgJKY",
    "outputId": "6036bb19-0271-4ab7-ec6a-c6ab095a72a3",
    "papermill": {
     "duration": 0.037221,
     "end_time": "2025-02-14T16:22:43.204665",
     "exception": false,
     "start_time": "2025-02-14T16:22:43.167444",
     "status": "completed"
    },
    "tags": []
   },
   "outputs": [
    {
     "name": "stdout",
     "output_type": "stream",
     "text": [
      "<class 'pandas.core.frame.DataFrame'>\n",
      "Index: 10656 entries, 3411 to 7270\n",
      "Data columns (total 10 columns):\n",
      " #   Column                  Non-Null Count  Dtype   \n",
      "---  ------                  --------------  -----   \n",
      " 0   area_type               10656 non-null  object  \n",
      " 1   availability            10656 non-null  object  \n",
      " 2   location                10656 non-null  object  \n",
      " 3   total_sqft              10656 non-null  int64   \n",
      " 4   bath                    10591 non-null  float64 \n",
      " 5   balcony                 10157 non-null  float64 \n",
      " 6   BHK                     10642 non-null  float64 \n",
      " 7   room_density            10642 non-null  float64 \n",
      " 8   avg_price_per_sqft_loc  10656 non-null  float64 \n",
      " 9   price_cat               10656 non-null  category\n",
      "dtypes: category(1), float64(5), int64(1), object(3)\n",
      "memory usage: 843.1+ KB\n"
     ]
    }
   ],
   "source": [
    "xtrain.info()"
   ]
  },
  {
   "cell_type": "markdown",
   "id": "105111e2",
   "metadata": {
    "id": "s2KSNmIq0xGN",
    "papermill": {
     "duration": 0.017492,
     "end_time": "2025-02-14T16:22:43.239761",
     "exception": false,
     "start_time": "2025-02-14T16:22:43.222269",
     "status": "completed"
    },
    "tags": []
   },
   "source": [
    "##**COLUMN TRANSFORMATION**"
   ]
  },
  {
   "cell_type": "code",
   "execution_count": 37,
   "id": "255bd761",
   "metadata": {
    "execution": {
     "iopub.execute_input": "2025-02-14T16:22:43.277144Z",
     "iopub.status.busy": "2025-02-14T16:22:43.276863Z",
     "iopub.status.idle": "2025-02-14T16:22:43.288169Z",
     "shell.execute_reply": "2025-02-14T16:22:43.287135Z"
    },
    "executionInfo": {
     "elapsed": 48,
     "status": "ok",
     "timestamp": 1739544593858,
     "user": {
      "displayName": "Ishit Gehlot",
      "userId": "01473306695467736694"
     },
     "user_tz": -330
    },
    "id": "Lw_1XAUZRa0c",
    "outputId": "5a9720e5-bf4a-458f-af99-5cf9c8d97f5e",
    "papermill": {
     "duration": 0.03195,
     "end_time": "2025-02-14T16:22:43.289514",
     "exception": false,
     "start_time": "2025-02-14T16:22:43.257564",
     "status": "completed"
    },
    "tags": []
   },
   "outputs": [
    {
     "name": "stdout",
     "output_type": "stream",
     "text": [
      "<class 'pandas.core.frame.DataFrame'>\n",
      "Index: 10656 entries, 3411 to 7270\n",
      "Data columns (total 10 columns):\n",
      " #   Column                  Non-Null Count  Dtype   \n",
      "---  ------                  --------------  -----   \n",
      " 0   area_type               10656 non-null  object  \n",
      " 1   availability            10656 non-null  object  \n",
      " 2   location                10656 non-null  object  \n",
      " 3   total_sqft              10656 non-null  int64   \n",
      " 4   bath                    10591 non-null  float64 \n",
      " 5   balcony                 10157 non-null  float64 \n",
      " 6   BHK                     10642 non-null  float64 \n",
      " 7   room_density            10642 non-null  float64 \n",
      " 8   avg_price_per_sqft_loc  10656 non-null  float64 \n",
      " 9   price_cat               10656 non-null  category\n",
      "dtypes: category(1), float64(5), int64(1), object(3)\n",
      "memory usage: 843.1+ KB\n"
     ]
    }
   ],
   "source": [
    "xtrain.info()"
   ]
  },
  {
   "cell_type": "code",
   "execution_count": 38,
   "id": "d6176c3d",
   "metadata": {
    "execution": {
     "iopub.execute_input": "2025-02-14T16:22:43.326281Z",
     "iopub.status.busy": "2025-02-14T16:22:43.326030Z",
     "iopub.status.idle": "2025-02-14T16:22:43.331763Z",
     "shell.execute_reply": "2025-02-14T16:22:43.330725Z"
    },
    "executionInfo": {
     "elapsed": 40,
     "status": "ok",
     "timestamp": 1739544593858,
     "user": {
      "displayName": "Ishit Gehlot",
      "userId": "01473306695467736694"
     },
     "user_tz": -330
    },
    "id": "X9RTZJ9w4eN7",
    "outputId": "236123c7-907c-48f0-cea5-8d86c0a635cb",
    "papermill": {
     "duration": 0.025497,
     "end_time": "2025-02-14T16:22:43.333056",
     "exception": false,
     "start_time": "2025-02-14T16:22:43.307559",
     "status": "completed"
    },
    "tags": []
   },
   "outputs": [
    {
     "data": {
      "text/plain": [
       "1"
      ]
     },
     "execution_count": 38,
     "metadata": {},
     "output_type": "execute_result"
    }
   ],
   "source": [
    "\"\"\"class OutlierRemoverIQR(BaseEstimator, TransformerMixin):\n",
    "\n",
    "  def __init__(self , col = None, threshold = 1.5, use_indices = False):\n",
    "    self.col = col\n",
    "    self.threshold = threshold\n",
    "    self.use_indices = use_indices\n",
    "    self.kept_indices_ = None\n",
    "\n",
    "\n",
    "  def fit(self , X , y = None):\n",
    "    X = pd.DataFrame(X)\n",
    "\n",
    "    if self.use_indices and self.col is not None:\n",
    "\n",
    "      self.col = [X.columns[i] for i in self.col]\n",
    "\n",
    "\n",
    "    if self.col is None:\n",
    "      self.col = X.select_dtypes(include=[np.number]).columns.tolist()\n",
    "\n",
    "    else:\n",
    "      self.col = [col for col in self.col if X[col].dtype in [np.float64, np.int64]]\n",
    "\n",
    "\n",
    "\n",
    "    self.Q1 = X[self.col].quantile(0.25)\n",
    "    self.Q3 = X[self.col].quantile(0.75)\n",
    "    self.IQR = self.Q3 - self.Q1\n",
    "\n",
    "    return self\n",
    "\n",
    "\n",
    "\n",
    "  def transform(self, X):\n",
    "\n",
    "    X = pd.DataFrame(X).copy()\n",
    "\n",
    "    mask = ((X[self.col] <= self.Q3 + self.threshold * self.IQR )\n",
    "             & (X[self.col] >= self.Q1 - self.threshold * self.IQR))\n",
    "    X_filtered = X[mask.all(axis=1)]\n",
    "    self.kept_indices_ = X_filtered.index\n",
    "    return X.reset_index(drop = True)\n",
    "\n",
    "\"\"\"\n",
    "1"
   ]
  },
  {
   "cell_type": "code",
   "execution_count": 39,
   "id": "a4d6b75b",
   "metadata": {
    "execution": {
     "iopub.execute_input": "2025-02-14T16:22:43.369234Z",
     "iopub.status.busy": "2025-02-14T16:22:43.368971Z",
     "iopub.status.idle": "2025-02-14T16:22:43.376029Z",
     "shell.execute_reply": "2025-02-14T16:22:43.374975Z"
    },
    "executionInfo": {
     "elapsed": 33,
     "status": "ok",
     "timestamp": 1739544593858,
     "user": {
      "displayName": "Ishit Gehlot",
      "userId": "01473306695467736694"
     },
     "user_tz": -330
    },
    "id": "FfU2GY_60qRf",
    "papermill": {
     "duration": 0.027444,
     "end_time": "2025-02-14T16:22:43.377730",
     "exception": false,
     "start_time": "2025-02-14T16:22:43.350286",
     "status": "completed"
    },
    "tags": []
   },
   "outputs": [],
   "source": [
    "class OutlierRemoverIQR(BaseEstimator, TransformerMixin):\n",
    "    def __init__(self, col=None, threshold=1.5, use_indices=False):\n",
    "        \"\"\"\n",
    "        Parameters:\n",
    "        - col: List of column names or indices to check for outliers.\n",
    "        - threshold: Multiplier for IQR to determine outlier bounds.\n",
    "        - use_indices: If True, treat `col` as column indices instead of names.\n",
    "        \"\"\"\n",
    "        self.col = col\n",
    "        self.threshold = threshold\n",
    "        self.use_indices = use_indices\n",
    "        self.Q1 = None\n",
    "        self.Q3 = None\n",
    "        self.IQR = None\n",
    "        self.kept_indices_ = None  # Track indices of rows kept after outlier removal\n",
    "\n",
    "    def fit(self, X, y=None):\n",
    "        \"\"\"\n",
    "        Compute IQR bounds for outlier detection.\n",
    "        \"\"\"\n",
    "        X = pd.DataFrame(X)\n",
    "\n",
    "        # Convert column indices to names if use_indices is True\n",
    "        if self.use_indices and self.col is not None:\n",
    "            self.col = [X.columns[i] for i in self.col]\n",
    "\n",
    "        # If no columns are specified, use all numeric columns\n",
    "        if self.col is None:\n",
    "            self.col = X.select_dtypes(include=[np.number]).columns.tolist()\n",
    "\n",
    "        # Compute Q1, Q3, and IQR for the specified columns\n",
    "        self.Q1 = X[self.col].quantile(0.05)\n",
    "        self.Q3 = X[self.col].quantile(0.95)\n",
    "        self.IQR = self.Q3 - self.Q1\n",
    "\n",
    "        return self\n",
    "\n",
    "    def transform(self, X):\n",
    "        \"\"\"\n",
    "        Remove rows containing outliers in any of the specified columns.\n",
    "        \"\"\"\n",
    "        X = pd.DataFrame(X).copy()\n",
    "\n",
    "        # Create a mask to identify rows without outliers\n",
    "        mask = np.ones(len(X), dtype=bool)  # Start with all rows included\n",
    "        for col in self.col:\n",
    "            col_mask = (\n",
    "                (X[col] >= self.Q1[col] - self.threshold * self.IQR[col]) &\n",
    "                (X[col] <= self.Q3[col] + self.threshold * self.IQR[col])\n",
    "            )\n",
    "            mask &= col_mask  # Keep rows that satisfy the condition for all columns\n",
    "\n",
    "        # Store the indices of the kept rows\n",
    "        self.kept_indices_ = X[mask].index\n",
    "\n",
    "        # Return the filtered DataFrame\n",
    "        return X[mask].reset_index(drop=True)"
   ]
  },
  {
   "cell_type": "code",
   "execution_count": 40,
   "id": "3304310a",
   "metadata": {
    "execution": {
     "iopub.execute_input": "2025-02-14T16:22:43.414890Z",
     "iopub.status.busy": "2025-02-14T16:22:43.414573Z",
     "iopub.status.idle": "2025-02-14T16:22:43.433782Z",
     "shell.execute_reply": "2025-02-14T16:22:43.432336Z"
    },
    "executionInfo": {
     "elapsed": 32,
     "status": "ok",
     "timestamp": 1739544593858,
     "user": {
      "displayName": "Ishit Gehlot",
      "userId": "01473306695467736694"
     },
     "user_tz": -330
    },
    "id": "Kx-5JxHD4lhX",
    "papermill": {
     "duration": 0.039784,
     "end_time": "2025-02-14T16:22:43.435372",
     "exception": false,
     "start_time": "2025-02-14T16:22:43.395588",
     "status": "completed"
    },
    "tags": []
   },
   "outputs": [
    {
     "name": "stderr",
     "output_type": "stream",
     "text": [
      "/usr/local/lib/python3.10/dist-packages/pandas/core/computation/expressions.py:73: RuntimeWarning: invalid value encountered in greater_equal\n",
      "  return op(a, b)\n",
      "/usr/local/lib/python3.10/dist-packages/pandas/core/computation/expressions.py:73: RuntimeWarning: invalid value encountered in less_equal\n",
      "  return op(a, b)\n"
     ]
    }
   ],
   "source": [
    "out_rem = OutlierRemoverIQR(col=['room_density', 'avg_price_per_sqft_loc', 'total_sqft'])\n",
    "xtrainfilt = out_rem.fit_transform(xtrain)\n",
    "y_train_filtered = ytrain.loc[out_rem.kept_indices_]"
   ]
  },
  {
   "cell_type": "code",
   "execution_count": 41,
   "id": "faeb37da",
   "metadata": {
    "execution": {
     "iopub.execute_input": "2025-02-14T16:22:43.474896Z",
     "iopub.status.busy": "2025-02-14T16:22:43.474594Z",
     "iopub.status.idle": "2025-02-14T16:22:43.484918Z",
     "shell.execute_reply": "2025-02-14T16:22:43.483808Z"
    },
    "executionInfo": {
     "elapsed": 32,
     "status": "ok",
     "timestamp": 1739544593859,
     "user": {
      "displayName": "Ishit Gehlot",
      "userId": "01473306695467736694"
     },
     "user_tz": -330
    },
    "id": "ZIuDCDf-O2gp",
    "outputId": "44965325-6330-41ab-88b7-c611d4073938",
    "papermill": {
     "duration": 0.03267,
     "end_time": "2025-02-14T16:22:43.486738",
     "exception": false,
     "start_time": "2025-02-14T16:22:43.454068",
     "status": "completed"
    },
    "tags": []
   },
   "outputs": [
    {
     "name": "stdout",
     "output_type": "stream",
     "text": [
      "<class 'pandas.core.frame.DataFrame'>\n",
      "RangeIndex: 10586 entries, 0 to 10585\n",
      "Data columns (total 10 columns):\n",
      " #   Column                  Non-Null Count  Dtype   \n",
      "---  ------                  --------------  -----   \n",
      " 0   area_type               10586 non-null  object  \n",
      " 1   availability            10586 non-null  object  \n",
      " 2   location                10586 non-null  object  \n",
      " 3   total_sqft              10586 non-null  int64   \n",
      " 4   bath                    10535 non-null  float64 \n",
      " 5   balcony                 10114 non-null  float64 \n",
      " 6   BHK                     10586 non-null  float64 \n",
      " 7   room_density            10586 non-null  float64 \n",
      " 8   avg_price_per_sqft_loc  10586 non-null  float64 \n",
      " 9   price_cat               10586 non-null  category\n",
      "dtypes: category(1), float64(5), int64(1), object(3)\n",
      "memory usage: 755.0+ KB\n"
     ]
    }
   ],
   "source": [
    "xtrainfilt.info()"
   ]
  },
  {
   "cell_type": "code",
   "execution_count": 42,
   "id": "e3e5d7a1",
   "metadata": {
    "execution": {
     "iopub.execute_input": "2025-02-14T16:22:43.525828Z",
     "iopub.status.busy": "2025-02-14T16:22:43.525556Z",
     "iopub.status.idle": "2025-02-14T16:22:43.529453Z",
     "shell.execute_reply": "2025-02-14T16:22:43.528419Z"
    },
    "executionInfo": {
     "elapsed": 25,
     "status": "ok",
     "timestamp": 1739544593859,
     "user": {
      "displayName": "Ishit Gehlot",
      "userId": "01473306695467736694"
     },
     "user_tz": -330
    },
    "id": "pN3WXUmOxR6D",
    "papermill": {
     "duration": 0.025472,
     "end_time": "2025-02-14T16:22:43.531034",
     "exception": false,
     "start_time": "2025-02-14T16:22:43.505562",
     "status": "completed"
    },
    "tags": []
   },
   "outputs": [],
   "source": [
    "import sklearn\n",
    "sklearn.set_config(transform_output=\"pandas\")"
   ]
  },
  {
   "cell_type": "code",
   "execution_count": 43,
   "id": "c8a2e66a",
   "metadata": {
    "execution": {
     "iopub.execute_input": "2025-02-14T16:22:43.568260Z",
     "iopub.status.busy": "2025-02-14T16:22:43.567978Z",
     "iopub.status.idle": "2025-02-14T16:22:43.572224Z",
     "shell.execute_reply": "2025-02-14T16:22:43.571208Z"
    },
    "executionInfo": {
     "elapsed": 24,
     "status": "ok",
     "timestamp": 1739544593859,
     "user": {
      "displayName": "Ishit Gehlot",
      "userId": "01473306695467736694"
     },
     "user_tz": -330
    },
    "id": "e7kb83fLQ8o5",
    "papermill": {
     "duration": 0.024893,
     "end_time": "2025-02-14T16:22:43.573837",
     "exception": false,
     "start_time": "2025-02-14T16:22:43.548944",
     "status": "completed"
    },
    "tags": []
   },
   "outputs": [],
   "source": [
    "impute = ColumnTransformer(\n",
    "     [\n",
    "        ('bath',KNNImputer(),[4]),\n",
    "         ('balcony', KNNImputer(),[5]),\n",
    "         ('BHK', KNNImputer(), [6]),\n",
    "         ('room_density', KNNImputer(), [7])\n",
    "\n",
    "    ]  , remainder = 'passthrough'\n",
    ")"
   ]
  },
  {
   "cell_type": "code",
   "execution_count": 44,
   "id": "795bc71f",
   "metadata": {
    "execution": {
     "iopub.execute_input": "2025-02-14T16:22:43.612216Z",
     "iopub.status.busy": "2025-02-14T16:22:43.611931Z",
     "iopub.status.idle": "2025-02-14T16:22:43.615444Z",
     "shell.execute_reply": "2025-02-14T16:22:43.614745Z"
    },
    "executionInfo": {
     "elapsed": 23,
     "status": "ok",
     "timestamp": 1739544593859,
     "user": {
      "displayName": "Ishit Gehlot",
      "userId": "01473306695467736694"
     },
     "user_tz": -330
    },
    "id": "ymzbT5_v7zS2",
    "papermill": {
     "duration": 0.023522,
     "end_time": "2025-02-14T16:22:43.616538",
     "exception": false,
     "start_time": "2025-02-14T16:22:43.593016",
     "status": "completed"
    },
    "tags": []
   },
   "outputs": [],
   "source": [
    "log_trf = ColumnTransformer([\n",
    "    ('log_trf',FunctionTransformer(func= np.log1p),[3,7,8])\n",
    "    ], remainder= 'passthrough')"
   ]
  },
  {
   "cell_type": "code",
   "execution_count": 45,
   "id": "ee128c71",
   "metadata": {
    "execution": {
     "iopub.execute_input": "2025-02-14T16:22:43.653871Z",
     "iopub.status.busy": "2025-02-14T16:22:43.653611Z",
     "iopub.status.idle": "2025-02-14T16:22:43.657923Z",
     "shell.execute_reply": "2025-02-14T16:22:43.657073Z"
    },
    "executionInfo": {
     "elapsed": 23,
     "status": "ok",
     "timestamp": 1739544593860,
     "user": {
      "displayName": "Ishit Gehlot",
      "userId": "01473306695467736694"
     },
     "user_tz": -330
    },
    "id": "TWNXSu4_Ut8z",
    "papermill": {
     "duration": 0.024755,
     "end_time": "2025-02-14T16:22:43.659066",
     "exception": false,
     "start_time": "2025-02-14T16:22:43.634311",
     "status": "completed"
    },
    "tags": []
   },
   "outputs": [],
   "source": [
    "encode = ColumnTransformer([\n",
    "    ('area_type', OneHotEncoder(drop='first',sparse_output = False, handle_unknown='infrequent_if_exist'),[6]),\n",
    "    ('location' , OneHotEncoder(drop='first',sparse_output=False, handle_unknown= 'infrequent_if_exist') , [8]),\n",
    "    ('price_cat', OneHotEncoder(drop='first',sparse_output=False , handle_unknown='infrequent_if_exist') , [9]),\n",
    "    ('availability', OneHotEncoder(drop='first',sparse_output=False, handle_unknown='infrequent_if_exist') , [7])\n",
    "] , remainder = 'passthrough')"
   ]
  },
  {
   "cell_type": "markdown",
   "id": "bed2b24a",
   "metadata": {
    "id": "tuFPWrpI1GdA",
    "papermill": {
     "duration": 0.017486,
     "end_time": "2025-02-14T16:22:43.694629",
     "exception": false,
     "start_time": "2025-02-14T16:22:43.677143",
     "status": "completed"
    },
    "tags": []
   },
   "source": [
    "##**PIPELINE**"
   ]
  },
  {
   "cell_type": "code",
   "execution_count": 46,
   "id": "b192fa32",
   "metadata": {
    "execution": {
     "iopub.execute_input": "2025-02-14T16:22:43.732389Z",
     "iopub.status.busy": "2025-02-14T16:22:43.732077Z",
     "iopub.status.idle": "2025-02-14T16:22:43.735970Z",
     "shell.execute_reply": "2025-02-14T16:22:43.734872Z"
    },
    "executionInfo": {
     "elapsed": 22,
     "status": "ok",
     "timestamp": 1739544593860,
     "user": {
      "displayName": "Ishit Gehlot",
      "userId": "01473306695467736694"
     },
     "user_tz": -330
    },
    "id": "RO3CT3h2W04g",
    "papermill": {
     "duration": 0.025015,
     "end_time": "2025-02-14T16:22:43.737568",
     "exception": false,
     "start_time": "2025-02-14T16:22:43.712553",
     "status": "completed"
    },
    "tags": []
   },
   "outputs": [],
   "source": [
    "pipe = Pipeline([\n",
    "    ('impute', impute),\n",
    "    ('log_trf', log_trf),\n",
    "    ('encode', encode),\n",
    "    ('model' , GradientBoostingRegressor())\n",
    "])\n"
   ]
  },
  {
   "cell_type": "code",
   "execution_count": 47,
   "id": "8572725b",
   "metadata": {
    "execution": {
     "iopub.execute_input": "2025-02-14T16:22:43.775548Z",
     "iopub.status.busy": "2025-02-14T16:22:43.775231Z",
     "iopub.status.idle": "2025-02-14T16:22:45.611229Z",
     "shell.execute_reply": "2025-02-14T16:22:45.610222Z"
    },
    "executionInfo": {
     "elapsed": 1903,
     "status": "ok",
     "timestamp": 1739544595741,
     "user": {
      "displayName": "Ishit Gehlot",
      "userId": "01473306695467736694"
     },
     "user_tz": -330
    },
    "id": "rywWXcfohfRy",
    "outputId": "6841142f-b15b-44e8-8ecd-61c1253d1840",
    "papermill": {
     "duration": 1.856869,
     "end_time": "2025-02-14T16:22:45.612744",
     "exception": false,
     "start_time": "2025-02-14T16:22:43.755875",
     "status": "completed"
    },
    "tags": []
   },
   "outputs": [
    {
     "data": {
      "text/html": [
       "<style>#sk-container-id-1 {color: black;background-color: white;}#sk-container-id-1 pre{padding: 0;}#sk-container-id-1 div.sk-toggleable {background-color: white;}#sk-container-id-1 label.sk-toggleable__label {cursor: pointer;display: block;width: 100%;margin-bottom: 0;padding: 0.3em;box-sizing: border-box;text-align: center;}#sk-container-id-1 label.sk-toggleable__label-arrow:before {content: \"▸\";float: left;margin-right: 0.25em;color: #696969;}#sk-container-id-1 label.sk-toggleable__label-arrow:hover:before {color: black;}#sk-container-id-1 div.sk-estimator:hover label.sk-toggleable__label-arrow:before {color: black;}#sk-container-id-1 div.sk-toggleable__content {max-height: 0;max-width: 0;overflow: hidden;text-align: left;background-color: #f0f8ff;}#sk-container-id-1 div.sk-toggleable__content pre {margin: 0.2em;color: black;border-radius: 0.25em;background-color: #f0f8ff;}#sk-container-id-1 input.sk-toggleable__control:checked~div.sk-toggleable__content {max-height: 200px;max-width: 100%;overflow: auto;}#sk-container-id-1 input.sk-toggleable__control:checked~label.sk-toggleable__label-arrow:before {content: \"▾\";}#sk-container-id-1 div.sk-estimator input.sk-toggleable__control:checked~label.sk-toggleable__label {background-color: #d4ebff;}#sk-container-id-1 div.sk-label input.sk-toggleable__control:checked~label.sk-toggleable__label {background-color: #d4ebff;}#sk-container-id-1 input.sk-hidden--visually {border: 0;clip: rect(1px 1px 1px 1px);clip: rect(1px, 1px, 1px, 1px);height: 1px;margin: -1px;overflow: hidden;padding: 0;position: absolute;width: 1px;}#sk-container-id-1 div.sk-estimator {font-family: monospace;background-color: #f0f8ff;border: 1px dotted black;border-radius: 0.25em;box-sizing: border-box;margin-bottom: 0.5em;}#sk-container-id-1 div.sk-estimator:hover {background-color: #d4ebff;}#sk-container-id-1 div.sk-parallel-item::after {content: \"\";width: 100%;border-bottom: 1px solid gray;flex-grow: 1;}#sk-container-id-1 div.sk-label:hover label.sk-toggleable__label {background-color: #d4ebff;}#sk-container-id-1 div.sk-serial::before {content: \"\";position: absolute;border-left: 1px solid gray;box-sizing: border-box;top: 0;bottom: 0;left: 50%;z-index: 0;}#sk-container-id-1 div.sk-serial {display: flex;flex-direction: column;align-items: center;background-color: white;padding-right: 0.2em;padding-left: 0.2em;position: relative;}#sk-container-id-1 div.sk-item {position: relative;z-index: 1;}#sk-container-id-1 div.sk-parallel {display: flex;align-items: stretch;justify-content: center;background-color: white;position: relative;}#sk-container-id-1 div.sk-item::before, #sk-container-id-1 div.sk-parallel-item::before {content: \"\";position: absolute;border-left: 1px solid gray;box-sizing: border-box;top: 0;bottom: 0;left: 50%;z-index: -1;}#sk-container-id-1 div.sk-parallel-item {display: flex;flex-direction: column;z-index: 1;position: relative;background-color: white;}#sk-container-id-1 div.sk-parallel-item:first-child::after {align-self: flex-end;width: 50%;}#sk-container-id-1 div.sk-parallel-item:last-child::after {align-self: flex-start;width: 50%;}#sk-container-id-1 div.sk-parallel-item:only-child::after {width: 0;}#sk-container-id-1 div.sk-dashed-wrapped {border: 1px dashed gray;margin: 0 0.4em 0.5em 0.4em;box-sizing: border-box;padding-bottom: 0.4em;background-color: white;}#sk-container-id-1 div.sk-label label {font-family: monospace;font-weight: bold;display: inline-block;line-height: 1.2em;}#sk-container-id-1 div.sk-label-container {text-align: center;}#sk-container-id-1 div.sk-container {/* jupyter's `normalize.less` sets `[hidden] { display: none; }` but bootstrap.min.css set `[hidden] { display: none !important; }` so we also need the `!important` here to be able to override the default hidden behavior on the sphinx rendered scikit-learn.org. See: https://github.com/scikit-learn/scikit-learn/issues/21755 */display: inline-block !important;position: relative;}#sk-container-id-1 div.sk-text-repr-fallback {display: none;}</style><div id=\"sk-container-id-1\" class=\"sk-top-container\"><div class=\"sk-text-repr-fallback\"><pre>Pipeline(steps=[(&#x27;impute&#x27;,\n",
       "                 ColumnTransformer(remainder=&#x27;passthrough&#x27;,\n",
       "                                   transformers=[(&#x27;bath&#x27;, KNNImputer(), [4]),\n",
       "                                                 (&#x27;balcony&#x27;, KNNImputer(), [5]),\n",
       "                                                 (&#x27;BHK&#x27;, KNNImputer(), [6]),\n",
       "                                                 (&#x27;room_density&#x27;, KNNImputer(),\n",
       "                                                  [7])])),\n",
       "                (&#x27;log_trf&#x27;,\n",
       "                 ColumnTransformer(remainder=&#x27;passthrough&#x27;,\n",
       "                                   transformers=[(&#x27;log_trf&#x27;,\n",
       "                                                  FunctionTransformer(func=&lt;ufunc &#x27;log1p&#x27;&gt;),\n",
       "                                                  [3, 7, 8])])),\n",
       "                (&#x27;encode&#x27;,\n",
       "                 ColumnTran...\n",
       "                                                 (&#x27;location&#x27;,\n",
       "                                                  OneHotEncoder(drop=&#x27;first&#x27;,\n",
       "                                                                handle_unknown=&#x27;infrequent_if_exist&#x27;,\n",
       "                                                                sparse_output=False),\n",
       "                                                  [8]),\n",
       "                                                 (&#x27;price_cat&#x27;,\n",
       "                                                  OneHotEncoder(drop=&#x27;first&#x27;,\n",
       "                                                                handle_unknown=&#x27;infrequent_if_exist&#x27;,\n",
       "                                                                sparse_output=False),\n",
       "                                                  [9]),\n",
       "                                                 (&#x27;availability&#x27;,\n",
       "                                                  OneHotEncoder(drop=&#x27;first&#x27;,\n",
       "                                                                handle_unknown=&#x27;infrequent_if_exist&#x27;,\n",
       "                                                                sparse_output=False),\n",
       "                                                  [7])])),\n",
       "                (&#x27;model&#x27;, GradientBoostingRegressor())])</pre><b>In a Jupyter environment, please rerun this cell to show the HTML representation or trust the notebook. <br />On GitHub, the HTML representation is unable to render, please try loading this page with nbviewer.org.</b></div><div class=\"sk-container\" hidden><div class=\"sk-item sk-dashed-wrapped\"><div class=\"sk-label-container\"><div class=\"sk-label sk-toggleable\"><input class=\"sk-toggleable__control sk-hidden--visually\" id=\"sk-estimator-id-1\" type=\"checkbox\" ><label for=\"sk-estimator-id-1\" class=\"sk-toggleable__label sk-toggleable__label-arrow\">Pipeline</label><div class=\"sk-toggleable__content\"><pre>Pipeline(steps=[(&#x27;impute&#x27;,\n",
       "                 ColumnTransformer(remainder=&#x27;passthrough&#x27;,\n",
       "                                   transformers=[(&#x27;bath&#x27;, KNNImputer(), [4]),\n",
       "                                                 (&#x27;balcony&#x27;, KNNImputer(), [5]),\n",
       "                                                 (&#x27;BHK&#x27;, KNNImputer(), [6]),\n",
       "                                                 (&#x27;room_density&#x27;, KNNImputer(),\n",
       "                                                  [7])])),\n",
       "                (&#x27;log_trf&#x27;,\n",
       "                 ColumnTransformer(remainder=&#x27;passthrough&#x27;,\n",
       "                                   transformers=[(&#x27;log_trf&#x27;,\n",
       "                                                  FunctionTransformer(func=&lt;ufunc &#x27;log1p&#x27;&gt;),\n",
       "                                                  [3, 7, 8])])),\n",
       "                (&#x27;encode&#x27;,\n",
       "                 ColumnTran...\n",
       "                                                 (&#x27;location&#x27;,\n",
       "                                                  OneHotEncoder(drop=&#x27;first&#x27;,\n",
       "                                                                handle_unknown=&#x27;infrequent_if_exist&#x27;,\n",
       "                                                                sparse_output=False),\n",
       "                                                  [8]),\n",
       "                                                 (&#x27;price_cat&#x27;,\n",
       "                                                  OneHotEncoder(drop=&#x27;first&#x27;,\n",
       "                                                                handle_unknown=&#x27;infrequent_if_exist&#x27;,\n",
       "                                                                sparse_output=False),\n",
       "                                                  [9]),\n",
       "                                                 (&#x27;availability&#x27;,\n",
       "                                                  OneHotEncoder(drop=&#x27;first&#x27;,\n",
       "                                                                handle_unknown=&#x27;infrequent_if_exist&#x27;,\n",
       "                                                                sparse_output=False),\n",
       "                                                  [7])])),\n",
       "                (&#x27;model&#x27;, GradientBoostingRegressor())])</pre></div></div></div><div class=\"sk-serial\"><div class=\"sk-item sk-dashed-wrapped\"><div class=\"sk-label-container\"><div class=\"sk-label sk-toggleable\"><input class=\"sk-toggleable__control sk-hidden--visually\" id=\"sk-estimator-id-2\" type=\"checkbox\" ><label for=\"sk-estimator-id-2\" class=\"sk-toggleable__label sk-toggleable__label-arrow\">impute: ColumnTransformer</label><div class=\"sk-toggleable__content\"><pre>ColumnTransformer(remainder=&#x27;passthrough&#x27;,\n",
       "                  transformers=[(&#x27;bath&#x27;, KNNImputer(), [4]),\n",
       "                                (&#x27;balcony&#x27;, KNNImputer(), [5]),\n",
       "                                (&#x27;BHK&#x27;, KNNImputer(), [6]),\n",
       "                                (&#x27;room_density&#x27;, KNNImputer(), [7])])</pre></div></div></div><div class=\"sk-parallel\"><div class=\"sk-parallel-item\"><div class=\"sk-item\"><div class=\"sk-label-container\"><div class=\"sk-label sk-toggleable\"><input class=\"sk-toggleable__control sk-hidden--visually\" id=\"sk-estimator-id-3\" type=\"checkbox\" ><label for=\"sk-estimator-id-3\" class=\"sk-toggleable__label sk-toggleable__label-arrow\">bath</label><div class=\"sk-toggleable__content\"><pre>[4]</pre></div></div></div><div class=\"sk-serial\"><div class=\"sk-item\"><div class=\"sk-estimator sk-toggleable\"><input class=\"sk-toggleable__control sk-hidden--visually\" id=\"sk-estimator-id-4\" type=\"checkbox\" ><label for=\"sk-estimator-id-4\" class=\"sk-toggleable__label sk-toggleable__label-arrow\">KNNImputer</label><div class=\"sk-toggleable__content\"><pre>KNNImputer()</pre></div></div></div></div></div></div><div class=\"sk-parallel-item\"><div class=\"sk-item\"><div class=\"sk-label-container\"><div class=\"sk-label sk-toggleable\"><input class=\"sk-toggleable__control sk-hidden--visually\" id=\"sk-estimator-id-5\" type=\"checkbox\" ><label for=\"sk-estimator-id-5\" class=\"sk-toggleable__label sk-toggleable__label-arrow\">balcony</label><div class=\"sk-toggleable__content\"><pre>[5]</pre></div></div></div><div class=\"sk-serial\"><div class=\"sk-item\"><div class=\"sk-estimator sk-toggleable\"><input class=\"sk-toggleable__control sk-hidden--visually\" id=\"sk-estimator-id-6\" type=\"checkbox\" ><label for=\"sk-estimator-id-6\" class=\"sk-toggleable__label sk-toggleable__label-arrow\">KNNImputer</label><div class=\"sk-toggleable__content\"><pre>KNNImputer()</pre></div></div></div></div></div></div><div class=\"sk-parallel-item\"><div class=\"sk-item\"><div class=\"sk-label-container\"><div class=\"sk-label sk-toggleable\"><input class=\"sk-toggleable__control sk-hidden--visually\" id=\"sk-estimator-id-7\" type=\"checkbox\" ><label for=\"sk-estimator-id-7\" class=\"sk-toggleable__label sk-toggleable__label-arrow\">BHK</label><div class=\"sk-toggleable__content\"><pre>[6]</pre></div></div></div><div class=\"sk-serial\"><div class=\"sk-item\"><div class=\"sk-estimator sk-toggleable\"><input class=\"sk-toggleable__control sk-hidden--visually\" id=\"sk-estimator-id-8\" type=\"checkbox\" ><label for=\"sk-estimator-id-8\" class=\"sk-toggleable__label sk-toggleable__label-arrow\">KNNImputer</label><div class=\"sk-toggleable__content\"><pre>KNNImputer()</pre></div></div></div></div></div></div><div class=\"sk-parallel-item\"><div class=\"sk-item\"><div class=\"sk-label-container\"><div class=\"sk-label sk-toggleable\"><input class=\"sk-toggleable__control sk-hidden--visually\" id=\"sk-estimator-id-9\" type=\"checkbox\" ><label for=\"sk-estimator-id-9\" class=\"sk-toggleable__label sk-toggleable__label-arrow\">room_density</label><div class=\"sk-toggleable__content\"><pre>[7]</pre></div></div></div><div class=\"sk-serial\"><div class=\"sk-item\"><div class=\"sk-estimator sk-toggleable\"><input class=\"sk-toggleable__control sk-hidden--visually\" id=\"sk-estimator-id-10\" type=\"checkbox\" ><label for=\"sk-estimator-id-10\" class=\"sk-toggleable__label sk-toggleable__label-arrow\">KNNImputer</label><div class=\"sk-toggleable__content\"><pre>KNNImputer()</pre></div></div></div></div></div></div><div class=\"sk-parallel-item\"><div class=\"sk-item\"><div class=\"sk-label-container\"><div class=\"sk-label sk-toggleable\"><input class=\"sk-toggleable__control sk-hidden--visually\" id=\"sk-estimator-id-11\" type=\"checkbox\" ><label for=\"sk-estimator-id-11\" class=\"sk-toggleable__label sk-toggleable__label-arrow\">remainder</label><div class=\"sk-toggleable__content\"><pre>[&#x27;area_type&#x27;, &#x27;availability&#x27;, &#x27;location&#x27;, &#x27;total_sqft&#x27;, &#x27;avg_price_per_sqft_loc&#x27;, &#x27;price_cat&#x27;]</pre></div></div></div><div class=\"sk-serial\"><div class=\"sk-item\"><div class=\"sk-estimator sk-toggleable\"><input class=\"sk-toggleable__control sk-hidden--visually\" id=\"sk-estimator-id-12\" type=\"checkbox\" ><label for=\"sk-estimator-id-12\" class=\"sk-toggleable__label sk-toggleable__label-arrow\">passthrough</label><div class=\"sk-toggleable__content\"><pre>passthrough</pre></div></div></div></div></div></div></div></div><div class=\"sk-item sk-dashed-wrapped\"><div class=\"sk-label-container\"><div class=\"sk-label sk-toggleable\"><input class=\"sk-toggleable__control sk-hidden--visually\" id=\"sk-estimator-id-13\" type=\"checkbox\" ><label for=\"sk-estimator-id-13\" class=\"sk-toggleable__label sk-toggleable__label-arrow\">log_trf: ColumnTransformer</label><div class=\"sk-toggleable__content\"><pre>ColumnTransformer(remainder=&#x27;passthrough&#x27;,\n",
       "                  transformers=[(&#x27;log_trf&#x27;,\n",
       "                                 FunctionTransformer(func=&lt;ufunc &#x27;log1p&#x27;&gt;),\n",
       "                                 [3, 7, 8])])</pre></div></div></div><div class=\"sk-parallel\"><div class=\"sk-parallel-item\"><div class=\"sk-item\"><div class=\"sk-label-container\"><div class=\"sk-label sk-toggleable\"><input class=\"sk-toggleable__control sk-hidden--visually\" id=\"sk-estimator-id-14\" type=\"checkbox\" ><label for=\"sk-estimator-id-14\" class=\"sk-toggleable__label sk-toggleable__label-arrow\">log_trf</label><div class=\"sk-toggleable__content\"><pre>[3, 7, 8]</pre></div></div></div><div class=\"sk-serial\"><div class=\"sk-item\"><div class=\"sk-estimator sk-toggleable\"><input class=\"sk-toggleable__control sk-hidden--visually\" id=\"sk-estimator-id-15\" type=\"checkbox\" ><label for=\"sk-estimator-id-15\" class=\"sk-toggleable__label sk-toggleable__label-arrow\">FunctionTransformer</label><div class=\"sk-toggleable__content\"><pre>FunctionTransformer(func=&lt;ufunc &#x27;log1p&#x27;&gt;)</pre></div></div></div></div></div></div><div class=\"sk-parallel-item\"><div class=\"sk-item\"><div class=\"sk-label-container\"><div class=\"sk-label sk-toggleable\"><input class=\"sk-toggleable__control sk-hidden--visually\" id=\"sk-estimator-id-16\" type=\"checkbox\" ><label for=\"sk-estimator-id-16\" class=\"sk-toggleable__label sk-toggleable__label-arrow\">remainder</label><div class=\"sk-toggleable__content\"><pre>[&#x27;bath__bath&#x27;, &#x27;balcony__balcony&#x27;, &#x27;BHK__BHK&#x27;, &#x27;remainder__area_type&#x27;, &#x27;remainder__availability&#x27;, &#x27;remainder__location&#x27;, &#x27;remainder__price_cat&#x27;]</pre></div></div></div><div class=\"sk-serial\"><div class=\"sk-item\"><div class=\"sk-estimator sk-toggleable\"><input class=\"sk-toggleable__control sk-hidden--visually\" id=\"sk-estimator-id-17\" type=\"checkbox\" ><label for=\"sk-estimator-id-17\" class=\"sk-toggleable__label sk-toggleable__label-arrow\">passthrough</label><div class=\"sk-toggleable__content\"><pre>passthrough</pre></div></div></div></div></div></div></div></div><div class=\"sk-item sk-dashed-wrapped\"><div class=\"sk-label-container\"><div class=\"sk-label sk-toggleable\"><input class=\"sk-toggleable__control sk-hidden--visually\" id=\"sk-estimator-id-18\" type=\"checkbox\" ><label for=\"sk-estimator-id-18\" class=\"sk-toggleable__label sk-toggleable__label-arrow\">encode: ColumnTransformer</label><div class=\"sk-toggleable__content\"><pre>ColumnTransformer(remainder=&#x27;passthrough&#x27;,\n",
       "                  transformers=[(&#x27;area_type&#x27;,\n",
       "                                 OneHotEncoder(drop=&#x27;first&#x27;,\n",
       "                                               handle_unknown=&#x27;infrequent_if_exist&#x27;,\n",
       "                                               sparse_output=False),\n",
       "                                 [6]),\n",
       "                                (&#x27;location&#x27;,\n",
       "                                 OneHotEncoder(drop=&#x27;first&#x27;,\n",
       "                                               handle_unknown=&#x27;infrequent_if_exist&#x27;,\n",
       "                                               sparse_output=False),\n",
       "                                 [8]),\n",
       "                                (&#x27;price_cat&#x27;,\n",
       "                                 OneHotEncoder(drop=&#x27;first&#x27;,\n",
       "                                               handle_unknown=&#x27;infrequent_if_exist&#x27;,\n",
       "                                               sparse_output=False),\n",
       "                                 [9]),\n",
       "                                (&#x27;availability&#x27;,\n",
       "                                 OneHotEncoder(drop=&#x27;first&#x27;,\n",
       "                                               handle_unknown=&#x27;infrequent_if_exist&#x27;,\n",
       "                                               sparse_output=False),\n",
       "                                 [7])])</pre></div></div></div><div class=\"sk-parallel\"><div class=\"sk-parallel-item\"><div class=\"sk-item\"><div class=\"sk-label-container\"><div class=\"sk-label sk-toggleable\"><input class=\"sk-toggleable__control sk-hidden--visually\" id=\"sk-estimator-id-19\" type=\"checkbox\" ><label for=\"sk-estimator-id-19\" class=\"sk-toggleable__label sk-toggleable__label-arrow\">area_type</label><div class=\"sk-toggleable__content\"><pre>[6]</pre></div></div></div><div class=\"sk-serial\"><div class=\"sk-item\"><div class=\"sk-estimator sk-toggleable\"><input class=\"sk-toggleable__control sk-hidden--visually\" id=\"sk-estimator-id-20\" type=\"checkbox\" ><label for=\"sk-estimator-id-20\" class=\"sk-toggleable__label sk-toggleable__label-arrow\">OneHotEncoder</label><div class=\"sk-toggleable__content\"><pre>OneHotEncoder(drop=&#x27;first&#x27;, handle_unknown=&#x27;infrequent_if_exist&#x27;,\n",
       "              sparse_output=False)</pre></div></div></div></div></div></div><div class=\"sk-parallel-item\"><div class=\"sk-item\"><div class=\"sk-label-container\"><div class=\"sk-label sk-toggleable\"><input class=\"sk-toggleable__control sk-hidden--visually\" id=\"sk-estimator-id-21\" type=\"checkbox\" ><label for=\"sk-estimator-id-21\" class=\"sk-toggleable__label sk-toggleable__label-arrow\">location</label><div class=\"sk-toggleable__content\"><pre>[8]</pre></div></div></div><div class=\"sk-serial\"><div class=\"sk-item\"><div class=\"sk-estimator sk-toggleable\"><input class=\"sk-toggleable__control sk-hidden--visually\" id=\"sk-estimator-id-22\" type=\"checkbox\" ><label for=\"sk-estimator-id-22\" class=\"sk-toggleable__label sk-toggleable__label-arrow\">OneHotEncoder</label><div class=\"sk-toggleable__content\"><pre>OneHotEncoder(drop=&#x27;first&#x27;, handle_unknown=&#x27;infrequent_if_exist&#x27;,\n",
       "              sparse_output=False)</pre></div></div></div></div></div></div><div class=\"sk-parallel-item\"><div class=\"sk-item\"><div class=\"sk-label-container\"><div class=\"sk-label sk-toggleable\"><input class=\"sk-toggleable__control sk-hidden--visually\" id=\"sk-estimator-id-23\" type=\"checkbox\" ><label for=\"sk-estimator-id-23\" class=\"sk-toggleable__label sk-toggleable__label-arrow\">price_cat</label><div class=\"sk-toggleable__content\"><pre>[9]</pre></div></div></div><div class=\"sk-serial\"><div class=\"sk-item\"><div class=\"sk-estimator sk-toggleable\"><input class=\"sk-toggleable__control sk-hidden--visually\" id=\"sk-estimator-id-24\" type=\"checkbox\" ><label for=\"sk-estimator-id-24\" class=\"sk-toggleable__label sk-toggleable__label-arrow\">OneHotEncoder</label><div class=\"sk-toggleable__content\"><pre>OneHotEncoder(drop=&#x27;first&#x27;, handle_unknown=&#x27;infrequent_if_exist&#x27;,\n",
       "              sparse_output=False)</pre></div></div></div></div></div></div><div class=\"sk-parallel-item\"><div class=\"sk-item\"><div class=\"sk-label-container\"><div class=\"sk-label sk-toggleable\"><input class=\"sk-toggleable__control sk-hidden--visually\" id=\"sk-estimator-id-25\" type=\"checkbox\" ><label for=\"sk-estimator-id-25\" class=\"sk-toggleable__label sk-toggleable__label-arrow\">availability</label><div class=\"sk-toggleable__content\"><pre>[7]</pre></div></div></div><div class=\"sk-serial\"><div class=\"sk-item\"><div class=\"sk-estimator sk-toggleable\"><input class=\"sk-toggleable__control sk-hidden--visually\" id=\"sk-estimator-id-26\" type=\"checkbox\" ><label for=\"sk-estimator-id-26\" class=\"sk-toggleable__label sk-toggleable__label-arrow\">OneHotEncoder</label><div class=\"sk-toggleable__content\"><pre>OneHotEncoder(drop=&#x27;first&#x27;, handle_unknown=&#x27;infrequent_if_exist&#x27;,\n",
       "              sparse_output=False)</pre></div></div></div></div></div></div><div class=\"sk-parallel-item\"><div class=\"sk-item\"><div class=\"sk-label-container\"><div class=\"sk-label sk-toggleable\"><input class=\"sk-toggleable__control sk-hidden--visually\" id=\"sk-estimator-id-27\" type=\"checkbox\" ><label for=\"sk-estimator-id-27\" class=\"sk-toggleable__label sk-toggleable__label-arrow\">remainder</label><div class=\"sk-toggleable__content\"><pre>[&#x27;log_trf__room_density__room_density&#x27;, &#x27;log_trf__remainder__total_sqft&#x27;, &#x27;log_trf__remainder__avg_price_per_sqft_loc&#x27;, &#x27;remainder__bath__bath&#x27;, &#x27;remainder__balcony__balcony&#x27;, &#x27;remainder__BHK__BHK&#x27;]</pre></div></div></div><div class=\"sk-serial\"><div class=\"sk-item\"><div class=\"sk-estimator sk-toggleable\"><input class=\"sk-toggleable__control sk-hidden--visually\" id=\"sk-estimator-id-28\" type=\"checkbox\" ><label for=\"sk-estimator-id-28\" class=\"sk-toggleable__label sk-toggleable__label-arrow\">passthrough</label><div class=\"sk-toggleable__content\"><pre>passthrough</pre></div></div></div></div></div></div></div></div><div class=\"sk-item\"><div class=\"sk-estimator sk-toggleable\"><input class=\"sk-toggleable__control sk-hidden--visually\" id=\"sk-estimator-id-29\" type=\"checkbox\" ><label for=\"sk-estimator-id-29\" class=\"sk-toggleable__label sk-toggleable__label-arrow\">GradientBoostingRegressor</label><div class=\"sk-toggleable__content\"><pre>GradientBoostingRegressor()</pre></div></div></div></div></div></div></div>"
      ],
      "text/plain": [
       "Pipeline(steps=[('impute',\n",
       "                 ColumnTransformer(remainder='passthrough',\n",
       "                                   transformers=[('bath', KNNImputer(), [4]),\n",
       "                                                 ('balcony', KNNImputer(), [5]),\n",
       "                                                 ('BHK', KNNImputer(), [6]),\n",
       "                                                 ('room_density', KNNImputer(),\n",
       "                                                  [7])])),\n",
       "                ('log_trf',\n",
       "                 ColumnTransformer(remainder='passthrough',\n",
       "                                   transformers=[('log_trf',\n",
       "                                                  FunctionTransformer(func=<ufunc 'log1p'>),\n",
       "                                                  [3, 7, 8])])),\n",
       "                ('encode',\n",
       "                 ColumnTran...\n",
       "                                                 ('location',\n",
       "                                                  OneHotEncoder(drop='first',\n",
       "                                                                handle_unknown='infrequent_if_exist',\n",
       "                                                                sparse_output=False),\n",
       "                                                  [8]),\n",
       "                                                 ('price_cat',\n",
       "                                                  OneHotEncoder(drop='first',\n",
       "                                                                handle_unknown='infrequent_if_exist',\n",
       "                                                                sparse_output=False),\n",
       "                                                  [9]),\n",
       "                                                 ('availability',\n",
       "                                                  OneHotEncoder(drop='first',\n",
       "                                                                handle_unknown='infrequent_if_exist',\n",
       "                                                                sparse_output=False),\n",
       "                                                  [7])])),\n",
       "                ('model', GradientBoostingRegressor())])"
      ]
     },
     "execution_count": 47,
     "metadata": {},
     "output_type": "execute_result"
    }
   ],
   "source": [
    "pipe.fit(xtrain, ytrain)"
   ]
  },
  {
   "cell_type": "code",
   "execution_count": 48,
   "id": "f6876893",
   "metadata": {
    "execution": {
     "iopub.execute_input": "2025-02-14T16:22:45.651202Z",
     "iopub.status.busy": "2025-02-14T16:22:45.650895Z",
     "iopub.status.idle": "2025-02-14T16:22:45.729616Z",
     "shell.execute_reply": "2025-02-14T16:22:45.728697Z"
    },
    "executionInfo": {
     "elapsed": 17,
     "status": "ok",
     "timestamp": 1739544595742,
     "user": {
      "displayName": "Ishit Gehlot",
      "userId": "01473306695467736694"
     },
     "user_tz": -330
    },
    "id": "tV6dApWuUuMU",
    "papermill": {
     "duration": 0.099779,
     "end_time": "2025-02-14T16:22:45.731082",
     "exception": false,
     "start_time": "2025-02-14T16:22:45.631303",
     "status": "completed"
    },
    "tags": []
   },
   "outputs": [],
   "source": [
    "ypred = pipe.predict(xtest)"
   ]
  },
  {
   "cell_type": "code",
   "execution_count": 49,
   "id": "f65612b4",
   "metadata": {
    "execution": {
     "iopub.execute_input": "2025-02-14T16:22:45.769402Z",
     "iopub.status.busy": "2025-02-14T16:22:45.769098Z",
     "iopub.status.idle": "2025-02-14T16:22:45.774933Z",
     "shell.execute_reply": "2025-02-14T16:22:45.774060Z"
    },
    "executionInfo": {
     "elapsed": 16,
     "status": "ok",
     "timestamp": 1739544595742,
     "user": {
      "displayName": "Ishit Gehlot",
      "userId": "01473306695467736694"
     },
     "user_tz": -330
    },
    "id": "z0Iw5oDJV9rR",
    "outputId": "4a082359-01aa-4844-8ee4-d8198f8cf9a9",
    "papermill": {
     "duration": 0.026794,
     "end_time": "2025-02-14T16:22:45.776288",
     "exception": false,
     "start_time": "2025-02-14T16:22:45.749494",
     "status": "completed"
    },
    "tags": []
   },
   "outputs": [
    {
     "data": {
      "text/plain": [
       "0.8365204825345022"
      ]
     },
     "execution_count": 49,
     "metadata": {},
     "output_type": "execute_result"
    }
   ],
   "source": [
    "r2 = r2_score(ytest, ypred)\n",
    "r2"
   ]
  },
  {
   "cell_type": "code",
   "execution_count": 50,
   "id": "d3909be2",
   "metadata": {
    "execution": {
     "iopub.execute_input": "2025-02-14T16:22:45.814289Z",
     "iopub.status.busy": "2025-02-14T16:22:45.814030Z",
     "iopub.status.idle": "2025-02-14T16:22:54.774720Z",
     "shell.execute_reply": "2025-02-14T16:22:54.773550Z"
    },
    "executionInfo": {
     "elapsed": 14640,
     "status": "ok",
     "timestamp": 1739544610372,
     "user": {
      "displayName": "Ishit Gehlot",
      "userId": "01473306695467736694"
     },
     "user_tz": -330
    },
    "id": "XQnT7t7gYEHj",
    "outputId": "39a7b5f7-1b2d-48be-e252-e5d09559265e",
    "papermill": {
     "duration": 8.981567,
     "end_time": "2025-02-14T16:22:54.776209",
     "exception": false,
     "start_time": "2025-02-14T16:22:45.794642",
     "status": "completed"
    },
    "tags": []
   },
   "outputs": [
    {
     "name": "stdout",
     "output_type": "stream",
     "text": [
      "Cross-validated R² scores: [0.82083156 0.80692885 0.74621505 0.8359513  0.73036506]\n",
      "Mean R²: 0.7880583640818786\n"
     ]
    }
   ],
   "source": [
    "r2_scores = cross_val_score(pipe, X, y, cv=5, scoring='r2')\n",
    "print(f\"Cross-validated R² scores: {r2_scores}\")\n",
    "print(f\"Mean R²: {r2_scores.mean()}\")"
   ]
  },
  {
   "cell_type": "code",
   "execution_count": 51,
   "id": "e996f673",
   "metadata": {
    "execution": {
     "iopub.execute_input": "2025-02-14T16:22:54.815047Z",
     "iopub.status.busy": "2025-02-14T16:22:54.814768Z",
     "iopub.status.idle": "2025-02-14T16:22:54.819228Z",
     "shell.execute_reply": "2025-02-14T16:22:54.818360Z"
    },
    "executionInfo": {
     "elapsed": 100,
     "status": "ok",
     "timestamp": 1739544610372,
     "user": {
      "displayName": "Ishit Gehlot",
      "userId": "01473306695467736694"
     },
     "user_tz": -330
    },
    "id": "N6h5zcHb6XP-",
    "papermill": {
     "duration": 0.025443,
     "end_time": "2025-02-14T16:22:54.820309",
     "exception": false,
     "start_time": "2025-02-14T16:22:54.794866",
     "status": "completed"
    },
    "tags": []
   },
   "outputs": [],
   "source": [
    "samp = pd.DataFrame([['Plot Area'\t,'Dec'\t,'Electronic City Phase II',\t1056,\t2.0\t,1.0,\t2.0,\t528.0,\t3895.275610,\t'low']], columns = xtrain.columns)"
   ]
  },
  {
   "cell_type": "code",
   "execution_count": 52,
   "id": "470bd699",
   "metadata": {
    "execution": {
     "iopub.execute_input": "2025-02-14T16:22:54.859986Z",
     "iopub.status.busy": "2025-02-14T16:22:54.859617Z",
     "iopub.status.idle": "2025-02-14T16:22:54.884208Z",
     "shell.execute_reply": "2025-02-14T16:22:54.883105Z"
    },
    "executionInfo": {
     "elapsed": 100,
     "status": "ok",
     "timestamp": 1739544610373,
     "user": {
      "displayName": "Ishit Gehlot",
      "userId": "01473306695467736694"
     },
     "user_tz": -330
    },
    "id": "T2lv5uq62avD",
    "outputId": "c53a83d3-8d0f-4841-9287-0e22cbc6d056",
    "papermill": {
     "duration": 0.045244,
     "end_time": "2025-02-14T16:22:54.885436",
     "exception": false,
     "start_time": "2025-02-14T16:22:54.840192",
     "status": "completed"
    },
    "tags": []
   },
   "outputs": [
    {
     "name": "stderr",
     "output_type": "stream",
     "text": [
      "/usr/local/lib/python3.10/dist-packages/sklearn/preprocessing/_encoders.py:202: UserWarning: Found unknown categories in columns [0] during transform. These unknown categories will be encoded as all zeros\n",
      "  warnings.warn(\n"
     ]
    },
    {
     "data": {
      "text/plain": [
       "array([36.40669487])"
      ]
     },
     "execution_count": 52,
     "metadata": {},
     "output_type": "execute_result"
    }
   ],
   "source": [
    "pipe.predict(samp)"
   ]
  },
  {
   "cell_type": "markdown",
   "id": "3284aa5d",
   "metadata": {
    "id": "mzGrdG2Ke9yx",
    "papermill": {
     "duration": 0.022003,
     "end_time": "2025-02-14T16:22:54.926056",
     "exception": false,
     "start_time": "2025-02-14T16:22:54.904053",
     "status": "completed"
    },
    "tags": []
   },
   "source": [
    "#**NEW WAY FOR COLUMN TRANSFORMER PRESERVING INDICES**"
   ]
  },
  {
   "cell_type": "code",
   "execution_count": 53,
   "id": "51719708",
   "metadata": {
    "execution": {
     "iopub.execute_input": "2025-02-14T16:22:54.966551Z",
     "iopub.status.busy": "2025-02-14T16:22:54.966260Z",
     "iopub.status.idle": "2025-02-14T16:22:54.971109Z",
     "shell.execute_reply": "2025-02-14T16:22:54.970332Z"
    },
    "executionInfo": {
     "elapsed": 94,
     "status": "ok",
     "timestamp": 1739544610373,
     "user": {
      "displayName": "Ishit Gehlot",
      "userId": "01473306695467736694"
     },
     "user_tz": -330
    },
    "id": "h9HuMfj5e8rb",
    "papermill": {
     "duration": 0.025465,
     "end_time": "2025-02-14T16:22:54.972164",
     "exception": false,
     "start_time": "2025-02-14T16:22:54.946699",
     "status": "completed"
    },
    "tags": []
   },
   "outputs": [],
   "source": [
    "Xnew = df.drop(columns='price')\n",
    "ynew = df['price']"
   ]
  },
  {
   "cell_type": "code",
   "execution_count": 54,
   "id": "a22c41f8",
   "metadata": {
    "execution": {
     "iopub.execute_input": "2025-02-14T16:22:55.010976Z",
     "iopub.status.busy": "2025-02-14T16:22:55.010475Z",
     "iopub.status.idle": "2025-02-14T16:22:55.018650Z",
     "shell.execute_reply": "2025-02-14T16:22:55.017681Z"
    },
    "executionInfo": {
     "elapsed": 93,
     "status": "ok",
     "timestamp": 1739544610373,
     "user": {
      "displayName": "Ishit Gehlot",
      "userId": "01473306695467736694"
     },
     "user_tz": -330
    },
    "id": "ojdUzi2kgCie",
    "papermill": {
     "duration": 0.029471,
     "end_time": "2025-02-14T16:22:55.020328",
     "exception": false,
     "start_time": "2025-02-14T16:22:54.990857",
     "status": "completed"
    },
    "tags": []
   },
   "outputs": [],
   "source": [
    "X_train, X_test, Y_train, Y_test = train_test_split(Xnew, ynew , random_state=42, test_size=0.2)"
   ]
  },
  {
   "cell_type": "code",
   "execution_count": 55,
   "id": "cc42ac67",
   "metadata": {
    "execution": {
     "iopub.execute_input": "2025-02-14T16:22:55.058685Z",
     "iopub.status.busy": "2025-02-14T16:22:55.058388Z",
     "iopub.status.idle": "2025-02-14T16:22:55.068885Z",
     "shell.execute_reply": "2025-02-14T16:22:55.067849Z"
    },
    "executionInfo": {
     "elapsed": 93,
     "status": "ok",
     "timestamp": 1739544610374,
     "user": {
      "displayName": "Ishit Gehlot",
      "userId": "01473306695467736694"
     },
     "user_tz": -330
    },
    "id": "baPw9WmLw1vB",
    "outputId": "dcd853bf-34c4-40f9-87f5-84d2f39f885f",
    "papermill": {
     "duration": 0.03152,
     "end_time": "2025-02-14T16:22:55.070293",
     "exception": false,
     "start_time": "2025-02-14T16:22:55.038773",
     "status": "completed"
    },
    "tags": []
   },
   "outputs": [
    {
     "name": "stdout",
     "output_type": "stream",
     "text": [
      "<class 'pandas.core.frame.DataFrame'>\n",
      "Index: 10656 entries, 3411 to 7270\n",
      "Data columns (total 10 columns):\n",
      " #   Column                  Non-Null Count  Dtype   \n",
      "---  ------                  --------------  -----   \n",
      " 0   area_type               10656 non-null  object  \n",
      " 1   availability            10656 non-null  object  \n",
      " 2   location                10656 non-null  object  \n",
      " 3   total_sqft              10656 non-null  int64   \n",
      " 4   bath                    10591 non-null  float64 \n",
      " 5   balcony                 10157 non-null  float64 \n",
      " 6   BHK                     10642 non-null  float64 \n",
      " 7   room_density            10642 non-null  float64 \n",
      " 8   avg_price_per_sqft_loc  10656 non-null  float64 \n",
      " 9   price_cat               10656 non-null  category\n",
      "dtypes: category(1), float64(5), int64(1), object(3)\n",
      "memory usage: 843.1+ KB\n"
     ]
    }
   ],
   "source": [
    "xtrain.info()"
   ]
  },
  {
   "cell_type": "code",
   "execution_count": 56,
   "id": "6d05924b",
   "metadata": {
    "execution": {
     "iopub.execute_input": "2025-02-14T16:22:55.109579Z",
     "iopub.status.busy": "2025-02-14T16:22:55.109284Z",
     "iopub.status.idle": "2025-02-14T16:22:55.113799Z",
     "shell.execute_reply": "2025-02-14T16:22:55.112482Z"
    },
    "executionInfo": {
     "elapsed": 84,
     "status": "ok",
     "timestamp": 1739544610374,
     "user": {
      "displayName": "Ishit Gehlot",
      "userId": "01473306695467736694"
     },
     "user_tz": -330
    },
    "id": "117ln-C4gq-s",
    "papermill": {
     "duration": 0.025839,
     "end_time": "2025-02-14T16:22:55.115293",
     "exception": false,
     "start_time": "2025-02-14T16:22:55.089454",
     "status": "completed"
    },
    "tags": []
   },
   "outputs": [],
   "source": [
    "imputer = ColumnTransformer([\n",
    "    ('stat0123','passthrough', [0,1,2,3]),\n",
    "    ('knn4567', KNNImputer(), [4,5,6,7]),\n",
    "    ('stat89', 'passthrough', [8,9])\n",
    "], remainder='passthrough')"
   ]
  },
  {
   "cell_type": "code",
   "execution_count": 57,
   "id": "2e42b64c",
   "metadata": {
    "execution": {
     "iopub.execute_input": "2025-02-14T16:22:55.153299Z",
     "iopub.status.busy": "2025-02-14T16:22:55.153056Z",
     "iopub.status.idle": "2025-02-14T16:22:55.156926Z",
     "shell.execute_reply": "2025-02-14T16:22:55.156083Z"
    },
    "executionInfo": {
     "elapsed": 83,
     "status": "ok",
     "timestamp": 1739544610374,
     "user": {
      "displayName": "Ishit Gehlot",
      "userId": "01473306695467736694"
     },
     "user_tz": -330
    },
    "id": "6rBVPpNThb-T",
    "papermill": {
     "duration": 0.02401,
     "end_time": "2025-02-14T16:22:55.158042",
     "exception": false,
     "start_time": "2025-02-14T16:22:55.134032",
     "status": "completed"
    },
    "tags": []
   },
   "outputs": [],
   "source": [
    "oheEnc = ColumnTransformer([\n",
    "    ('ohe012', OneHotEncoder(drop='first', sparse_output=False, handle_unknown='ignore'), [0,1,2]),\n",
    "    ('stat345678', 'passthrough', [3,4,5,6,7,8]),\n",
    "    ('ohe9', OneHotEncoder(drop='first', sparse_output=False, handle_unknown='ignore'),[9])\n",
    "], remainder = 'passthrough')"
   ]
  },
  {
   "cell_type": "code",
   "execution_count": 58,
   "id": "fbdb0bdc",
   "metadata": {
    "execution": {
     "iopub.execute_input": "2025-02-14T16:22:55.197440Z",
     "iopub.status.busy": "2025-02-14T16:22:55.197131Z",
     "iopub.status.idle": "2025-02-14T16:22:55.202049Z",
     "shell.execute_reply": "2025-02-14T16:22:55.200755Z"
    },
    "executionInfo": {
     "elapsed": 83,
     "status": "ok",
     "timestamp": 1739544610375,
     "user": {
      "displayName": "Ishit Gehlot",
      "userId": "01473306695467736694"
     },
     "user_tz": -330
    },
    "id": "FYxTaCjHj8qO",
    "papermill": {
     "duration": 0.026575,
     "end_time": "2025-02-14T16:22:55.203774",
     "exception": false,
     "start_time": "2025-02-14T16:22:55.177199",
     "status": "completed"
    },
    "tags": []
   },
   "outputs": [],
   "source": [
    "logt = ColumnTransformer ([\n",
    "    ('stat012', 'passthrough', [0,1,2]),\n",
    "    ('log_trans3',FunctionTransformer(func= np.log1p), [3]),\n",
    "    ('stat456', 'passthrough', [4,5,6]),\n",
    "    ('log_trans78',FunctionTransformer(func= np.log1p), [7,8]),\n",
    "    ('stat9', 'passthrough', [9])\n",
    "], remainder= 'passthrough')"
   ]
  },
  {
   "cell_type": "code",
   "execution_count": 59,
   "id": "2bc26e05",
   "metadata": {
    "execution": {
     "iopub.execute_input": "2025-02-14T16:22:55.243329Z",
     "iopub.status.busy": "2025-02-14T16:22:55.243071Z",
     "iopub.status.idle": "2025-02-14T16:22:55.247512Z",
     "shell.execute_reply": "2025-02-14T16:22:55.246567Z"
    },
    "executionInfo": {
     "elapsed": 82,
     "status": "ok",
     "timestamp": 1739544610375,
     "user": {
      "displayName": "Ishit Gehlot",
      "userId": "01473306695467736694"
     },
     "user_tz": -330
    },
    "id": "AIOs6CrqhcEZ",
    "papermill": {
     "duration": 0.026489,
     "end_time": "2025-02-14T16:22:55.249334",
     "exception": false,
     "start_time": "2025-02-14T16:22:55.222845",
     "status": "completed"
    },
    "tags": []
   },
   "outputs": [],
   "source": [
    "scale = ColumnTransformer([\n",
    "    ('againstat012', 'passthrough', [0,1,2]),\n",
    "    ('scale3',MinMaxScaler(), [3]),\n",
    "    ('againstat456', 'passthrough', [4,5,6]),\n",
    "    ('scale78',MinMaxScaler(), [7,8]),\n",
    "    ('againstat9', 'passthrough', [9])\n",
    "], remainder= 'passthrough'\n",
    ")"
   ]
  },
  {
   "cell_type": "code",
   "execution_count": 60,
   "id": "7f2a006c",
   "metadata": {
    "execution": {
     "iopub.execute_input": "2025-02-14T16:22:55.287538Z",
     "iopub.status.busy": "2025-02-14T16:22:55.287220Z",
     "iopub.status.idle": "2025-02-14T16:22:55.291204Z",
     "shell.execute_reply": "2025-02-14T16:22:55.290316Z"
    },
    "executionInfo": {
     "elapsed": 81,
     "status": "ok",
     "timestamp": 1739544610375,
     "user": {
      "displayName": "Ishit Gehlot",
      "userId": "01473306695467736694"
     },
     "user_tz": -330
    },
    "id": "7TcckyqDwkU3",
    "papermill": {
     "duration": 0.024759,
     "end_time": "2025-02-14T16:22:55.292930",
     "exception": false,
     "start_time": "2025-02-14T16:22:55.268171",
     "status": "completed"
    },
    "tags": []
   },
   "outputs": [],
   "source": [
    "pipe2 = Pipeline([\n",
    "    ('imp', imputer),\n",
    "    ('enc', oheEnc),\n",
    "    ('log', logt),\n",
    "    ('scale', scale),\n",
    "    ('model', GradientBoostingRegressor())\n",
    "])"
   ]
  },
  {
   "cell_type": "code",
   "execution_count": 61,
   "id": "f6165e20",
   "metadata": {
    "execution": {
     "iopub.execute_input": "2025-02-14T16:22:55.332554Z",
     "iopub.status.busy": "2025-02-14T16:22:55.332229Z",
     "iopub.status.idle": "2025-02-14T16:22:57.213781Z",
     "shell.execute_reply": "2025-02-14T16:22:57.212899Z"
    },
    "executionInfo": {
     "elapsed": 2421,
     "status": "ok",
     "timestamp": 1739544612716,
     "user": {
      "displayName": "Ishit Gehlot",
      "userId": "01473306695467736694"
     },
     "user_tz": -330
    },
    "id": "CGp5Phz45i3u",
    "outputId": "a6dde208-d067-45be-9727-3adf898d51af",
    "papermill": {
     "duration": 1.902817,
     "end_time": "2025-02-14T16:22:57.215300",
     "exception": false,
     "start_time": "2025-02-14T16:22:55.312483",
     "status": "completed"
    },
    "tags": []
   },
   "outputs": [
    {
     "data": {
      "text/html": [
       "<style>#sk-container-id-2 {color: black;background-color: white;}#sk-container-id-2 pre{padding: 0;}#sk-container-id-2 div.sk-toggleable {background-color: white;}#sk-container-id-2 label.sk-toggleable__label {cursor: pointer;display: block;width: 100%;margin-bottom: 0;padding: 0.3em;box-sizing: border-box;text-align: center;}#sk-container-id-2 label.sk-toggleable__label-arrow:before {content: \"▸\";float: left;margin-right: 0.25em;color: #696969;}#sk-container-id-2 label.sk-toggleable__label-arrow:hover:before {color: black;}#sk-container-id-2 div.sk-estimator:hover label.sk-toggleable__label-arrow:before {color: black;}#sk-container-id-2 div.sk-toggleable__content {max-height: 0;max-width: 0;overflow: hidden;text-align: left;background-color: #f0f8ff;}#sk-container-id-2 div.sk-toggleable__content pre {margin: 0.2em;color: black;border-radius: 0.25em;background-color: #f0f8ff;}#sk-container-id-2 input.sk-toggleable__control:checked~div.sk-toggleable__content {max-height: 200px;max-width: 100%;overflow: auto;}#sk-container-id-2 input.sk-toggleable__control:checked~label.sk-toggleable__label-arrow:before {content: \"▾\";}#sk-container-id-2 div.sk-estimator input.sk-toggleable__control:checked~label.sk-toggleable__label {background-color: #d4ebff;}#sk-container-id-2 div.sk-label input.sk-toggleable__control:checked~label.sk-toggleable__label {background-color: #d4ebff;}#sk-container-id-2 input.sk-hidden--visually {border: 0;clip: rect(1px 1px 1px 1px);clip: rect(1px, 1px, 1px, 1px);height: 1px;margin: -1px;overflow: hidden;padding: 0;position: absolute;width: 1px;}#sk-container-id-2 div.sk-estimator {font-family: monospace;background-color: #f0f8ff;border: 1px dotted black;border-radius: 0.25em;box-sizing: border-box;margin-bottom: 0.5em;}#sk-container-id-2 div.sk-estimator:hover {background-color: #d4ebff;}#sk-container-id-2 div.sk-parallel-item::after {content: \"\";width: 100%;border-bottom: 1px solid gray;flex-grow: 1;}#sk-container-id-2 div.sk-label:hover label.sk-toggleable__label {background-color: #d4ebff;}#sk-container-id-2 div.sk-serial::before {content: \"\";position: absolute;border-left: 1px solid gray;box-sizing: border-box;top: 0;bottom: 0;left: 50%;z-index: 0;}#sk-container-id-2 div.sk-serial {display: flex;flex-direction: column;align-items: center;background-color: white;padding-right: 0.2em;padding-left: 0.2em;position: relative;}#sk-container-id-2 div.sk-item {position: relative;z-index: 1;}#sk-container-id-2 div.sk-parallel {display: flex;align-items: stretch;justify-content: center;background-color: white;position: relative;}#sk-container-id-2 div.sk-item::before, #sk-container-id-2 div.sk-parallel-item::before {content: \"\";position: absolute;border-left: 1px solid gray;box-sizing: border-box;top: 0;bottom: 0;left: 50%;z-index: -1;}#sk-container-id-2 div.sk-parallel-item {display: flex;flex-direction: column;z-index: 1;position: relative;background-color: white;}#sk-container-id-2 div.sk-parallel-item:first-child::after {align-self: flex-end;width: 50%;}#sk-container-id-2 div.sk-parallel-item:last-child::after {align-self: flex-start;width: 50%;}#sk-container-id-2 div.sk-parallel-item:only-child::after {width: 0;}#sk-container-id-2 div.sk-dashed-wrapped {border: 1px dashed gray;margin: 0 0.4em 0.5em 0.4em;box-sizing: border-box;padding-bottom: 0.4em;background-color: white;}#sk-container-id-2 div.sk-label label {font-family: monospace;font-weight: bold;display: inline-block;line-height: 1.2em;}#sk-container-id-2 div.sk-label-container {text-align: center;}#sk-container-id-2 div.sk-container {/* jupyter's `normalize.less` sets `[hidden] { display: none; }` but bootstrap.min.css set `[hidden] { display: none !important; }` so we also need the `!important` here to be able to override the default hidden behavior on the sphinx rendered scikit-learn.org. See: https://github.com/scikit-learn/scikit-learn/issues/21755 */display: inline-block !important;position: relative;}#sk-container-id-2 div.sk-text-repr-fallback {display: none;}</style><div id=\"sk-container-id-2\" class=\"sk-top-container\"><div class=\"sk-text-repr-fallback\"><pre>Pipeline(steps=[(&#x27;imp&#x27;,\n",
       "                 ColumnTransformer(remainder=&#x27;passthrough&#x27;,\n",
       "                                   transformers=[(&#x27;stat0123&#x27;, &#x27;passthrough&#x27;,\n",
       "                                                  [0, 1, 2, 3]),\n",
       "                                                 (&#x27;knn4567&#x27;, KNNImputer(),\n",
       "                                                  [4, 5, 6, 7]),\n",
       "                                                 (&#x27;stat89&#x27;, &#x27;passthrough&#x27;,\n",
       "                                                  [8, 9])])),\n",
       "                (&#x27;enc&#x27;,\n",
       "                 ColumnTransformer(remainder=&#x27;passthrough&#x27;,\n",
       "                                   transformers=[(&#x27;ohe012&#x27;,\n",
       "                                                  OneHotEncoder(drop=&#x27;first&#x27;,\n",
       "                                                                handle_unknown=&#x27;ignore&#x27;,\n",
       "                                                                sparse_output=False),\n",
       "                                                  [0, 1, 2]),\n",
       "                                                 (&#x27;stat34567...\n",
       "                                                  FunctionTransformer(func=&lt;ufunc &#x27;log1p&#x27;&gt;),\n",
       "                                                  [7, 8]),\n",
       "                                                 (&#x27;stat9&#x27;, &#x27;passthrough&#x27;,\n",
       "                                                  [9])])),\n",
       "                (&#x27;scale&#x27;,\n",
       "                 ColumnTransformer(remainder=&#x27;passthrough&#x27;,\n",
       "                                   transformers=[(&#x27;againstat012&#x27;, &#x27;passthrough&#x27;,\n",
       "                                                  [0, 1, 2]),\n",
       "                                                 (&#x27;scale3&#x27;, MinMaxScaler(),\n",
       "                                                  [3]),\n",
       "                                                 (&#x27;againstat456&#x27;, &#x27;passthrough&#x27;,\n",
       "                                                  [4, 5, 6]),\n",
       "                                                 (&#x27;scale78&#x27;, MinMaxScaler(),\n",
       "                                                  [7, 8]),\n",
       "                                                 (&#x27;againstat9&#x27;, &#x27;passthrough&#x27;,\n",
       "                                                  [9])])),\n",
       "                (&#x27;model&#x27;, GradientBoostingRegressor())])</pre><b>In a Jupyter environment, please rerun this cell to show the HTML representation or trust the notebook. <br />On GitHub, the HTML representation is unable to render, please try loading this page with nbviewer.org.</b></div><div class=\"sk-container\" hidden><div class=\"sk-item sk-dashed-wrapped\"><div class=\"sk-label-container\"><div class=\"sk-label sk-toggleable\"><input class=\"sk-toggleable__control sk-hidden--visually\" id=\"sk-estimator-id-30\" type=\"checkbox\" ><label for=\"sk-estimator-id-30\" class=\"sk-toggleable__label sk-toggleable__label-arrow\">Pipeline</label><div class=\"sk-toggleable__content\"><pre>Pipeline(steps=[(&#x27;imp&#x27;,\n",
       "                 ColumnTransformer(remainder=&#x27;passthrough&#x27;,\n",
       "                                   transformers=[(&#x27;stat0123&#x27;, &#x27;passthrough&#x27;,\n",
       "                                                  [0, 1, 2, 3]),\n",
       "                                                 (&#x27;knn4567&#x27;, KNNImputer(),\n",
       "                                                  [4, 5, 6, 7]),\n",
       "                                                 (&#x27;stat89&#x27;, &#x27;passthrough&#x27;,\n",
       "                                                  [8, 9])])),\n",
       "                (&#x27;enc&#x27;,\n",
       "                 ColumnTransformer(remainder=&#x27;passthrough&#x27;,\n",
       "                                   transformers=[(&#x27;ohe012&#x27;,\n",
       "                                                  OneHotEncoder(drop=&#x27;first&#x27;,\n",
       "                                                                handle_unknown=&#x27;ignore&#x27;,\n",
       "                                                                sparse_output=False),\n",
       "                                                  [0, 1, 2]),\n",
       "                                                 (&#x27;stat34567...\n",
       "                                                  FunctionTransformer(func=&lt;ufunc &#x27;log1p&#x27;&gt;),\n",
       "                                                  [7, 8]),\n",
       "                                                 (&#x27;stat9&#x27;, &#x27;passthrough&#x27;,\n",
       "                                                  [9])])),\n",
       "                (&#x27;scale&#x27;,\n",
       "                 ColumnTransformer(remainder=&#x27;passthrough&#x27;,\n",
       "                                   transformers=[(&#x27;againstat012&#x27;, &#x27;passthrough&#x27;,\n",
       "                                                  [0, 1, 2]),\n",
       "                                                 (&#x27;scale3&#x27;, MinMaxScaler(),\n",
       "                                                  [3]),\n",
       "                                                 (&#x27;againstat456&#x27;, &#x27;passthrough&#x27;,\n",
       "                                                  [4, 5, 6]),\n",
       "                                                 (&#x27;scale78&#x27;, MinMaxScaler(),\n",
       "                                                  [7, 8]),\n",
       "                                                 (&#x27;againstat9&#x27;, &#x27;passthrough&#x27;,\n",
       "                                                  [9])])),\n",
       "                (&#x27;model&#x27;, GradientBoostingRegressor())])</pre></div></div></div><div class=\"sk-serial\"><div class=\"sk-item sk-dashed-wrapped\"><div class=\"sk-label-container\"><div class=\"sk-label sk-toggleable\"><input class=\"sk-toggleable__control sk-hidden--visually\" id=\"sk-estimator-id-31\" type=\"checkbox\" ><label for=\"sk-estimator-id-31\" class=\"sk-toggleable__label sk-toggleable__label-arrow\">imp: ColumnTransformer</label><div class=\"sk-toggleable__content\"><pre>ColumnTransformer(remainder=&#x27;passthrough&#x27;,\n",
       "                  transformers=[(&#x27;stat0123&#x27;, &#x27;passthrough&#x27;, [0, 1, 2, 3]),\n",
       "                                (&#x27;knn4567&#x27;, KNNImputer(), [4, 5, 6, 7]),\n",
       "                                (&#x27;stat89&#x27;, &#x27;passthrough&#x27;, [8, 9])])</pre></div></div></div><div class=\"sk-parallel\"><div class=\"sk-parallel-item\"><div class=\"sk-item\"><div class=\"sk-label-container\"><div class=\"sk-label sk-toggleable\"><input class=\"sk-toggleable__control sk-hidden--visually\" id=\"sk-estimator-id-32\" type=\"checkbox\" ><label for=\"sk-estimator-id-32\" class=\"sk-toggleable__label sk-toggleable__label-arrow\">stat0123</label><div class=\"sk-toggleable__content\"><pre>[0, 1, 2, 3]</pre></div></div></div><div class=\"sk-serial\"><div class=\"sk-item\"><div class=\"sk-estimator sk-toggleable\"><input class=\"sk-toggleable__control sk-hidden--visually\" id=\"sk-estimator-id-33\" type=\"checkbox\" ><label for=\"sk-estimator-id-33\" class=\"sk-toggleable__label sk-toggleable__label-arrow\">passthrough</label><div class=\"sk-toggleable__content\"><pre>passthrough</pre></div></div></div></div></div></div><div class=\"sk-parallel-item\"><div class=\"sk-item\"><div class=\"sk-label-container\"><div class=\"sk-label sk-toggleable\"><input class=\"sk-toggleable__control sk-hidden--visually\" id=\"sk-estimator-id-34\" type=\"checkbox\" ><label for=\"sk-estimator-id-34\" class=\"sk-toggleable__label sk-toggleable__label-arrow\">knn4567</label><div class=\"sk-toggleable__content\"><pre>[4, 5, 6, 7]</pre></div></div></div><div class=\"sk-serial\"><div class=\"sk-item\"><div class=\"sk-estimator sk-toggleable\"><input class=\"sk-toggleable__control sk-hidden--visually\" id=\"sk-estimator-id-35\" type=\"checkbox\" ><label for=\"sk-estimator-id-35\" class=\"sk-toggleable__label sk-toggleable__label-arrow\">KNNImputer</label><div class=\"sk-toggleable__content\"><pre>KNNImputer()</pre></div></div></div></div></div></div><div class=\"sk-parallel-item\"><div class=\"sk-item\"><div class=\"sk-label-container\"><div class=\"sk-label sk-toggleable\"><input class=\"sk-toggleable__control sk-hidden--visually\" id=\"sk-estimator-id-36\" type=\"checkbox\" ><label for=\"sk-estimator-id-36\" class=\"sk-toggleable__label sk-toggleable__label-arrow\">stat89</label><div class=\"sk-toggleable__content\"><pre>[8, 9]</pre></div></div></div><div class=\"sk-serial\"><div class=\"sk-item\"><div class=\"sk-estimator sk-toggleable\"><input class=\"sk-toggleable__control sk-hidden--visually\" id=\"sk-estimator-id-37\" type=\"checkbox\" ><label for=\"sk-estimator-id-37\" class=\"sk-toggleable__label sk-toggleable__label-arrow\">passthrough</label><div class=\"sk-toggleable__content\"><pre>passthrough</pre></div></div></div></div></div></div><div class=\"sk-parallel-item\"><div class=\"sk-item\"><div class=\"sk-label-container\"><div class=\"sk-label sk-toggleable\"><input class=\"sk-toggleable__control sk-hidden--visually\" id=\"sk-estimator-id-38\" type=\"checkbox\" ><label for=\"sk-estimator-id-38\" class=\"sk-toggleable__label sk-toggleable__label-arrow\">remainder</label><div class=\"sk-toggleable__content\"><pre>[]</pre></div></div></div><div class=\"sk-serial\"><div class=\"sk-item\"><div class=\"sk-estimator sk-toggleable\"><input class=\"sk-toggleable__control sk-hidden--visually\" id=\"sk-estimator-id-39\" type=\"checkbox\" ><label for=\"sk-estimator-id-39\" class=\"sk-toggleable__label sk-toggleable__label-arrow\">passthrough</label><div class=\"sk-toggleable__content\"><pre>passthrough</pre></div></div></div></div></div></div></div></div><div class=\"sk-item sk-dashed-wrapped\"><div class=\"sk-label-container\"><div class=\"sk-label sk-toggleable\"><input class=\"sk-toggleable__control sk-hidden--visually\" id=\"sk-estimator-id-40\" type=\"checkbox\" ><label for=\"sk-estimator-id-40\" class=\"sk-toggleable__label sk-toggleable__label-arrow\">enc: ColumnTransformer</label><div class=\"sk-toggleable__content\"><pre>ColumnTransformer(remainder=&#x27;passthrough&#x27;,\n",
       "                  transformers=[(&#x27;ohe012&#x27;,\n",
       "                                 OneHotEncoder(drop=&#x27;first&#x27;,\n",
       "                                               handle_unknown=&#x27;ignore&#x27;,\n",
       "                                               sparse_output=False),\n",
       "                                 [0, 1, 2]),\n",
       "                                (&#x27;stat345678&#x27;, &#x27;passthrough&#x27;,\n",
       "                                 [3, 4, 5, 6, 7, 8]),\n",
       "                                (&#x27;ohe9&#x27;,\n",
       "                                 OneHotEncoder(drop=&#x27;first&#x27;,\n",
       "                                               handle_unknown=&#x27;ignore&#x27;,\n",
       "                                               sparse_output=False),\n",
       "                                 [9])])</pre></div></div></div><div class=\"sk-parallel\"><div class=\"sk-parallel-item\"><div class=\"sk-item\"><div class=\"sk-label-container\"><div class=\"sk-label sk-toggleable\"><input class=\"sk-toggleable__control sk-hidden--visually\" id=\"sk-estimator-id-41\" type=\"checkbox\" ><label for=\"sk-estimator-id-41\" class=\"sk-toggleable__label sk-toggleable__label-arrow\">ohe012</label><div class=\"sk-toggleable__content\"><pre>[0, 1, 2]</pre></div></div></div><div class=\"sk-serial\"><div class=\"sk-item\"><div class=\"sk-estimator sk-toggleable\"><input class=\"sk-toggleable__control sk-hidden--visually\" id=\"sk-estimator-id-42\" type=\"checkbox\" ><label for=\"sk-estimator-id-42\" class=\"sk-toggleable__label sk-toggleable__label-arrow\">OneHotEncoder</label><div class=\"sk-toggleable__content\"><pre>OneHotEncoder(drop=&#x27;first&#x27;, handle_unknown=&#x27;ignore&#x27;, sparse_output=False)</pre></div></div></div></div></div></div><div class=\"sk-parallel-item\"><div class=\"sk-item\"><div class=\"sk-label-container\"><div class=\"sk-label sk-toggleable\"><input class=\"sk-toggleable__control sk-hidden--visually\" id=\"sk-estimator-id-43\" type=\"checkbox\" ><label for=\"sk-estimator-id-43\" class=\"sk-toggleable__label sk-toggleable__label-arrow\">stat345678</label><div class=\"sk-toggleable__content\"><pre>[3, 4, 5, 6, 7, 8]</pre></div></div></div><div class=\"sk-serial\"><div class=\"sk-item\"><div class=\"sk-estimator sk-toggleable\"><input class=\"sk-toggleable__control sk-hidden--visually\" id=\"sk-estimator-id-44\" type=\"checkbox\" ><label for=\"sk-estimator-id-44\" class=\"sk-toggleable__label sk-toggleable__label-arrow\">passthrough</label><div class=\"sk-toggleable__content\"><pre>passthrough</pre></div></div></div></div></div></div><div class=\"sk-parallel-item\"><div class=\"sk-item\"><div class=\"sk-label-container\"><div class=\"sk-label sk-toggleable\"><input class=\"sk-toggleable__control sk-hidden--visually\" id=\"sk-estimator-id-45\" type=\"checkbox\" ><label for=\"sk-estimator-id-45\" class=\"sk-toggleable__label sk-toggleable__label-arrow\">ohe9</label><div class=\"sk-toggleable__content\"><pre>[9]</pre></div></div></div><div class=\"sk-serial\"><div class=\"sk-item\"><div class=\"sk-estimator sk-toggleable\"><input class=\"sk-toggleable__control sk-hidden--visually\" id=\"sk-estimator-id-46\" type=\"checkbox\" ><label for=\"sk-estimator-id-46\" class=\"sk-toggleable__label sk-toggleable__label-arrow\">OneHotEncoder</label><div class=\"sk-toggleable__content\"><pre>OneHotEncoder(drop=&#x27;first&#x27;, handle_unknown=&#x27;ignore&#x27;, sparse_output=False)</pre></div></div></div></div></div></div><div class=\"sk-parallel-item\"><div class=\"sk-item\"><div class=\"sk-label-container\"><div class=\"sk-label sk-toggleable\"><input class=\"sk-toggleable__control sk-hidden--visually\" id=\"sk-estimator-id-47\" type=\"checkbox\" ><label for=\"sk-estimator-id-47\" class=\"sk-toggleable__label sk-toggleable__label-arrow\">remainder</label><div class=\"sk-toggleable__content\"><pre>[]</pre></div></div></div><div class=\"sk-serial\"><div class=\"sk-item\"><div class=\"sk-estimator sk-toggleable\"><input class=\"sk-toggleable__control sk-hidden--visually\" id=\"sk-estimator-id-48\" type=\"checkbox\" ><label for=\"sk-estimator-id-48\" class=\"sk-toggleable__label sk-toggleable__label-arrow\">passthrough</label><div class=\"sk-toggleable__content\"><pre>passthrough</pre></div></div></div></div></div></div></div></div><div class=\"sk-item sk-dashed-wrapped\"><div class=\"sk-label-container\"><div class=\"sk-label sk-toggleable\"><input class=\"sk-toggleable__control sk-hidden--visually\" id=\"sk-estimator-id-49\" type=\"checkbox\" ><label for=\"sk-estimator-id-49\" class=\"sk-toggleable__label sk-toggleable__label-arrow\">log: ColumnTransformer</label><div class=\"sk-toggleable__content\"><pre>ColumnTransformer(remainder=&#x27;passthrough&#x27;,\n",
       "                  transformers=[(&#x27;stat012&#x27;, &#x27;passthrough&#x27;, [0, 1, 2]),\n",
       "                                (&#x27;log_trans3&#x27;,\n",
       "                                 FunctionTransformer(func=&lt;ufunc &#x27;log1p&#x27;&gt;),\n",
       "                                 [3]),\n",
       "                                (&#x27;stat456&#x27;, &#x27;passthrough&#x27;, [4, 5, 6]),\n",
       "                                (&#x27;log_trans78&#x27;,\n",
       "                                 FunctionTransformer(func=&lt;ufunc &#x27;log1p&#x27;&gt;),\n",
       "                                 [7, 8]),\n",
       "                                (&#x27;stat9&#x27;, &#x27;passthrough&#x27;, [9])])</pre></div></div></div><div class=\"sk-parallel\"><div class=\"sk-parallel-item\"><div class=\"sk-item\"><div class=\"sk-label-container\"><div class=\"sk-label sk-toggleable\"><input class=\"sk-toggleable__control sk-hidden--visually\" id=\"sk-estimator-id-50\" type=\"checkbox\" ><label for=\"sk-estimator-id-50\" class=\"sk-toggleable__label sk-toggleable__label-arrow\">stat012</label><div class=\"sk-toggleable__content\"><pre>[0, 1, 2]</pre></div></div></div><div class=\"sk-serial\"><div class=\"sk-item\"><div class=\"sk-estimator sk-toggleable\"><input class=\"sk-toggleable__control sk-hidden--visually\" id=\"sk-estimator-id-51\" type=\"checkbox\" ><label for=\"sk-estimator-id-51\" class=\"sk-toggleable__label sk-toggleable__label-arrow\">passthrough</label><div class=\"sk-toggleable__content\"><pre>passthrough</pre></div></div></div></div></div></div><div class=\"sk-parallel-item\"><div class=\"sk-item\"><div class=\"sk-label-container\"><div class=\"sk-label sk-toggleable\"><input class=\"sk-toggleable__control sk-hidden--visually\" id=\"sk-estimator-id-52\" type=\"checkbox\" ><label for=\"sk-estimator-id-52\" class=\"sk-toggleable__label sk-toggleable__label-arrow\">log_trans3</label><div class=\"sk-toggleable__content\"><pre>[3]</pre></div></div></div><div class=\"sk-serial\"><div class=\"sk-item\"><div class=\"sk-estimator sk-toggleable\"><input class=\"sk-toggleable__control sk-hidden--visually\" id=\"sk-estimator-id-53\" type=\"checkbox\" ><label for=\"sk-estimator-id-53\" class=\"sk-toggleable__label sk-toggleable__label-arrow\">FunctionTransformer</label><div class=\"sk-toggleable__content\"><pre>FunctionTransformer(func=&lt;ufunc &#x27;log1p&#x27;&gt;)</pre></div></div></div></div></div></div><div class=\"sk-parallel-item\"><div class=\"sk-item\"><div class=\"sk-label-container\"><div class=\"sk-label sk-toggleable\"><input class=\"sk-toggleable__control sk-hidden--visually\" id=\"sk-estimator-id-54\" type=\"checkbox\" ><label for=\"sk-estimator-id-54\" class=\"sk-toggleable__label sk-toggleable__label-arrow\">stat456</label><div class=\"sk-toggleable__content\"><pre>[4, 5, 6]</pre></div></div></div><div class=\"sk-serial\"><div class=\"sk-item\"><div class=\"sk-estimator sk-toggleable\"><input class=\"sk-toggleable__control sk-hidden--visually\" id=\"sk-estimator-id-55\" type=\"checkbox\" ><label for=\"sk-estimator-id-55\" class=\"sk-toggleable__label sk-toggleable__label-arrow\">passthrough</label><div class=\"sk-toggleable__content\"><pre>passthrough</pre></div></div></div></div></div></div><div class=\"sk-parallel-item\"><div class=\"sk-item\"><div class=\"sk-label-container\"><div class=\"sk-label sk-toggleable\"><input class=\"sk-toggleable__control sk-hidden--visually\" id=\"sk-estimator-id-56\" type=\"checkbox\" ><label for=\"sk-estimator-id-56\" class=\"sk-toggleable__label sk-toggleable__label-arrow\">log_trans78</label><div class=\"sk-toggleable__content\"><pre>[7, 8]</pre></div></div></div><div class=\"sk-serial\"><div class=\"sk-item\"><div class=\"sk-estimator sk-toggleable\"><input class=\"sk-toggleable__control sk-hidden--visually\" id=\"sk-estimator-id-57\" type=\"checkbox\" ><label for=\"sk-estimator-id-57\" class=\"sk-toggleable__label sk-toggleable__label-arrow\">FunctionTransformer</label><div class=\"sk-toggleable__content\"><pre>FunctionTransformer(func=&lt;ufunc &#x27;log1p&#x27;&gt;)</pre></div></div></div></div></div></div><div class=\"sk-parallel-item\"><div class=\"sk-item\"><div class=\"sk-label-container\"><div class=\"sk-label sk-toggleable\"><input class=\"sk-toggleable__control sk-hidden--visually\" id=\"sk-estimator-id-58\" type=\"checkbox\" ><label for=\"sk-estimator-id-58\" class=\"sk-toggleable__label sk-toggleable__label-arrow\">stat9</label><div class=\"sk-toggleable__content\"><pre>[9]</pre></div></div></div><div class=\"sk-serial\"><div class=\"sk-item\"><div class=\"sk-estimator sk-toggleable\"><input class=\"sk-toggleable__control sk-hidden--visually\" id=\"sk-estimator-id-59\" type=\"checkbox\" ><label for=\"sk-estimator-id-59\" class=\"sk-toggleable__label sk-toggleable__label-arrow\">passthrough</label><div class=\"sk-toggleable__content\"><pre>passthrough</pre></div></div></div></div></div></div><div class=\"sk-parallel-item\"><div class=\"sk-item\"><div class=\"sk-label-container\"><div class=\"sk-label sk-toggleable\"><input class=\"sk-toggleable__control sk-hidden--visually\" id=\"sk-estimator-id-60\" type=\"checkbox\" ><label for=\"sk-estimator-id-60\" class=\"sk-toggleable__label sk-toggleable__label-arrow\">remainder</label><div class=\"sk-toggleable__content\"><pre>[&#x27;ohe012__stat0123__availability_other&#x27;, &#x27;ohe012__stat0123__location_8th Phase JP Nagar&#x27;, &#x27;ohe012__stat0123__location_Akshaya Nagar&#x27;, &#x27;ohe012__stat0123__location_Banashankari&#x27;, &#x27;ohe012__stat0123__location_Bannerghatta Road&#x27;, &#x27;ohe012__stat0123__location_Begur Road&#x27;, &#x27;ohe012__stat0123__location_Bellandur&#x27;, &#x27;ohe012__stat0123__location_Bisuvanahalli&#x27;, &#x27;ohe012__stat0123__location_Budigere&#x27;, &#x27;ohe012__stat0123__location_Chandapura&#x27;, &#x27;ohe012__stat0123__location_Electronic City&#x27;, &#x27;ohe012__stat0123__location_Electronic City Phase II&#x27;, &#x27;ohe012__stat0123__location_Electronics City Phase 1&#x27;, &#x27;ohe012__stat0123__location_HSR Layout&#x27;, &#x27;ohe012__stat0123__location_Haralur Road&#x27;, &#x27;ohe012__stat0123__location_Harlur&#x27;, &#x27;ohe012__stat0123__location_Hebbal&#x27;, &#x27;ohe012__stat0123__location_Hennur&#x27;, &#x27;ohe012__stat0123__location_Hennur Road&#x27;, &#x27;ohe012__stat0123__location_Hoodi&#x27;, &#x27;ohe012__stat0123__location_Hormavu&#x27;, &#x27;ohe012__stat0123__location_Hosa Road&#x27;, &#x27;ohe012__stat0123__location_Hulimavu&#x27;, &#x27;ohe012__stat0123__location_JP Nagar&#x27;, &#x27;ohe012__stat0123__location_Jakkur&#x27;, &#x27;ohe012__stat0123__location_Jalahalli&#x27;, &#x27;ohe012__stat0123__location_Jigani&#x27;, &#x27;ohe012__stat0123__location_KR Puram&#x27;, &#x27;ohe012__stat0123__location_Kaggadasapura&#x27;, &#x27;ohe012__stat0123__location_Kanakpura Road&#x27;, &#x27;ohe012__stat0123__location_Kasavanhalli&#x27;, &#x27;ohe012__stat0123__location_Kengeri&#x27;, &#x27;ohe012__stat0123__location_Koramangala&#x27;, &#x27;ohe012__stat0123__location_Kothanur&#x27;, &#x27;ohe012__stat0123__location_Malleshwaram&#x27;, &#x27;ohe012__stat0123__location_Marathahalli&#x27;, &#x27;ohe012__stat0123__location_Nagarbhavi&#x27;, &#x27;ohe012__stat0123__location_Old Madras Road&#x27;, &#x27;ohe012__stat0123__location_Panathur&#x27;, &#x27;ohe012__stat0123__location_Rachenahalli&#x27;, &#x27;ohe012__stat0123__location_Raja Rajeshwari Nagar&#x27;, &#x27;ohe012__stat0123__location_Rajaji Nagar&#x27;, &#x27;ohe012__stat0123__location_Ramamurthy Nagar&#x27;, &#x27;ohe012__stat0123__location_Sarjapur&#x27;, &#x27;ohe012__stat0123__location_Sarjapur  Road&#x27;, &#x27;ohe012__stat0123__location_TC Palaya&#x27;, &#x27;ohe012__stat0123__location_Thanisandra&#x27;, &#x27;ohe012__stat0123__location_Thigalarapalya&#x27;, &#x27;ohe012__stat0123__location_Uttarahalli&#x27;, &#x27;ohe012__stat0123__location_Varthur&#x27;, &#x27;ohe012__stat0123__location_Whitefield&#x27;, &#x27;ohe012__stat0123__location_Yelahanka&#x27;, &#x27;ohe012__stat0123__location_Yeshwanthpur&#x27;, &#x27;ohe012__stat0123__location_other&#x27;, &#x27;stat345678__stat0123__total_sqft&#x27;, &#x27;stat345678__knn4567__bath&#x27;, &#x27;stat345678__knn4567__balcony&#x27;, &#x27;stat345678__knn4567__BHK&#x27;, &#x27;stat345678__knn4567__room_density&#x27;, &#x27;stat345678__stat89__avg_price_per_sqft_loc&#x27;, &#x27;ohe9__stat89__price_cat_low&#x27;, &#x27;ohe9__stat89__price_cat_medium&#x27;, &#x27;ohe9__stat89__price_cat_very high&#x27;]</pre></div></div></div><div class=\"sk-serial\"><div class=\"sk-item\"><div class=\"sk-estimator sk-toggleable\"><input class=\"sk-toggleable__control sk-hidden--visually\" id=\"sk-estimator-id-61\" type=\"checkbox\" ><label for=\"sk-estimator-id-61\" class=\"sk-toggleable__label sk-toggleable__label-arrow\">passthrough</label><div class=\"sk-toggleable__content\"><pre>passthrough</pre></div></div></div></div></div></div></div></div><div class=\"sk-item sk-dashed-wrapped\"><div class=\"sk-label-container\"><div class=\"sk-label sk-toggleable\"><input class=\"sk-toggleable__control sk-hidden--visually\" id=\"sk-estimator-id-62\" type=\"checkbox\" ><label for=\"sk-estimator-id-62\" class=\"sk-toggleable__label sk-toggleable__label-arrow\">scale: ColumnTransformer</label><div class=\"sk-toggleable__content\"><pre>ColumnTransformer(remainder=&#x27;passthrough&#x27;,\n",
       "                  transformers=[(&#x27;againstat012&#x27;, &#x27;passthrough&#x27;, [0, 1, 2]),\n",
       "                                (&#x27;scale3&#x27;, MinMaxScaler(), [3]),\n",
       "                                (&#x27;againstat456&#x27;, &#x27;passthrough&#x27;, [4, 5, 6]),\n",
       "                                (&#x27;scale78&#x27;, MinMaxScaler(), [7, 8]),\n",
       "                                (&#x27;againstat9&#x27;, &#x27;passthrough&#x27;, [9])])</pre></div></div></div><div class=\"sk-parallel\"><div class=\"sk-parallel-item\"><div class=\"sk-item\"><div class=\"sk-label-container\"><div class=\"sk-label sk-toggleable\"><input class=\"sk-toggleable__control sk-hidden--visually\" id=\"sk-estimator-id-63\" type=\"checkbox\" ><label for=\"sk-estimator-id-63\" class=\"sk-toggleable__label sk-toggleable__label-arrow\">againstat012</label><div class=\"sk-toggleable__content\"><pre>[0, 1, 2]</pre></div></div></div><div class=\"sk-serial\"><div class=\"sk-item\"><div class=\"sk-estimator sk-toggleable\"><input class=\"sk-toggleable__control sk-hidden--visually\" id=\"sk-estimator-id-64\" type=\"checkbox\" ><label for=\"sk-estimator-id-64\" class=\"sk-toggleable__label sk-toggleable__label-arrow\">passthrough</label><div class=\"sk-toggleable__content\"><pre>passthrough</pre></div></div></div></div></div></div><div class=\"sk-parallel-item\"><div class=\"sk-item\"><div class=\"sk-label-container\"><div class=\"sk-label sk-toggleable\"><input class=\"sk-toggleable__control sk-hidden--visually\" id=\"sk-estimator-id-65\" type=\"checkbox\" ><label for=\"sk-estimator-id-65\" class=\"sk-toggleable__label sk-toggleable__label-arrow\">scale3</label><div class=\"sk-toggleable__content\"><pre>[3]</pre></div></div></div><div class=\"sk-serial\"><div class=\"sk-item\"><div class=\"sk-estimator sk-toggleable\"><input class=\"sk-toggleable__control sk-hidden--visually\" id=\"sk-estimator-id-66\" type=\"checkbox\" ><label for=\"sk-estimator-id-66\" class=\"sk-toggleable__label sk-toggleable__label-arrow\">MinMaxScaler</label><div class=\"sk-toggleable__content\"><pre>MinMaxScaler()</pre></div></div></div></div></div></div><div class=\"sk-parallel-item\"><div class=\"sk-item\"><div class=\"sk-label-container\"><div class=\"sk-label sk-toggleable\"><input class=\"sk-toggleable__control sk-hidden--visually\" id=\"sk-estimator-id-67\" type=\"checkbox\" ><label for=\"sk-estimator-id-67\" class=\"sk-toggleable__label sk-toggleable__label-arrow\">againstat456</label><div class=\"sk-toggleable__content\"><pre>[4, 5, 6]</pre></div></div></div><div class=\"sk-serial\"><div class=\"sk-item\"><div class=\"sk-estimator sk-toggleable\"><input class=\"sk-toggleable__control sk-hidden--visually\" id=\"sk-estimator-id-68\" type=\"checkbox\" ><label for=\"sk-estimator-id-68\" class=\"sk-toggleable__label sk-toggleable__label-arrow\">passthrough</label><div class=\"sk-toggleable__content\"><pre>passthrough</pre></div></div></div></div></div></div><div class=\"sk-parallel-item\"><div class=\"sk-item\"><div class=\"sk-label-container\"><div class=\"sk-label sk-toggleable\"><input class=\"sk-toggleable__control sk-hidden--visually\" id=\"sk-estimator-id-69\" type=\"checkbox\" ><label for=\"sk-estimator-id-69\" class=\"sk-toggleable__label sk-toggleable__label-arrow\">scale78</label><div class=\"sk-toggleable__content\"><pre>[7, 8]</pre></div></div></div><div class=\"sk-serial\"><div class=\"sk-item\"><div class=\"sk-estimator sk-toggleable\"><input class=\"sk-toggleable__control sk-hidden--visually\" id=\"sk-estimator-id-70\" type=\"checkbox\" ><label for=\"sk-estimator-id-70\" class=\"sk-toggleable__label sk-toggleable__label-arrow\">MinMaxScaler</label><div class=\"sk-toggleable__content\"><pre>MinMaxScaler()</pre></div></div></div></div></div></div><div class=\"sk-parallel-item\"><div class=\"sk-item\"><div class=\"sk-label-container\"><div class=\"sk-label sk-toggleable\"><input class=\"sk-toggleable__control sk-hidden--visually\" id=\"sk-estimator-id-71\" type=\"checkbox\" ><label for=\"sk-estimator-id-71\" class=\"sk-toggleable__label sk-toggleable__label-arrow\">againstat9</label><div class=\"sk-toggleable__content\"><pre>[9]</pre></div></div></div><div class=\"sk-serial\"><div class=\"sk-item\"><div class=\"sk-estimator sk-toggleable\"><input class=\"sk-toggleable__control sk-hidden--visually\" id=\"sk-estimator-id-72\" type=\"checkbox\" ><label for=\"sk-estimator-id-72\" class=\"sk-toggleable__label sk-toggleable__label-arrow\">passthrough</label><div class=\"sk-toggleable__content\"><pre>passthrough</pre></div></div></div></div></div></div><div class=\"sk-parallel-item\"><div class=\"sk-item\"><div class=\"sk-label-container\"><div class=\"sk-label sk-toggleable\"><input class=\"sk-toggleable__control sk-hidden--visually\" id=\"sk-estimator-id-73\" type=\"checkbox\" ><label for=\"sk-estimator-id-73\" class=\"sk-toggleable__label sk-toggleable__label-arrow\">remainder</label><div class=\"sk-toggleable__content\"><pre>[&#x27;remainder__ohe012__stat0123__availability_other&#x27;, &#x27;remainder__ohe012__stat0123__location_8th Phase JP Nagar&#x27;, &#x27;remainder__ohe012__stat0123__location_Akshaya Nagar&#x27;, &#x27;remainder__ohe012__stat0123__location_Banashankari&#x27;, &#x27;remainder__ohe012__stat0123__location_Bannerghatta Road&#x27;, &#x27;remainder__ohe012__stat0123__location_Begur Road&#x27;, &#x27;remainder__ohe012__stat0123__location_Bellandur&#x27;, &#x27;remainder__ohe012__stat0123__location_Bisuvanahalli&#x27;, &#x27;remainder__ohe012__stat0123__location_Budigere&#x27;, &#x27;remainder__ohe012__stat0123__location_Chandapura&#x27;, &#x27;remainder__ohe012__stat0123__location_Electronic City&#x27;, &#x27;remainder__ohe012__stat0123__location_Electronic City Phase II&#x27;, &#x27;remainder__ohe012__stat0123__location_Electronics City Phase 1&#x27;, &#x27;remainder__ohe012__stat0123__location_HSR Layout&#x27;, &#x27;remainder__ohe012__stat0123__location_Haralur Road&#x27;, &#x27;remainder__ohe012__stat0123__location_Harlur&#x27;, &#x27;remainder__ohe012__stat0123__location_Hebbal&#x27;, &#x27;remainder__ohe012__stat0123__location_Hennur&#x27;, &#x27;remainder__ohe012__stat0123__location_Hennur Road&#x27;, &#x27;remainder__ohe012__stat0123__location_Hoodi&#x27;, &#x27;remainder__ohe012__stat0123__location_Hormavu&#x27;, &#x27;remainder__ohe012__stat0123__location_Hosa Road&#x27;, &#x27;remainder__ohe012__stat0123__location_Hulimavu&#x27;, &#x27;remainder__ohe012__stat0123__location_JP Nagar&#x27;, &#x27;remainder__ohe012__stat0123__location_Jakkur&#x27;, &#x27;remainder__ohe012__stat0123__location_Jalahalli&#x27;, &#x27;remainder__ohe012__stat0123__location_Jigani&#x27;, &#x27;remainder__ohe012__stat0123__location_KR Puram&#x27;, &#x27;remainder__ohe012__stat0123__location_Kaggadasapura&#x27;, &#x27;remainder__ohe012__stat0123__location_Kanakpura Road&#x27;, &#x27;remainder__ohe012__stat0123__location_Kasavanhalli&#x27;, &#x27;remainder__ohe012__stat0123__location_Kengeri&#x27;, &#x27;remainder__ohe012__stat0123__location_Koramangala&#x27;, &#x27;remainder__ohe012__stat0123__location_Kothanur&#x27;, &#x27;remainder__ohe012__stat0123__location_Malleshwaram&#x27;, &#x27;remainder__ohe012__stat0123__location_Marathahalli&#x27;, &#x27;remainder__ohe012__stat0123__location_Nagarbhavi&#x27;, &#x27;remainder__ohe012__stat0123__location_Old Madras Road&#x27;, &#x27;remainder__ohe012__stat0123__location_Panathur&#x27;, &#x27;remainder__ohe012__stat0123__location_Rachenahalli&#x27;, &#x27;remainder__ohe012__stat0123__location_Raja Rajeshwari Nagar&#x27;, &#x27;remainder__ohe012__stat0123__location_Rajaji Nagar&#x27;, &#x27;remainder__ohe012__stat0123__location_Ramamurthy Nagar&#x27;, &#x27;remainder__ohe012__stat0123__location_Sarjapur&#x27;, &#x27;remainder__ohe012__stat0123__location_Sarjapur  Road&#x27;, &#x27;remainder__ohe012__stat0123__location_TC Palaya&#x27;, &#x27;remainder__ohe012__stat0123__location_Thanisandra&#x27;, &#x27;remainder__ohe012__stat0123__location_Thigalarapalya&#x27;, &#x27;remainder__ohe012__stat0123__location_Uttarahalli&#x27;, &#x27;remainder__ohe012__stat0123__location_Varthur&#x27;, &#x27;remainder__ohe012__stat0123__location_Whitefield&#x27;, &#x27;remainder__ohe012__stat0123__location_Yelahanka&#x27;, &#x27;remainder__ohe012__stat0123__location_Yeshwanthpur&#x27;, &#x27;remainder__ohe012__stat0123__location_other&#x27;, &#x27;remainder__stat345678__stat0123__total_sqft&#x27;, &#x27;remainder__stat345678__knn4567__bath&#x27;, &#x27;remainder__stat345678__knn4567__balcony&#x27;, &#x27;remainder__stat345678__knn4567__BHK&#x27;, &#x27;remainder__stat345678__knn4567__room_density&#x27;, &#x27;remainder__stat345678__stat89__avg_price_per_sqft_loc&#x27;, &#x27;remainder__ohe9__stat89__price_cat_low&#x27;, &#x27;remainder__ohe9__stat89__price_cat_medium&#x27;, &#x27;remainder__ohe9__stat89__price_cat_very high&#x27;]</pre></div></div></div><div class=\"sk-serial\"><div class=\"sk-item\"><div class=\"sk-estimator sk-toggleable\"><input class=\"sk-toggleable__control sk-hidden--visually\" id=\"sk-estimator-id-74\" type=\"checkbox\" ><label for=\"sk-estimator-id-74\" class=\"sk-toggleable__label sk-toggleable__label-arrow\">passthrough</label><div class=\"sk-toggleable__content\"><pre>passthrough</pre></div></div></div></div></div></div></div></div><div class=\"sk-item\"><div class=\"sk-estimator sk-toggleable\"><input class=\"sk-toggleable__control sk-hidden--visually\" id=\"sk-estimator-id-75\" type=\"checkbox\" ><label for=\"sk-estimator-id-75\" class=\"sk-toggleable__label sk-toggleable__label-arrow\">GradientBoostingRegressor</label><div class=\"sk-toggleable__content\"><pre>GradientBoostingRegressor()</pre></div></div></div></div></div></div></div>"
      ],
      "text/plain": [
       "Pipeline(steps=[('imp',\n",
       "                 ColumnTransformer(remainder='passthrough',\n",
       "                                   transformers=[('stat0123', 'passthrough',\n",
       "                                                  [0, 1, 2, 3]),\n",
       "                                                 ('knn4567', KNNImputer(),\n",
       "                                                  [4, 5, 6, 7]),\n",
       "                                                 ('stat89', 'passthrough',\n",
       "                                                  [8, 9])])),\n",
       "                ('enc',\n",
       "                 ColumnTransformer(remainder='passthrough',\n",
       "                                   transformers=[('ohe012',\n",
       "                                                  OneHotEncoder(drop='first',\n",
       "                                                                handle_unknown='ignore',\n",
       "                                                                sparse_output=False),\n",
       "                                                  [0, 1, 2]),\n",
       "                                                 ('stat34567...\n",
       "                                                  FunctionTransformer(func=<ufunc 'log1p'>),\n",
       "                                                  [7, 8]),\n",
       "                                                 ('stat9', 'passthrough',\n",
       "                                                  [9])])),\n",
       "                ('scale',\n",
       "                 ColumnTransformer(remainder='passthrough',\n",
       "                                   transformers=[('againstat012', 'passthrough',\n",
       "                                                  [0, 1, 2]),\n",
       "                                                 ('scale3', MinMaxScaler(),\n",
       "                                                  [3]),\n",
       "                                                 ('againstat456', 'passthrough',\n",
       "                                                  [4, 5, 6]),\n",
       "                                                 ('scale78', MinMaxScaler(),\n",
       "                                                  [7, 8]),\n",
       "                                                 ('againstat9', 'passthrough',\n",
       "                                                  [9])])),\n",
       "                ('model', GradientBoostingRegressor())])"
      ]
     },
     "execution_count": 61,
     "metadata": {},
     "output_type": "execute_result"
    }
   ],
   "source": [
    "pipe2.fit(X_train, Y_train)"
   ]
  },
  {
   "cell_type": "code",
   "execution_count": 62,
   "id": "184d34a1",
   "metadata": {
    "execution": {
     "iopub.execute_input": "2025-02-14T16:22:57.256546Z",
     "iopub.status.busy": "2025-02-14T16:22:57.256234Z",
     "iopub.status.idle": "2025-02-14T16:22:57.352270Z",
     "shell.execute_reply": "2025-02-14T16:22:57.351421Z"
    },
    "executionInfo": {
     "elapsed": 38,
     "status": "ok",
     "timestamp": 1739544612716,
     "user": {
      "displayName": "Ishit Gehlot",
      "userId": "01473306695467736694"
     },
     "user_tz": -330
    },
    "id": "J47KYyjo5ol0",
    "papermill": {
     "duration": 0.11852,
     "end_time": "2025-02-14T16:22:57.353850",
     "exception": false,
     "start_time": "2025-02-14T16:22:57.235330",
     "status": "completed"
    },
    "tags": []
   },
   "outputs": [],
   "source": [
    "yp = pipe2.predict(X_test)"
   ]
  },
  {
   "cell_type": "code",
   "execution_count": 63,
   "id": "506ed23c",
   "metadata": {
    "execution": {
     "iopub.execute_input": "2025-02-14T16:22:57.392878Z",
     "iopub.status.busy": "2025-02-14T16:22:57.392622Z",
     "iopub.status.idle": "2025-02-14T16:22:57.398794Z",
     "shell.execute_reply": "2025-02-14T16:22:57.397764Z"
    },
    "executionInfo": {
     "elapsed": 36,
     "status": "ok",
     "timestamp": 1739544612717,
     "user": {
      "displayName": "Ishit Gehlot",
      "userId": "01473306695467736694"
     },
     "user_tz": -330
    },
    "id": "bWSLKOXX5ufY",
    "outputId": "98afd7ba-6a60-4768-b58a-b7e9391477b9",
    "papermill": {
     "duration": 0.027216,
     "end_time": "2025-02-14T16:22:57.400328",
     "exception": false,
     "start_time": "2025-02-14T16:22:57.373112",
     "status": "completed"
    },
    "tags": []
   },
   "outputs": [
    {
     "data": {
      "text/plain": [
       "0.8326447019401659"
      ]
     },
     "execution_count": 63,
     "metadata": {},
     "output_type": "execute_result"
    }
   ],
   "source": [
    "rsq = r2_score(Y_test, yp)\n",
    "rsq"
   ]
  },
  {
   "cell_type": "code",
   "execution_count": 64,
   "id": "d6796d60",
   "metadata": {
    "execution": {
     "iopub.execute_input": "2025-02-14T16:22:57.441800Z",
     "iopub.status.busy": "2025-02-14T16:22:57.441538Z",
     "iopub.status.idle": "2025-02-14T16:22:57.446325Z",
     "shell.execute_reply": "2025-02-14T16:22:57.445184Z"
    },
    "executionInfo": {
     "elapsed": 31,
     "status": "ok",
     "timestamp": 1739544612717,
     "user": {
      "displayName": "Ishit Gehlot",
      "userId": "01473306695467736694"
     },
     "user_tz": -330
    },
    "id": "jHOPUVAB746_",
    "papermill": {
     "duration": 0.02754,
     "end_time": "2025-02-14T16:22:57.448077",
     "exception": false,
     "start_time": "2025-02-14T16:22:57.420537",
     "status": "completed"
    },
    "tags": []
   },
   "outputs": [],
   "source": [
    "samp = pd.DataFrame([['Super built-up Area' ,\t'Dec'\t,'Electronic City Phase II'\t,1056,2.0\t,1.0,2.0\t,528.0\t,3895.275610\t,'low']], columns= X_train.columns)"
   ]
  },
  {
   "cell_type": "code",
   "execution_count": 65,
   "id": "5ea8c5bb",
   "metadata": {
    "execution": {
     "iopub.execute_input": "2025-02-14T16:22:57.489654Z",
     "iopub.status.busy": "2025-02-14T16:22:57.489364Z",
     "iopub.status.idle": "2025-02-14T16:22:57.494007Z",
     "shell.execute_reply": "2025-02-14T16:22:57.493150Z"
    },
    "executionInfo": {
     "elapsed": 30,
     "status": "ok",
     "timestamp": 1739544612717,
     "user": {
      "displayName": "Ishit Gehlot",
      "userId": "01473306695467736694"
     },
     "user_tz": -330
    },
    "id": "1BKU9gQl1U3-",
    "papermill": {
     "duration": 0.027612,
     "end_time": "2025-02-14T16:22:57.495568",
     "exception": false,
     "start_time": "2025-02-14T16:22:57.467956",
     "status": "completed"
    },
    "tags": []
   },
   "outputs": [],
   "source": [
    "samp2 = pd.DataFrame({\n",
    "    'area_type': ['Super built-up'],\n",
    "    'availability': ['Dec'],\n",
    "    'location': ['Electronic City Phase II'],\n",
    "    'total_sqft': [1056],\n",
    "    'bath': [2],\n",
    "    'balcony': [1],\n",
    "    'BHK': [2],\n",
    "    'room_density': [528],\n",
    "    'avg_price_per_sqft_loc': [3895],\n",
    "    'price_cat': ['low']\n",
    "})"
   ]
  },
  {
   "cell_type": "code",
   "execution_count": 66,
   "id": "fb3bffbb",
   "metadata": {
    "execution": {
     "iopub.execute_input": "2025-02-14T16:22:57.536652Z",
     "iopub.status.busy": "2025-02-14T16:22:57.536340Z",
     "iopub.status.idle": "2025-02-14T16:22:57.560119Z",
     "shell.execute_reply": "2025-02-14T16:22:57.559155Z"
    },
    "executionInfo": {
     "elapsed": 29,
     "status": "ok",
     "timestamp": 1739544612717,
     "user": {
      "displayName": "Ishit Gehlot",
      "userId": "01473306695467736694"
     },
     "user_tz": -330
    },
    "id": "FDEUAq7P1wei",
    "outputId": "d7b0acd9-886c-4f7b-d132-f828425153c9",
    "papermill": {
     "duration": 0.045906,
     "end_time": "2025-02-14T16:22:57.561738",
     "exception": false,
     "start_time": "2025-02-14T16:22:57.515832",
     "status": "completed"
    },
    "tags": []
   },
   "outputs": [
    {
     "name": "stderr",
     "output_type": "stream",
     "text": [
      "/usr/local/lib/python3.10/dist-packages/sklearn/preprocessing/_encoders.py:202: UserWarning: Found unknown categories in columns [0] during transform. These unknown categories will be encoded as all zeros\n",
      "  warnings.warn(\n"
     ]
    },
    {
     "data": {
      "text/plain": [
       "array([37.59500262])"
      ]
     },
     "execution_count": 66,
     "metadata": {},
     "output_type": "execute_result"
    }
   ],
   "source": [
    "pipe2.predict(samp2)"
   ]
  },
  {
   "cell_type": "code",
   "execution_count": 67,
   "id": "47f13d66",
   "metadata": {
    "execution": {
     "iopub.execute_input": "2025-02-14T16:22:57.602383Z",
     "iopub.status.busy": "2025-02-14T16:22:57.602082Z",
     "iopub.status.idle": "2025-02-14T16:22:57.625869Z",
     "shell.execute_reply": "2025-02-14T16:22:57.624688Z"
    },
    "executionInfo": {
     "elapsed": 22,
     "status": "ok",
     "timestamp": 1739544612718,
     "user": {
      "displayName": "Ishit Gehlot",
      "userId": "01473306695467736694"
     },
     "user_tz": -330
    },
    "id": "CGl_MAp77rLU",
    "outputId": "a9e16e12-fd5b-483c-caf2-35d15d58bfbf",
    "papermill": {
     "duration": 0.045983,
     "end_time": "2025-02-14T16:22:57.627463",
     "exception": false,
     "start_time": "2025-02-14T16:22:57.581480",
     "status": "completed"
    },
    "tags": []
   },
   "outputs": [
    {
     "name": "stderr",
     "output_type": "stream",
     "text": [
      "/usr/local/lib/python3.10/dist-packages/sklearn/preprocessing/_encoders.py:202: UserWarning: Found unknown categories in columns [0] during transform. These unknown categories will be encoded as all zeros\n",
      "  warnings.warn(\n"
     ]
    },
    {
     "data": {
      "text/plain": [
       "37.59500262146859"
      ]
     },
     "execution_count": 67,
     "metadata": {},
     "output_type": "execute_result"
    }
   ],
   "source": [
    "pipe2.predict(samp)[0]"
   ]
  },
  {
   "cell_type": "code",
   "execution_count": 68,
   "id": "bc6b1daa",
   "metadata": {
    "execution": {
     "iopub.execute_input": "2025-02-14T16:22:57.668379Z",
     "iopub.status.busy": "2025-02-14T16:22:57.668044Z",
     "iopub.status.idle": "2025-02-14T16:23:06.690758Z",
     "shell.execute_reply": "2025-02-14T16:23:06.689457Z"
    },
    "executionInfo": {
     "elapsed": 13159,
     "status": "ok",
     "timestamp": 1739544625863,
     "user": {
      "displayName": "Ishit Gehlot",
      "userId": "01473306695467736694"
     },
     "user_tz": -330
    },
    "id": "PC2Q1clm8rIP",
    "outputId": "44f55042-80a6-454e-d0fe-ecc2deb118c1",
    "papermill": {
     "duration": 9.044862,
     "end_time": "2025-02-14T16:23:06.692172",
     "exception": false,
     "start_time": "2025-02-14T16:22:57.647310",
     "status": "completed"
    },
    "tags": []
   },
   "outputs": [
    {
     "name": "stdout",
     "output_type": "stream",
     "text": [
      "Cross-validated R² scores: [0.82144027 0.80570363 0.74727421 0.83463664 0.73276675]\n",
      "Mean R²: 0.7883642992881207\n"
     ]
    }
   ],
   "source": [
    "r2_scores = cross_val_score(pipe, X, y, cv=5, scoring='r2')\n",
    "print(f\"Cross-validated R² scores: {r2_scores}\")\n",
    "print(f\"Mean R²: {r2_scores.mean()}\")"
   ]
  },
  {
   "cell_type": "code",
   "execution_count": 69,
   "id": "9e657701",
   "metadata": {
    "execution": {
     "iopub.execute_input": "2025-02-14T16:23:06.739948Z",
     "iopub.status.busy": "2025-02-14T16:23:06.739693Z",
     "iopub.status.idle": "2025-02-14T16:23:06.743990Z",
     "shell.execute_reply": "2025-02-14T16:23:06.743103Z"
    },
    "executionInfo": {
     "elapsed": 52,
     "status": "ok",
     "timestamp": 1739544625864,
     "user": {
      "displayName": "Ishit Gehlot",
      "userId": "01473306695467736694"
     },
     "user_tz": -330
    },
    "id": "AISoEogYATqj",
    "papermill": {
     "duration": 0.026556,
     "end_time": "2025-02-14T16:23:06.745156",
     "exception": false,
     "start_time": "2025-02-14T16:23:06.718600",
     "status": "completed"
    },
    "tags": []
   },
   "outputs": [],
   "source": [
    "names = scale.get_feature_names_out()"
   ]
  },
  {
   "cell_type": "code",
   "execution_count": 70,
   "id": "8446a8cd",
   "metadata": {
    "execution": {
     "iopub.execute_input": "2025-02-14T16:23:06.786878Z",
     "iopub.status.busy": "2025-02-14T16:23:06.786557Z",
     "iopub.status.idle": "2025-02-14T16:23:06.790594Z",
     "shell.execute_reply": "2025-02-14T16:23:06.789813Z"
    },
    "executionInfo": {
     "elapsed": 51,
     "status": "ok",
     "timestamp": 1739544625864,
     "user": {
      "displayName": "Ishit Gehlot",
      "userId": "01473306695467736694"
     },
     "user_tz": -330
    },
    "id": "qx5JoHXa7tgO",
    "papermill": {
     "duration": 0.027057,
     "end_time": "2025-02-14T16:23:06.792203",
     "exception": false,
     "start_time": "2025-02-14T16:23:06.765146",
     "status": "completed"
    },
    "tags": []
   },
   "outputs": [],
   "source": [
    "x=df.groupby('location')"
   ]
  },
  {
   "cell_type": "code",
   "execution_count": 71,
   "id": "a5dba99c",
   "metadata": {
    "execution": {
     "iopub.execute_input": "2025-02-14T16:23:06.834290Z",
     "iopub.status.busy": "2025-02-14T16:23:06.833972Z",
     "iopub.status.idle": "2025-02-14T16:23:06.845966Z",
     "shell.execute_reply": "2025-02-14T16:23:06.844753Z"
    },
    "executionInfo": {
     "elapsed": 50,
     "status": "ok",
     "timestamp": 1739544625864,
     "user": {
      "displayName": "Ishit Gehlot",
      "userId": "01473306695467736694"
     },
     "user_tz": -330
    },
    "id": "DQVPkFp8797h",
    "outputId": "6b2bea72-18f4-4b98-ea6d-5715a64ecb45",
    "papermill": {
     "duration": 0.034766,
     "end_time": "2025-02-14T16:23:06.847661",
     "exception": false,
     "start_time": "2025-02-14T16:23:06.812895",
     "status": "completed"
    },
    "tags": []
   },
   "outputs": [
    {
     "data": {
      "text/plain": [
       "location\n",
       "7th Phase JP Nagar           14977.920\n",
       "8th Phase JP Nagar            4444.595\n",
       "Akshaya Nagar                 5291.400\n",
       "Banashankari                  8216.220\n",
       "Bannerghatta Road            14899.030\n",
       "Begur Road                    4886.550\n",
       "Bellandur                     8754.560\n",
       "Bisuvanahalli                 2127.980\n",
       "Budigere                      3774.805\n",
       "Chandapura                    3401.555\n",
       "Electronic City              16601.660\n",
       "Electronic City Phase II      6377.800\n",
       "Electronics City Phase 1      4848.960\n",
       "HSR Layout                    5309.000\n",
       "Haralur Road                 11759.610\n",
       "Harlur                        8680.160\n",
       "Hebbal                       28464.240\n",
       "Hennur                        4011.095\n",
       "Hennur Road                  15733.145\n",
       "Hoodi                         8065.220\n",
       "Hormavu                       5262.525\n",
       "Hosa Road                     5064.030\n",
       "Hulimavu                      4467.780\n",
       "JP Nagar                      9059.055\n",
       "Jakkur                        9577.920\n",
       "Jalahalli                     4895.945\n",
       "Jigani                        4037.190\n",
       "KR Puram                      7701.295\n",
       "Kaggadasapura                 3922.200\n",
       "Kanakpura Road               19255.725\n",
       "Kasavanhalli                  9315.560\n",
       "Kengeri                       4485.230\n",
       "Koramangala                  14685.050\n",
       "Kothanur                      6311.600\n",
       "Malleshwaram                 20779.300\n",
       "Marathahalli                 17887.400\n",
       "Nagarbhavi                    7662.200\n",
       "Old Madras Road               8449.780\n",
       "Panathur                      3777.400\n",
       "Rachenahalli                  4057.270\n",
       "Raja Rajeshwari Nagar        11066.100\n",
       "Rajaji Nagar                 35063.160\n",
       "Ramamurthy Nagar              6453.350\n",
       "Sarjapur                      7741.355\n",
       "Sarjapur  Road               47457.445\n",
       "TC Palaya                     4759.960\n",
       "Thanisandra                  19357.790\n",
       "Thigalarapalya                9577.530\n",
       "Uttarahalli                  11392.970\n",
       "Varthur                       4822.610\n",
       "Whitefield                   69126.655\n",
       "Yelahanka                    18339.015\n",
       "Yeshwanthpur                  8388.345\n",
       "other                       894547.900\n",
       "Name: price, dtype: float64"
      ]
     },
     "execution_count": 71,
     "metadata": {},
     "output_type": "execute_result"
    }
   ],
   "source": [
    "x['price'].sum()"
   ]
  },
  {
   "cell_type": "code",
   "execution_count": 72,
   "id": "c4eac787",
   "metadata": {
    "execution": {
     "iopub.execute_input": "2025-02-14T16:23:06.888412Z",
     "iopub.status.busy": "2025-02-14T16:23:06.888114Z",
     "iopub.status.idle": "2025-02-14T16:23:06.899175Z",
     "shell.execute_reply": "2025-02-14T16:23:06.898271Z"
    },
    "executionInfo": {
     "elapsed": 47,
     "status": "ok",
     "timestamp": 1739544625864,
     "user": {
      "displayName": "Ishit Gehlot",
      "userId": "01473306695467736694"
     },
     "user_tz": -330
    },
    "id": "oAZPNDTv6qWb",
    "papermill": {
     "duration": 0.033456,
     "end_time": "2025-02-14T16:23:06.900782",
     "exception": false,
     "start_time": "2025-02-14T16:23:06.867326",
     "status": "completed"
    },
    "tags": []
   },
   "outputs": [],
   "source": [
    "import pickle\n",
    "with open('model.pkl', 'wb') as file:\n",
    "  pickle.dump(pipe2, file)"
   ]
  }
 ],
 "metadata": {
  "colab": {
   "authorship_tag": "ABX9TyNSJ8ACNgVHjMDJ0xPTl2Do",
   "mount_file_id": "10KZoUeB3eOaQKiloVFatBuUtWk6l_zQX",
   "provenance": [],
   "toc_visible": true
  },
  "kaggle": {
   "accelerator": "none",
   "dataSources": [
    {
     "datasetId": 4592113,
     "sourceId": 7834562,
     "sourceType": "datasetVersion"
    }
   ],
   "dockerImageVersionId": 30886,
   "isGpuEnabled": false,
   "isInternetEnabled": true,
   "language": "python",
   "sourceType": "notebook"
  },
  "kernelspec": {
   "display_name": "Python 3",
   "language": "python",
   "name": "python3"
  },
  "language_info": {
   "codemirror_mode": {
    "name": "ipython",
    "version": 3
   },
   "file_extension": ".py",
   "mimetype": "text/x-python",
   "name": "python",
   "nbconvert_exporter": "python",
   "pygments_lexer": "ipython3",
   "version": "3.10.12"
  },
  "papermill": {
   "default_parameters": {},
   "duration": 33.771745,
   "end_time": "2025-02-14T16:23:07.640574",
   "environment_variables": {},
   "exception": null,
   "input_path": "__notebook__.ipynb",
   "output_path": "__notebook__.ipynb",
   "parameters": {},
   "start_time": "2025-02-14T16:22:33.868829",
   "version": "2.6.0"
  }
 },
 "nbformat": 4,
 "nbformat_minor": 5
}
